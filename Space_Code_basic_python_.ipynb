{
  "nbformat": 4,
  "nbformat_minor": 0,
  "metadata": {
    "colab": {
      "provenance": []
    },
    "kernelspec": {
      "name": "python3",
      "display_name": "Python 3"
    },
    "language_info": {
      "name": "python"
    }
  },
  "cells": [
    {
      "cell_type": "markdown",
      "source": [
        "# why python !"
      ],
      "metadata": {
        "id": "Sv8bEXi6yGqD"
      }
    },
    {
      "cell_type": "markdown",
      "source": [
        "![image](https://theyuvas.com/wp-content/uploads/2020/10/Why-learn-Python-Programming-language.jpg)"
      ],
      "metadata": {
        "id": "VPl-ArJSznOf"
      }
    },
    {
      "cell_type": "markdown",
      "source": [
        "- Easy to learn\n",
        "- Free and open source\n",
        "- interpreted language\n",
        "- Used in many domains : Web development - Data Science and Machine Learning - Scripting and Automation - Visualization\n",
        "- contains many libraries and packages that make code simple\n",
        "- OOP concept (class - object)"
      ],
      "metadata": {
        "id": "eFwUHj7PyVfJ"
      }
    },
    {
      "cell_type": "markdown",
      "source": [
        "# Open-source\n",
        "\n",
        "![image](https://miro.medium.com/v2/resize:fit:2760/0*69xnukVJ2bymu2Bx.png)\n",
        "\n",
        " the source code  is publicly available.\n",
        "\n",
        " This means anyone can:\n",
        "\n",
        "1- View the code to understand how it works.\n",
        "\n",
        "2- Modify the code to fix bugs, add features, or adapt it for their own purposes."
      ],
      "metadata": {
        "id": "HIleSIyH0YAV"
      }
    },
    {
      "cell_type": "markdown",
      "source": [
        "# Python used for\n",
        "![image](https://www.afternerd.com/blog/wp-content/uploads/2020/05/python-used-for.png)\n",
        "1- Artifical intelligence (Machine Learning - Deep learning - NLP ...)\n",
        "\n",
        "2- Web Development (Flask - Django )\n",
        "\n",
        "3- Games (pyGame)\n",
        "\n",
        "4- Web Scraping\n",
        "\n",
        "5- Hacking"
      ],
      "metadata": {
        "id": "7Esf8aFr1THb"
      }
    },
    {
      "cell_type": "markdown",
      "source": [
        "# IDE (text editor)\n",
        "\n",
        "1- Google colab\n",
        "\n",
        "2- vs code\n",
        "\n",
        "3- Pycharm\n",
        "\n",
        "4- Kaagle\n",
        "\n",
        "5- Jupiter Notebook\n",
        "\n"
      ],
      "metadata": {
        "id": "VOJYib7h2dt-"
      }
    },
    {
      "cell_type": "markdown",
      "source": [
        "# Interpreter vs Compiler\n",
        "![image](https://goglobalways.com/wp-content/uploads/2023/05/Compiler-vs-Interpreter.png)\n",
        "## Interpreter\n",
        "- Execution: Translates and executes code line by line\n",
        "\n",
        "## Compiler\n",
        "\n",
        "- Execution: Translates the entire program into machine code before execution."
      ],
      "metadata": {
        "id": "9cwABb143CPr"
      }
    },
    {
      "cell_type": "markdown",
      "source": [
        "# Let's start coding"
      ],
      "metadata": {
        "id": "rQ_YCFw23pBc"
      }
    },
    {
      "cell_type": "markdown",
      "source": [
        "## print statement"
      ],
      "metadata": {
        "id": "Ft9SRKac3ubu"
      }
    },
    {
      "cell_type": "code",
      "source": [
        "# print message using print statement\n",
        "print(\"Hello, World! \" )"
      ],
      "metadata": {
        "colab": {
          "base_uri": "https://localhost:8080/"
        },
        "id": "Qi6Zr6I2yIz6",
        "outputId": "c1055bf1-688e-4679-eab3-0617221d4a04"
      },
      "execution_count": null,
      "outputs": [
        {
          "output_type": "stream",
          "name": "stdout",
          "text": [
            "Hello, World!\n"
          ]
        }
      ]
    },
    {
      "cell_type": "code",
      "source": [
        "# print multiple messages using print statement in one line\n",
        "print(\"Hello World!\" , \"Do you know me \" , \"How are you \" , sep = \" \")"
      ],
      "metadata": {
        "colab": {
          "base_uri": "https://localhost:8080/"
        },
        "id": "Vm10Svs34Pi2",
        "outputId": "edcfb4fd-a05a-4e14-a255-1e28fe2292dd"
      },
      "execution_count": null,
      "outputs": [
        {
          "output_type": "stream",
          "name": "stdout",
          "text": [
            "Hello World! Do you know me  How are you \n"
          ]
        }
      ]
    },
    {
      "cell_type": "code",
      "source": [
        "# print multiple messages using print statement in one line (Specific Seperator)\n",
        "print(\"Hello World!\" , \"Do you know me \" , \"How are you \"  , sep=\" |=======| \")"
      ],
      "metadata": {
        "colab": {
          "base_uri": "https://localhost:8080/"
        },
        "id": "B-5efw8o4ev1",
        "outputId": "773395e8-9a8b-4baa-b3ec-260dbdea11a1"
      },
      "execution_count": null,
      "outputs": [
        {
          "output_type": "stream",
          "name": "stdout",
          "text": [
            "Hello World! |=======| Do you know me  |=======| How are you \n"
          ]
        }
      ]
    },
    {
      "cell_type": "code",
      "source": [
        "# print multiple messages using print statement in multiple lines\n",
        "print(\"Hello World!\")\n",
        "print( \"Do you know me \")\n",
        "print(\"How are you \")"
      ],
      "metadata": {
        "colab": {
          "base_uri": "https://localhost:8080/"
        },
        "id": "qfkH9XyC4nQ6",
        "outputId": "c1c3b8a3-e884-411c-e474-56c051136353"
      },
      "execution_count": 1,
      "outputs": [
        {
          "output_type": "stream",
          "name": "stdout",
          "text": [
            "Hello World!\n",
            "Do you know me \n",
            "How are you \n"
          ]
        }
      ]
    },
    {
      "cell_type": "code",
      "source": [
        "# print multiple messages using print statement in multiple lines (\\n new line )\n",
        "print(\"Hello World!\",'\\n',\"Do you know me \" ,'\\n', \"How are you \")"
      ],
      "metadata": {
        "colab": {
          "base_uri": "https://localhost:8080/"
        },
        "id": "fHZnqfkC5BXT",
        "outputId": "f1be5fd6-e5e8-4766-a2cc-2b50dc117710"
      },
      "execution_count": null,
      "outputs": [
        {
          "output_type": "stream",
          "name": "stdout",
          "text": [
            "Hello World! \n",
            " Do you know me  \n",
            " How are you \n"
          ]
        }
      ]
    },
    {
      "cell_type": "markdown",
      "source": [
        "*Note* : each print statement end with   (end = '\\n' )"
      ],
      "metadata": {
        "id": "7z4CmNIY5iEn"
      }
    },
    {
      "cell_type": "code",
      "source": [
        "print(\"Hello World!\" , end = ' ')\n",
        "print( \"Do you know me \")\n",
        "print(\"How are you \")"
      ],
      "metadata": {
        "colab": {
          "base_uri": "https://localhost:8080/"
        },
        "id": "FEs84jwp5PZc",
        "outputId": "74890fef-e04f-427f-db36-8ab134c50651"
      },
      "execution_count": null,
      "outputs": [
        {
          "output_type": "stream",
          "name": "stdout",
          "text": [
            "Hello World! Do you know me \n",
            "How are you \n"
          ]
        }
      ]
    },
    {
      "cell_type": "code",
      "source": [
        "# Using simicolon to seperate multiple code in one line\n",
        "print(\"Hello\") ; print(\"Hi\")"
      ],
      "metadata": {
        "colab": {
          "base_uri": "https://localhost:8080/"
        },
        "id": "DeBHn65y5435",
        "outputId": "3e738e0b-a863-4f7b-f084-d504af5f7863"
      },
      "execution_count": null,
      "outputs": [
        {
          "output_type": "stream",
          "name": "stdout",
          "text": [
            "Hello\n",
            "Hi\n"
          ]
        }
      ]
    },
    {
      "cell_type": "code",
      "source": [
        "# Try itself => use two print statment\n",
        "\n",
        "# Output: Loading... Done"
      ],
      "metadata": {
        "id": "dSkGEg3tOMxm"
      },
      "execution_count": null,
      "outputs": []
    },
    {
      "cell_type": "markdown",
      "source": [
        "# Comments in Python"
      ],
      "metadata": {
        "id": "W5PTp06H6YQS"
      }
    },
    {
      "cell_type": "markdown",
      "source": [
        "## 1. Single-Line Comments"
      ],
      "metadata": {
        "id": "US2loGYb6jOx"
      }
    },
    {
      "cell_type": "code",
      "source": [
        "# This is a single-line comment\n",
        "# Assigning 10 to variable x\n",
        "x = 10\n",
        "# print the value of x\n",
        "print(x)"
      ],
      "metadata": {
        "colab": {
          "base_uri": "https://localhost:8080/"
        },
        "id": "xRmUyLTU6Tjt",
        "outputId": "e61c69f8-9e8d-4e9e-b221-d0f4b11b3a72"
      },
      "execution_count": null,
      "outputs": [
        {
          "output_type": "stream",
          "name": "stdout",
          "text": [
            "10\n"
          ]
        }
      ]
    },
    {
      "cell_type": "markdown",
      "source": [
        "## 2- Multi-Line Comments (Docstrings)"
      ],
      "metadata": {
        "id": "pjade5Y265lj"
      }
    },
    {
      "cell_type": "code",
      "source": [
        "'''\n",
        "This is a multi-line comment\n",
        "using triple quotes.\n",
        "It spans multiple lines.\n",
        "'''\n",
        "print(\"Hello, World!\")"
      ],
      "metadata": {
        "colab": {
          "base_uri": "https://localhost:8080/"
        },
        "id": "Ln4lA2X76vdx",
        "outputId": "9a1a8ec5-a781-4b5f-d301-ff997ab2f95d"
      },
      "execution_count": null,
      "outputs": [
        {
          "output_type": "stream",
          "name": "stdout",
          "text": [
            "Hello, World!\n"
          ]
        }
      ]
    },
    {
      "cell_type": "code",
      "source": [
        "s= '''\n",
        "This is a multi-line comment\n",
        "using triple quotes.\n",
        "It spans multiple lines.\n",
        "'''\n",
        "\n",
        "type(s)"
      ],
      "metadata": {
        "colab": {
          "base_uri": "https://localhost:8080/"
        },
        "id": "_grnsSJJFI1w",
        "outputId": "46b0ec44-5d77-4af5-db76-d5c7640651e1"
      },
      "execution_count": null,
      "outputs": [
        {
          "output_type": "execute_result",
          "data": {
            "text/plain": [
              "str"
            ]
          },
          "metadata": {},
          "execution_count": 3
        }
      ]
    },
    {
      "cell_type": "markdown",
      "source": [
        "# Variables and data types"
      ],
      "metadata": {
        "id": "3zQh9f-cDXXV"
      }
    },
    {
      "cell_type": "markdown",
      "source": [
        "## Numeric Data Types\n",
        "### 1-  Integer (int)"
      ],
      "metadata": {
        "id": "hzSrRRDMDcK1"
      }
    },
    {
      "cell_type": "code",
      "source": [
        "a = 10       # Positive integer\n",
        "b = -5       # Negative integer\n",
        "print(a , b)"
      ],
      "metadata": {
        "colab": {
          "base_uri": "https://localhost:8080/"
        },
        "id": "6_Dpfkyp6y23",
        "outputId": "490a539e-0210-44c2-9f5c-f116bf75bdfd"
      },
      "execution_count": null,
      "outputs": [
        {
          "output_type": "stream",
          "name": "stdout",
          "text": [
            "10 -5\n"
          ]
        }
      ]
    },
    {
      "cell_type": "code",
      "source": [
        "# get datatype\n",
        "print(type(a) , type(b))"
      ],
      "metadata": {
        "colab": {
          "base_uri": "https://localhost:8080/"
        },
        "id": "Lf544EmkEAfk",
        "outputId": "39978b92-f870-4135-8b0f-df7afb04211c"
      },
      "execution_count": null,
      "outputs": [
        {
          "output_type": "stream",
          "name": "stdout",
          "text": [
            "<class 'int'> <class 'int'>\n"
          ]
        }
      ]
    },
    {
      "cell_type": "markdown",
      "source": [
        "2- Floating-Point (float)"
      ],
      "metadata": {
        "id": "01kElI_tD4HK"
      }
    },
    {
      "cell_type": "code",
      "source": [
        "pi = 3.14    # Float\n",
        "e = -2.718   # Negative float\n",
        "print(pi , e)"
      ],
      "metadata": {
        "colab": {
          "base_uri": "https://localhost:8080/"
        },
        "id": "yay8sml4Dvba",
        "outputId": "368e4ad3-d218-460d-cedd-7914af93506d"
      },
      "execution_count": null,
      "outputs": [
        {
          "output_type": "stream",
          "name": "stdout",
          "text": [
            "3.14 -2.718\n"
          ]
        }
      ]
    },
    {
      "cell_type": "code",
      "source": [
        "# get data type\n",
        "print(type(pi) , type(e))"
      ],
      "metadata": {
        "colab": {
          "base_uri": "https://localhost:8080/"
        },
        "id": "CcdIvWgyD-Ck",
        "outputId": "9b7e2a46-db71-479a-e1c6-400ce07e0d57"
      },
      "execution_count": null,
      "outputs": [
        {
          "output_type": "stream",
          "name": "stdout",
          "text": [
            "<class 'float'> <class 'float'>\n"
          ]
        }
      ]
    },
    {
      "cell_type": "markdown",
      "source": [
        "3-  Complex Numbers"
      ],
      "metadata": {
        "id": "sU-qjDXgEVwt"
      }
    },
    {
      "cell_type": "code",
      "source": [
        "# Complex Numbers represt (imaginary number + number(int - float))\n",
        "z = 3 + 4j\n",
        "print(z.real)  # Output: 3.0\n",
        "print(z.imag)  # Output: 4.0"
      ],
      "metadata": {
        "colab": {
          "base_uri": "https://localhost:8080/"
        },
        "id": "PJdRN9BoEM04",
        "outputId": "e51718bc-513b-4eab-c190-704c9a2de1c3"
      },
      "execution_count": null,
      "outputs": [
        {
          "output_type": "stream",
          "name": "stdout",
          "text": [
            "3.0\n",
            "4.0\n"
          ]
        }
      ]
    },
    {
      "cell_type": "code",
      "source": [
        "# Can convert int into float , complex\n",
        "\n",
        "print(float(22))\n",
        "print(complex (22)) // 22 + 0j\n",
        "print(\"#\"*30)\n",
        "\n",
        "# Can convert float into int , complex\n",
        "print(int(99.6))\n",
        "print(complex(99.6))\n",
        "print(\"#\"*30)\n",
        "\n",
        "\n",
        "# Can't conver complex into int , float\n",
        "print(int(33+3j))\n",
        "print(float(33+66j))"
      ],
      "metadata": {
        "colab": {
          "base_uri": "https://localhost:8080/"
        },
        "id": "5laSfKHyJBWT",
        "outputId": "79301424-05a4-4922-cd3a-fab0fbe9b9f9"
      },
      "execution_count": null,
      "outputs": [
        {
          "output_type": "stream",
          "name": "stdout",
          "text": [
            "22.0\n",
            "(22+0j)\n",
            "##############################\n",
            "99\n",
            "(99.6+0j)\n",
            "##############################\n"
          ]
        }
      ]
    },
    {
      "cell_type": "markdown",
      "source": [
        "### Try Itself"
      ],
      "metadata": {
        "id": "QsjjOSRXPJmw"
      }
    },
    {
      "cell_type": "markdown",
      "source": [
        "🧪 Use Case: Grocery Store Billing System\n",
        "\n",
        "\n",
        "🎯 Goal:\n",
        "Calculate the total cost of items a customer buys in a grocery store.\n",
        "\n",
        "🛠️ Python Concepts Used:\n",
        "Variables (to store item name , price and quantities)\n",
        "\n",
        "Data types:\n",
        "\n",
        "int and float for prices and quantities\n",
        "\n",
        "str for item names\n",
        "\n",
        "Discount => 10 %"
      ],
      "metadata": {
        "id": "QFy3Qm-YPHnW"
      }
    },
    {
      "cell_type": "markdown",
      "source": [
        "# Solution"
      ],
      "metadata": {
        "id": "zHCpC3qHPfyq"
      }
    },
    {
      "cell_type": "code",
      "source": [
        "# Item details\n",
        "item_name = \"Apples\"            # str\n",
        "price_per_kg = 3.5              # float (dollars per kg)\n",
        "quantity_kg = 2                 # int (kilograms)\n",
        "\n",
        "# Calculation\n",
        "total_cost = price_per_kg * quantity_kg  # float\n",
        "discount_applicable = True               # bool\n",
        "\n",
        "# Apply discount if applicable\n",
        "if discount_applicable:\n",
        "    discount = 0.1  # 10% discount\n",
        "    total_cost = total_cost * (1 - discount)\n",
        "\n",
        "# Output the bill\n",
        "print(\"Item:\", item_name)\n",
        "print(\"Quantity (kg):\", quantity_kg)\n",
        "print(\"Price per kg: $\", price_per_kg)\n",
        "print(\"Total Cost: $\", round(total_cost, 2))\n"
      ],
      "metadata": {
        "colab": {
          "base_uri": "https://localhost:8080/"
        },
        "id": "oRX2mwU-PeTz",
        "outputId": "cf64fdbd-25da-4c82-d149-8a042b7c5db3"
      },
      "execution_count": 6,
      "outputs": [
        {
          "output_type": "stream",
          "name": "stdout",
          "text": [
            "Item: Apples\n",
            "Quantity (kg): 2\n",
            "Price per kg: $ 3.5\n",
            "Total Cost: $ 6.3\n"
          ]
        }
      ]
    },
    {
      "cell_type": "markdown",
      "source": [
        "# Sequence Data Types"
      ],
      "metadata": {
        "id": "zmCUEggcE6jB"
      }
    },
    {
      "cell_type": "markdown",
      "source": [
        "1- String (str)"
      ],
      "metadata": {
        "id": "x7BOqJLGE-wC"
      }
    },
    {
      "cell_type": "code",
      "source": [
        "name = \"Mostafa\"\n",
        "quote = 'Python is great!'\n",
        "multiline = \"\"\"This is\n",
        "a multiline string.\"\"\"\n",
        "print ( name , quote , multiline )"
      ],
      "metadata": {
        "colab": {
          "base_uri": "https://localhost:8080/"
        },
        "id": "_e2o1jAwEmYK",
        "outputId": "7f253e14-bdd6-40e5-dd3c-4e44a4c36269"
      },
      "execution_count": null,
      "outputs": [
        {
          "output_type": "stream",
          "name": "stdout",
          "text": [
            "Mostafa Python is great! This is\n",
            "a multiline string.\n"
          ]
        }
      ]
    },
    {
      "cell_type": "code",
      "source": [
        "type(name)"
      ],
      "metadata": {
        "colab": {
          "base_uri": "https://localhost:8080/"
        },
        "id": "uZk6JGsdFEWv",
        "outputId": "addd01b7-cc39-4381-c446-b1ad42c3633a"
      },
      "execution_count": null,
      "outputs": [
        {
          "output_type": "execute_result",
          "data": {
            "text/plain": [
              "str"
            ]
          },
          "metadata": {},
          "execution_count": 24
        }
      ]
    },
    {
      "cell_type": "markdown",
      "source": [
        "# Other sequence Data Types\n",
        "#### List - Tuple - Dictionary - Set"
      ],
      "metadata": {
        "id": "wYdX4lGNFhTF"
      }
    },
    {
      "cell_type": "markdown",
      "source": [
        "#  Boolean Type"
      ],
      "metadata": {
        "id": "fLIOQg2AGCp4"
      }
    },
    {
      "cell_type": "code",
      "source": [
        "is_active = True\n",
        "is_admin = False\n",
        "print(is_active ,' , ' ,  is_admin )"
      ],
      "metadata": {
        "colab": {
          "base_uri": "https://localhost:8080/"
        },
        "id": "QXv-RFDbFOzd",
        "outputId": "e2918fcc-ba4a-468e-ae1a-7a41cbb16953"
      },
      "execution_count": null,
      "outputs": [
        {
          "output_type": "stream",
          "name": "stdout",
          "text": [
            "True  ,  False\n"
          ]
        }
      ]
    },
    {
      "cell_type": "code",
      "source": [
        "print(5 > 3)   # True\n",
        "print(5 == 3)  # False"
      ],
      "metadata": {
        "colab": {
          "base_uri": "https://localhost:8080/"
        },
        "id": "OGUzY1JaGNRs",
        "outputId": "f5927854-215b-467a-8a6c-1099ae533324"
      },
      "execution_count": null,
      "outputs": [
        {
          "output_type": "stream",
          "name": "stdout",
          "text": [
            "True\n",
            "False\n"
          ]
        }
      ]
    },
    {
      "cell_type": "markdown",
      "source": [
        "#  None Type"
      ],
      "metadata": {
        "id": "pyYbnrbvG5Z1"
      }
    },
    {
      "cell_type": "code",
      "source": [
        "x = None\n",
        "x =6\n",
        "type(x)"
      ],
      "metadata": {
        "colab": {
          "base_uri": "https://localhost:8080/"
        },
        "id": "FONeZkROGVX6",
        "outputId": "ae54b558-c567-4f99-98ba-fa7f935b0731"
      },
      "execution_count": 3,
      "outputs": [
        {
          "output_type": "execute_result",
          "data": {
            "text/plain": [
              "int"
            ]
          },
          "metadata": {},
          "execution_count": 3
        }
      ]
    },
    {
      "cell_type": "code",
      "source": [
        "# Example\n",
        "name = \"Ali\"\n",
        "age = 30\n",
        "height = 177.8\n",
        "is_male = True\n",
        "\n",
        "print( \" Name : \" , name ,\"\\n\" , \"Age : \" , age ,\"\\n\" , \"Height : \" , height ,\"\\n\" ,  \"Is_Male : \", is_male)"
      ],
      "metadata": {
        "colab": {
          "base_uri": "https://localhost:8080/"
        },
        "id": "crIiOrj2Gz-3",
        "outputId": "24b3ac0b-5bef-47e9-e4bf-c135471c729a"
      },
      "execution_count": null,
      "outputs": [
        {
          "output_type": "stream",
          "name": "stdout",
          "text": [
            " Name :  Ali \n",
            " Age :  30 \n",
            " Height :  177.8 \n",
            " Is_Male :  True\n"
          ]
        }
      ]
    },
    {
      "cell_type": "markdown",
      "source": [
        "# Rules with Variable"
      ],
      "metadata": {
        "id": "oGpUIw37JDwq"
      }
    },
    {
      "cell_type": "markdown",
      "source": [
        "1- Don't start with number\n",
        "\n",
        "2- Don't start with symbol(special character) (expect (_))\n",
        "\n",
        "3- No space\n",
        "\n",
        "4- Can't used reserved words\n",
        "\n",
        "5- python case sensitive\n"
      ],
      "metadata": {
        "id": "kjZr0zS8JQPE"
      }
    },
    {
      "cell_type": "code",
      "source": [
        "# Don't start with number\n",
        "2age = 20\n",
        "print(2age)"
      ],
      "metadata": {
        "id": "eLlJcW54Ik3E"
      },
      "execution_count": null,
      "outputs": []
    },
    {
      "cell_type": "code",
      "source": [
        "#  Don't start with symbol(special character) (expect (_))\n",
        "$age = 30\n",
        "print(age)"
      ],
      "metadata": {
        "id": "wJ8VOVbpJ4O_"
      },
      "execution_count": null,
      "outputs": []
    },
    {
      "cell_type": "code",
      "source": [
        "_age = 30\n",
        "print(_age)"
      ],
      "metadata": {
        "colab": {
          "base_uri": "https://localhost:8080/"
        },
        "id": "o1YU9YHbKEHQ",
        "outputId": "cd1e56ad-6984-4ab6-9585-b9c9d98d321b"
      },
      "execution_count": null,
      "outputs": [
        {
          "output_type": "stream",
          "name": "stdout",
          "text": [
            "30\n"
          ]
        }
      ]
    },
    {
      "cell_type": "code",
      "source": [
        "# No space\n",
        "first name = \"Ali\""
      ],
      "metadata": {
        "id": "EoOF_OidKLis"
      },
      "execution_count": null,
      "outputs": []
    },
    {
      "cell_type": "code",
      "source": [
        "first_name = \"Ali\"  # firstNameName2 = \"Ali\"\n",
        "print(first_name)"
      ],
      "metadata": {
        "colab": {
          "base_uri": "https://localhost:8080/"
        },
        "id": "3KnqELh6KRlJ",
        "outputId": "cd6c9f56-789b-4cc7-8611-8186eb44f1eb"
      },
      "execution_count": null,
      "outputs": [
        {
          "output_type": "stream",
          "name": "stdout",
          "text": [
            "Ali\n"
          ]
        }
      ]
    },
    {
      "cell_type": "code",
      "source": [
        "# Can't used reserved words\n",
        "if = 22\n",
        "print(if)"
      ],
      "metadata": {
        "id": "xrIxiDqKKUOD"
      },
      "execution_count": null,
      "outputs": []
    },
    {
      "cell_type": "markdown",
      "source": [
        "## Reserved words :\n",
        "and -\n",
        "as -\n",
        "assert -\n",
        "async -\n",
        "await -\n",
        "break -\n",
        "class -\n",
        "continue -\n",
        "def -\n",
        "del -\n",
        "elif -\n",
        "else -\n",
        "except -\n",
        "False -\n",
        "finally -\n",
        "for -\n",
        "from -\n",
        "global -\n",
        "if -  \n",
        "import -\n",
        "in -\n",
        "is -\n",
        "lambda -\n",
        "None -\n",
        "nonlocal -\n",
        "not  -\n",
        "or -\n",
        "pass -\n",
        "raise -\n",
        "return -\n",
        "True -\n",
        "try -\n",
        "while -  \n",
        "with -\n",
        "yield  "
      ],
      "metadata": {
        "id": "1Zpxja1OK4jv"
      }
    },
    {
      "cell_type": "code",
      "source": [
        "# python case sensitive\n",
        "name = \"ali\"\n",
        "print(Name)"
      ],
      "metadata": {
        "id": "pmuMIYowK5jz",
        "colab": {
          "base_uri": "https://localhost:8080/",
          "height": 176
        },
        "outputId": "7a254f19-98c9-444c-cc61-8040c68c1da8"
      },
      "execution_count": 4,
      "outputs": [
        {
          "output_type": "error",
          "ename": "NameError",
          "evalue": "name 'Name' is not defined",
          "traceback": [
            "\u001b[0;31m---------------------------------------------------------------------------\u001b[0m",
            "\u001b[0;31mNameError\u001b[0m                                 Traceback (most recent call last)",
            "\u001b[0;32m<ipython-input-4-2e2d854da9cb>\u001b[0m in \u001b[0;36m<cell line: 0>\u001b[0;34m()\u001b[0m\n\u001b[1;32m      1\u001b[0m \u001b[0;31m# python case sensitive\u001b[0m\u001b[0;34m\u001b[0m\u001b[0;34m\u001b[0m\u001b[0m\n\u001b[1;32m      2\u001b[0m \u001b[0mname\u001b[0m \u001b[0;34m=\u001b[0m \u001b[0;34m\"ali\"\u001b[0m\u001b[0;34m\u001b[0m\u001b[0;34m\u001b[0m\u001b[0m\n\u001b[0;32m----> 3\u001b[0;31m \u001b[0mprint\u001b[0m\u001b[0;34m(\u001b[0m\u001b[0mName\u001b[0m\u001b[0;34m)\u001b[0m\u001b[0;34m\u001b[0m\u001b[0;34m\u001b[0m\u001b[0m\n\u001b[0m",
            "\u001b[0;31mNameError\u001b[0m: name 'Name' is not defined"
          ]
        }
      ]
    },
    {
      "cell_type": "markdown",
      "source": [
        "# Multiple Assignment"
      ],
      "metadata": {
        "id": "EJbAhKWILldz"
      }
    },
    {
      "cell_type": "code",
      "source": [
        "x , y , z = 10 , 20 , 30\n",
        "print( \" X :\"  , x ,\"\\n\" , \"Y :\" ,  y ,\"\\n\" , \"Z :\" ,  z)"
      ],
      "metadata": {
        "colab": {
          "base_uri": "https://localhost:8080/"
        },
        "id": "Y2UmDOeTLdrb",
        "outputId": "130f8f20-169c-4147-83d5-2fd510b22764"
      },
      "execution_count": null,
      "outputs": [
        {
          "output_type": "stream",
          "name": "stdout",
          "text": [
            " X : 10 \n",
            " Y : 20 \n",
            " Z : 30\n"
          ]
        }
      ]
    },
    {
      "cell_type": "markdown",
      "source": [
        "# Assigning the Same Value\n",
        "You can assign the same value to multiple variables:"
      ],
      "metadata": {
        "id": "e9AwptqCMcrH"
      }
    },
    {
      "cell_type": "code",
      "source": [
        "x = y = z = 100\n",
        "print(x, y, z)  # Output: 100 100 100"
      ],
      "metadata": {
        "colab": {
          "base_uri": "https://localhost:8080/"
        },
        "id": "jZUr4DcELtgO",
        "outputId": "9b44a0cf-ee0f-4213-aff6-255f7f08b273"
      },
      "execution_count": 2,
      "outputs": [
        {
          "output_type": "stream",
          "name": "stdout",
          "text": [
            "10 100 100\n"
          ]
        }
      ]
    },
    {
      "cell_type": "markdown",
      "source": [
        "# Swapping Variables"
      ],
      "metadata": {
        "id": "QJzr_HFHMyFw"
      }
    },
    {
      "cell_type": "code",
      "source": [
        "a, b = 10, 20\n",
        "a, b = b, a\n",
        "print(a, b)  # Output: 20 10\n"
      ],
      "metadata": {
        "colab": {
          "base_uri": "https://localhost:8080/"
        },
        "id": "r-FgXVJhMj1o",
        "outputId": "af87e4bf-c5a6-490f-bfd0-151876161e7d"
      },
      "execution_count": null,
      "outputs": [
        {
          "output_type": "stream",
          "name": "stdout",
          "text": [
            "20 10\n"
          ]
        }
      ]
    },
    {
      "cell_type": "markdown",
      "source": [
        "# Common Escape Sequence Characters\n"
      ],
      "metadata": {
        "id": "FEBKTWrHNHBo"
      }
    },
    {
      "cell_type": "markdown",
      "source": [
        "1- Newline and horizontal Tab"
      ],
      "metadata": {
        "id": "8SAIvMLFOcLd"
      }
    },
    {
      "cell_type": "code",
      "source": [
        "print(\"Hello\\nWorld\")  # Newline\n",
        "print(\"A\\tB\\tC\")       # Tab"
      ],
      "metadata": {
        "colab": {
          "base_uri": "https://localhost:8080/"
        },
        "id": "qonrj0jxM3Li",
        "outputId": "95081dea-cc65-485f-8fcd-01d9f089188a"
      },
      "execution_count": null,
      "outputs": [
        {
          "output_type": "stream",
          "name": "stdout",
          "text": [
            "Hello\n",
            "World\n",
            "A\tB\tC\n"
          ]
        }
      ]
    },
    {
      "cell_type": "markdown",
      "source": [
        "2- Escape quote"
      ],
      "metadata": {
        "id": "JmYqqx29Ol61"
      }
    },
    {
      "cell_type": "code",
      "source": [
        "print(\"He said, \\\"Python is awesome!\\\"\")\n",
        "print('It\\'s a great day!')"
      ],
      "metadata": {
        "colab": {
          "base_uri": "https://localhost:8080/"
        },
        "id": "UcLyV4BPOglK",
        "outputId": "d1479088-136c-4fe6-d885-252e9d8e241c"
      },
      "execution_count": null,
      "outputs": [
        {
          "output_type": "stream",
          "name": "stdout",
          "text": [
            "He said, \"Python is awesome!\"\n",
            "It's a great day!\n"
          ]
        }
      ]
    },
    {
      "cell_type": "code",
      "source": [
        "print(' Hello \"Mostafa\"   ')  # Hello \"Mostafa\""
      ],
      "metadata": {
        "id": "cUrg_G9BKnXz"
      },
      "execution_count": null,
      "outputs": []
    },
    {
      "cell_type": "markdown",
      "source": [
        "3- Backslash\n"
      ],
      "metadata": {
        "id": "SavWy8e0Ow-P"
      }
    },
    {
      "cell_type": "code",
      "source": [
        "print(\"This is a backslash: \\\\\")"
      ],
      "metadata": {
        "colab": {
          "base_uri": "https://localhost:8080/"
        },
        "id": "XA0XjxaOOqQ5",
        "outputId": "8d2a5b4e-fb8b-4dbe-f214-9330191b9ddb"
      },
      "execution_count": null,
      "outputs": [
        {
          "output_type": "stream",
          "name": "stdout",
          "text": [
            "This is a backslash: \\\n"
          ]
        }
      ]
    },
    {
      "cell_type": "code",
      "source": [
        "print(\"This is a backslash: \\\\\")"
      ],
      "metadata": {
        "colab": {
          "base_uri": "https://localhost:8080/"
        },
        "id": "6FZwGjONO130",
        "outputId": "964b0cab-f341-43ce-8078-8eaf7cceef8c"
      },
      "execution_count": null,
      "outputs": [
        {
          "output_type": "stream",
          "name": "stdout",
          "text": [
            "This is a backslash: \\\n"
          ]
        }
      ]
    },
    {
      "cell_type": "markdown",
      "source": [
        "4- Back space"
      ],
      "metadata": {
        "id": "kVVGLHXKPCtA"
      }
    },
    {
      "cell_type": "code",
      "source": [
        "print(\"Hello \\b world\")"
      ],
      "metadata": {
        "colab": {
          "base_uri": "https://localhost:8080/"
        },
        "id": "gsyKfyn4O5nL",
        "outputId": "b3ce4412-7321-4bd3-9373-072cc01ed475"
      },
      "execution_count": 5,
      "outputs": [
        {
          "output_type": "stream",
          "name": "stdout",
          "text": [
            "Hello \b world\n"
          ]
        }
      ]
    },
    {
      "cell_type": "markdown",
      "source": [
        "5- Carriage return"
      ],
      "metadata": {
        "id": "NYCnd4XgPN_z"
      }
    },
    {
      "cell_type": "code",
      "source": [
        "print(\"111111 \\r 33\")"
      ],
      "metadata": {
        "colab": {
          "base_uri": "https://localhost:8080/"
        },
        "id": "el5TBU9XPHx1",
        "outputId": "ae12f0d0-5d37-4197-a902-2480d7e85d19"
      },
      "execution_count": null,
      "outputs": [
        {
          "output_type": "stream",
          "name": "stdout",
          "text": [
            "111111 \r 33\n"
          ]
        }
      ]
    },
    {
      "cell_type": "code",
      "source": [
        "x=5\n",
        "y=6\n",
        "print(\"x \\r y\")"
      ],
      "metadata": {
        "colab": {
          "base_uri": "https://localhost:8080/"
        },
        "id": "P-cOkaZ39HPy",
        "outputId": "ca764c67-8886-41bf-f14a-62c32a8fc7c7"
      },
      "execution_count": 3,
      "outputs": [
        {
          "output_type": "stream",
          "name": "stdout",
          "text": [
            "x \r y\n"
          ]
        }
      ]
    },
    {
      "cell_type": "markdown",
      "source": [
        "# String Concatination"
      ],
      "metadata": {
        "id": "iJXRaytuPau1"
      }
    },
    {
      "cell_type": "code",
      "source": [
        "first_name = \"Ali\"\n",
        "last_name=\"Ahmed\"\n",
        "full_name = first_name + last_name  # (str + str = str) => Concatination\n",
        "print(full_name)"
      ],
      "metadata": {
        "colab": {
          "base_uri": "https://localhost:8080/"
        },
        "id": "Z2DyopeGPU0L",
        "outputId": "ec04b28e-dde5-460a-d2f7-821902e09d5b"
      },
      "execution_count": null,
      "outputs": [
        {
          "output_type": "stream",
          "name": "stdout",
          "text": [
            "AliAhmed\n"
          ]
        }
      ]
    },
    {
      "cell_type": "code",
      "source": [
        "# Can't concat string with number\n",
        "name = \"ali\"\n",
        "age = 44\n",
        "print(name+ age)\n",
        "# Solution : Casting - f_string - format function"
      ],
      "metadata": {
        "id": "TyW_1v1MPr9m"
      },
      "execution_count": null,
      "outputs": []
    },
    {
      "cell_type": "markdown",
      "source": [
        "1- Casting"
      ],
      "metadata": {
        "id": "GdHHEVYt3jhR"
      }
    },
    {
      "cell_type": "code",
      "source": [
        "print(\"Hello\" + str(123))"
      ],
      "metadata": {
        "colab": {
          "base_uri": "https://localhost:8080/"
        },
        "id": "rMvgcazoQPQf",
        "outputId": "4454885a-0764-4e40-ba1b-c17c5af22aa1"
      },
      "execution_count": null,
      "outputs": [
        {
          "output_type": "stream",
          "name": "stdout",
          "text": [
            "Hello123\n"
          ]
        }
      ]
    },
    {
      "cell_type": "markdown",
      "source": [
        "2- f-string"
      ],
      "metadata": {
        "id": "rKnvPA9m3muT"
      }
    },
    {
      "cell_type": "code",
      "source": [
        "print(f\"my name is {name } and my age is {age}\")"
      ],
      "metadata": {
        "colab": {
          "base_uri": "https://localhost:8080/"
        },
        "id": "8fd00-2MQV2k",
        "outputId": "e542c237-c440-465b-b59a-b93e6f48cd6b"
      },
      "execution_count": null,
      "outputs": [
        {
          "output_type": "stream",
          "name": "stdout",
          "text": [
            "my name is ali and my age is 44\n"
          ]
        }
      ]
    },
    {
      "cell_type": "markdown",
      "source": [
        "String Format"
      ],
      "metadata": {
        "id": "0oFs288N4T42"
      }
    },
    {
      "cell_type": "code",
      "source": [
        "print(\"my name is {} and my age is {}\".format(name , age ))"
      ],
      "metadata": {
        "colab": {
          "base_uri": "https://localhost:8080/"
        },
        "id": "Q9v9U7tV4QVY",
        "outputId": "5a077a45-e9c0-4ca9-bed8-014db39e2006"
      },
      "execution_count": null,
      "outputs": [
        {
          "output_type": "stream",
          "name": "stdout",
          "text": [
            "my name is ali and my age is 44\n"
          ]
        }
      ]
    },
    {
      "cell_type": "code",
      "source": [
        "print(\"{} {}\".format(name , age ))"
      ],
      "metadata": {
        "colab": {
          "base_uri": "https://localhost:8080/"
        },
        "id": "8vja5eLF4eTH",
        "outputId": "b73a5e6e-a5f3-4161-f5fe-36369fc6b1ad"
      },
      "execution_count": null,
      "outputs": [
        {
          "output_type": "stream",
          "name": "stdout",
          "text": [
            "ali 44\n"
          ]
        }
      ]
    },
    {
      "cell_type": "code",
      "source": [
        "print(\"{}\".format(name , age ))"
      ],
      "metadata": {
        "colab": {
          "base_uri": "https://localhost:8080/"
        },
        "id": "MSbuULqT4lkH",
        "outputId": "dc6c0cec-1ca6-414b-fc07-4cecf6a3a9e5"
      },
      "execution_count": null,
      "outputs": [
        {
          "output_type": "stream",
          "name": "stdout",
          "text": [
            "ali\n"
          ]
        }
      ]
    },
    {
      "cell_type": "code",
      "source": [
        "print(\"{}{}\".format(name))"
      ],
      "metadata": {
        "id": "zFzUWS_I4rB-"
      },
      "execution_count": null,
      "outputs": []
    },
    {
      "cell_type": "markdown",
      "source": [
        "# Slicing in String"
      ],
      "metadata": {
        "id": "bkG0h8a45-Er"
      }
    },
    {
      "cell_type": "code",
      "source": [
        "s = \"Space code\"\n",
        "print(s[0])\n",
        "print(s[1])\n",
        "print(s[1:4])\n",
        "print(s[1:])\n",
        "print(s[:5])\n",
        "print(s[-1])\n",
        "print(s[-4 : -1])\n",
        "print(s[:])\n",
        "print(s[::2])"
      ],
      "metadata": {
        "colab": {
          "base_uri": "https://localhost:8080/"
        },
        "id": "VFEOEOJv4tDa",
        "outputId": "9fc016ac-d7db-4e70-a920-eb169009237a"
      },
      "execution_count": null,
      "outputs": [
        {
          "output_type": "stream",
          "name": "stdout",
          "text": [
            "S\n",
            "p\n",
            "pac\n",
            "pace code\n",
            "Space\n",
            "e\n",
            "cod\n",
            "Space code\n",
            "Saecd\n"
          ]
        }
      ]
    },
    {
      "cell_type": "markdown",
      "source": [
        "# String Methods"
      ],
      "metadata": {
        "id": "lQp2qWSg52R2"
      }
    },
    {
      "cell_type": "markdown",
      "source": [
        "1- len method => count the number of characters in string"
      ],
      "metadata": {
        "id": "GyzsqDwr6FZz"
      }
    },
    {
      "cell_type": "code",
      "source": [
        "s = \"space code academy\"\n",
        "print(len(s)) # count characters , spaces"
      ],
      "metadata": {
        "colab": {
          "base_uri": "https://localhost:8080/"
        },
        "id": "vWejzuPK6e8x",
        "outputId": "2c380b03-2f36-4da7-86db-db5f6b20e8af"
      },
      "execution_count": null,
      "outputs": [
        {
          "output_type": "stream",
          "name": "stdout",
          "text": [
            "18\n"
          ]
        }
      ]
    },
    {
      "cell_type": "markdown",
      "source": [
        "2- strip method : remove spaces ( start , end )"
      ],
      "metadata": {
        "id": "LXDQxCsO6eOQ"
      }
    },
    {
      "cell_type": "code",
      "source": [
        "name = \" Ali Essam \"\n",
        "print(name.strip())\n",
        "\n",
        "# lstrip , rstrip\n",
        "print(name.lstrip())\n",
        "print(name.rstrip())\n",
        "\n",
        "# we can remove symbols instead of spaces\n",
        "name = \"#*mostafa ali \"\n",
        "print(name.strip(\"#\"))\n",
        "print(name.lstrip(\"#\"))\n",
        "print(name.rstrip(\"#\"))\n",
        "\n",
        "# remove multiple symbols\n",
        "name = \"#*mostafa ali$&\"\n",
        "print(name.strip(\"#*$&\"))\n",
        "print(name.lstrip(\"#*$&\"))\n",
        "print(name.rstrip(\"#*$&\"))"
      ],
      "metadata": {
        "colab": {
          "base_uri": "https://localhost:8080/"
        },
        "id": "DaVHAhHX64Sn",
        "outputId": "e82032ae-c21f-446f-9e84-108240778b83"
      },
      "execution_count": null,
      "outputs": [
        {
          "output_type": "stream",
          "name": "stdout",
          "text": [
            "Ali Essam\n",
            "Ali Essam \n",
            " Ali Essam\n",
            "*mostafa ali \n",
            "*mostafa ali \n",
            "#*mostafa ali \n",
            "mostafa ali\n",
            "mostafa ali$&\n",
            "#*mostafa ali\n"
          ]
        }
      ]
    },
    {
      "cell_type": "code",
      "source": [
        "name = \"#*mostafa % ali\"\n",
        "print(name.strip(\"i\"))"
      ],
      "metadata": {
        "colab": {
          "base_uri": "https://localhost:8080/"
        },
        "id": "l3E6MrQaQO9D",
        "outputId": "883f4c04-de2e-45c5-aea6-b9010ec08a45"
      },
      "execution_count": 8,
      "outputs": [
        {
          "output_type": "stream",
          "name": "stdout",
          "text": [
            "#*mostafa % al\n"
          ]
        }
      ]
    },
    {
      "cell_type": "markdown",
      "source": [
        "3 - title()=> make each word start with capital letter"
      ],
      "metadata": {
        "id": "HIfg-dhR7_Zj"
      }
    },
    {
      "cell_type": "code",
      "source": [
        "s = \"code space academy\"\n",
        "print(s.title())\n",
        "\n",
        "# capitalize make only tghe first letter is capital\n",
        "print(s.capitalize())"
      ],
      "metadata": {
        "colab": {
          "base_uri": "https://localhost:8080/"
        },
        "id": "ECHVpk348G_1",
        "outputId": "1da5b9ff-8150-419d-ae85-25fa18e4d044"
      },
      "execution_count": null,
      "outputs": [
        {
          "output_type": "stream",
          "name": "stdout",
          "text": [
            "Code Space Academy\n",
            "Code space academy\n"
          ]
        }
      ]
    },
    {
      "cell_type": "markdown",
      "source": [
        "upper () , lower() , swapcase()"
      ],
      "metadata": {
        "id": "XuPlXvZY8ye2"
      }
    },
    {
      "cell_type": "code",
      "source": [
        "s = \"code space academy\"\n",
        "# make all characters is capital\n",
        "print(s.upper())\n",
        "# make all characters is small\n",
        "print(s.lower())\n",
        "\n",
        "s= \"ALI mostafa\"\n",
        "# swap between capital and small\n",
        "print(s.swapcase())"
      ],
      "metadata": {
        "colab": {
          "base_uri": "https://localhost:8080/"
        },
        "id": "RL7Rcgpx86JF",
        "outputId": "552f9c6e-bad3-45b7-87fb-f2bf6e7b3b3f"
      },
      "execution_count": null,
      "outputs": [
        {
          "output_type": "stream",
          "name": "stdout",
          "text": [
            "CODE SPACE ACADEMY\n",
            "code space academy\n",
            "ali MOSTAFA\n"
          ]
        }
      ]
    },
    {
      "cell_type": "markdown",
      "source": [
        "split() : convert string into array"
      ],
      "metadata": {
        "id": "Wh6JbbO-BcLr"
      }
    },
    {
      "cell_type": "code",
      "source": [
        "l = \"I love python \"\n",
        "l.split() # by default split by space"
      ],
      "metadata": {
        "colab": {
          "base_uri": "https://localhost:8080/"
        },
        "id": "APZfTxHrBhTI",
        "outputId": "f27bd1e0-5866-4451-bb58-7253db2e250b"
      },
      "execution_count": null,
      "outputs": [
        {
          "output_type": "execute_result",
          "data": {
            "text/plain": [
              "['I', 'love', 'python']"
            ]
          },
          "metadata": {},
          "execution_count": 7
        }
      ]
    },
    {
      "cell_type": "code",
      "source": [
        "# change seperator\n",
        "l=\"i-love-python\"\n",
        "l.split(\"-\")"
      ],
      "metadata": {
        "colab": {
          "base_uri": "https://localhost:8080/"
        },
        "id": "kNEZcHwbHX03",
        "outputId": "8e39ddf0-f67c-4932-d4fb-d55bd5385903"
      },
      "execution_count": null,
      "outputs": [
        {
          "output_type": "execute_result",
          "data": {
            "text/plain": [
              "['i', 'love', 'python']"
            ]
          },
          "metadata": {},
          "execution_count": 8
        }
      ]
    },
    {
      "cell_type": "code",
      "source": [
        "# split( seperator , max_split)\n",
        "sen = \"l love python but hate c++ and java\"\n",
        "sen.split(\" \" , 4)"
      ],
      "metadata": {
        "colab": {
          "base_uri": "https://localhost:8080/"
        },
        "id": "2CuALOx_CITA",
        "outputId": "f7a3156c-eeda-4566-c3b0-48498864636c"
      },
      "execution_count": null,
      "outputs": [
        {
          "output_type": "execute_result",
          "data": {
            "text/plain": [
              "['l', 'love', 'python', 'but', 'hate c++ and java']"
            ]
          },
          "metadata": {},
          "execution_count": 9
        }
      ]
    },
    {
      "cell_type": "code",
      "source": [
        "# rsplit\n",
        "sen = \"i-love-python-php-and-java\"\n",
        "sen.rsplit(\"-\" , 3)"
      ],
      "metadata": {
        "colab": {
          "base_uri": "https://localhost:8080/"
        },
        "id": "yd5Slb9ICRtm",
        "outputId": "1c97b20c-40c4-49a3-9111-44e3339ebddf"
      },
      "execution_count": null,
      "outputs": [
        {
          "output_type": "execute_result",
          "data": {
            "text/plain": [
              "['i-love-python', 'php', 'and', 'java']"
            ]
          },
          "metadata": {},
          "execution_count": 10
        }
      ]
    },
    {
      "cell_type": "markdown",
      "source": [
        "count() : count the number of specific words or letters in sentences"
      ],
      "metadata": {
        "id": "aBue1geUC131"
      }
    },
    {
      "cell_type": "code",
      "source": [
        "# count ( word(letter) , start , end )\n",
        "l =\"i love php , php is good language , php forever\"\n",
        "print(l.count(\"php\"))\n",
        "print(l.count(\"php\" , 1 , 20))"
      ],
      "metadata": {
        "colab": {
          "base_uri": "https://localhost:8080/"
        },
        "id": "1haB-ktoCu3a",
        "outputId": "6a0efac3-b22c-4b1b-9c85-9afd2458d903"
      },
      "execution_count": null,
      "outputs": [
        {
          "output_type": "stream",
          "name": "stdout",
          "text": [
            "3\n",
            "2\n"
          ]
        }
      ]
    },
    {
      "cell_type": "markdown",
      "source": [
        "Index() : get index of character\n"
      ],
      "metadata": {
        "id": "imksDcBeDkPx"
      }
    },
    {
      "cell_type": "code",
      "source": [
        "# index(character , start , end )\n",
        "# index return index or error (if word or letter not in sentence )\n",
        "l =\"i love php , php is good language , php forever\"\n",
        "print(l.index(\"php\"))\n",
        "print(l.index(\"php\" , 1 , 10))\n",
        "print(l.index(\"php\" , 1 , 5))"
      ],
      "metadata": {
        "colab": {
          "base_uri": "https://localhost:8080/"
        },
        "id": "0z7evMR3Dq_3",
        "outputId": "691a2816-677a-4d1d-9a55-41980060a223"
      },
      "execution_count": 10,
      "outputs": [
        {
          "output_type": "stream",
          "name": "stdout",
          "text": [
            "7\n",
            "7\n"
          ]
        }
      ]
    },
    {
      "cell_type": "code",
      "source": [
        "# find method\n",
        "# index return index or -1 (if word or letter not in sentence )\n",
        "print(l.find(\"php\"))\n",
        "print(l.find(\"php\" , 1 , 10))\n",
        "print(l.find(\"php\" , 1 , 5))"
      ],
      "metadata": {
        "colab": {
          "base_uri": "https://localhost:8080/"
        },
        "id": "9ZzjpwYKEb2Y",
        "outputId": "30475b50-ccbd-48b1-dd1e-a74d094e46f1"
      },
      "execution_count": null,
      "outputs": [
        {
          "output_type": "stream",
          "name": "stdout",
          "text": [
            "7\n",
            "7\n",
            "-1\n"
          ]
        }
      ]
    },
    {
      "cell_type": "markdown",
      "source": [
        "startwith() / endwith() : return true or false"
      ],
      "metadata": {
        "id": "Y2ftKvJxEtFN"
      }
    },
    {
      "cell_type": "code",
      "source": [
        "l =\"mostafa ahmed\"\n",
        "print(l.startswith(\"m\"))\n",
        "print(l.endswith(\"d\"))\n",
        "print(l.startswith(\"m\" ,2 ,  7))\n",
        "print(l.endswith(\"d\" ,5 ,  13))"
      ],
      "metadata": {
        "colab": {
          "base_uri": "https://localhost:8080/"
        },
        "id": "NEZKwousEwzR",
        "outputId": "dcc35080-5f2a-41a8-be6b-bc54e4ca3f09"
      },
      "execution_count": null,
      "outputs": [
        {
          "output_type": "stream",
          "name": "stdout",
          "text": [
            "True\n",
            "True\n",
            "False\n",
            "True\n"
          ]
        }
      ]
    },
    {
      "cell_type": "markdown",
      "source": [
        "replace()"
      ],
      "metadata": {
        "id": "b91kkwTXFUFz"
      }
    },
    {
      "cell_type": "code",
      "source": [
        "n= \"121212\"\n",
        "print(n.replace(\"1\" , \"one\"))\n",
        "print(n.replace(\"1\" , \"one\" , 2))"
      ],
      "metadata": {
        "colab": {
          "base_uri": "https://localhost:8080/"
        },
        "id": "s6PXMZGkFVlv",
        "outputId": "5fa22369-6723-4e53-ade8-5b77e79ccbe6"
      },
      "execution_count": null,
      "outputs": [
        {
          "output_type": "stream",
          "name": "stdout",
          "text": [
            "one2one2one2\n",
            "one2one212\n"
          ]
        }
      ]
    },
    {
      "cell_type": "markdown",
      "source": [
        "join() : convert list into string"
      ],
      "metadata": {
        "id": "G5gl1hMSFo_K"
      }
    },
    {
      "cell_type": "code",
      "source": [
        "my_list=[\"a\" , \"b\" , \"c\"]\n",
        "print(\"-\".join(my_list))\n",
        "type(\"-\".join(my_list))"
      ],
      "metadata": {
        "colab": {
          "base_uri": "https://localhost:8080/"
        },
        "id": "RTNyk88oFtck",
        "outputId": "7e101401-15c6-454f-91e4-b0f16c39423e"
      },
      "execution_count": null,
      "outputs": [
        {
          "output_type": "stream",
          "name": "stdout",
          "text": [
            "a-b-c\n"
          ]
        },
        {
          "output_type": "execute_result",
          "data": {
            "text/plain": [
              "str"
            ]
          },
          "metadata": {},
          "execution_count": 25
        }
      ]
    },
    {
      "cell_type": "markdown",
      "source": [
        "🧪 Use Case: Welcome Message Generator\n",
        "\n",
        "🎯 Goal:\n",
        "Generate a personalized welcome message for users registering on a website.\n",
        "\n",
        "🛠️ Python Concepts Used:\n",
        "Variables to store user information\n",
        "\n",
        "String concatenation using +\n",
        "\n",
        "F-strings as an alternative (modern and clean)"
      ],
      "metadata": {
        "id": "yHENJXm6QPyY"
      }
    },
    {
      "cell_type": "markdown",
      "source": [
        "# Solution"
      ],
      "metadata": {
        "id": "ikN4AmwKQhcn"
      }
    },
    {
      "cell_type": "code",
      "source": [
        "first_name = \"Mostafa\"\n",
        "last_name = \"Amer\"\n",
        "welcome_message = \"Welcome, \" + first_name + \" \" + last_name + \"!\"\n",
        "print(welcome_message)\n",
        "\n",
        "\n",
        "first_name = \"Mostafa\"\n",
        "last_name = \"Amer\"\n",
        "welcome_message = f\"Welcome, {first_name} {last_name}!\"\n",
        "print(welcome_message)\n"
      ],
      "metadata": {
        "colab": {
          "base_uri": "https://localhost:8080/"
        },
        "id": "OJT0xeY_QboH",
        "outputId": "d5a621df-605a-4faf-f252-9a03aa039d38"
      },
      "execution_count": 7,
      "outputs": [
        {
          "output_type": "stream",
          "name": "stdout",
          "text": [
            "Welcome, Mostafa Amer!\n",
            "Welcome, Mostafa Amer!\n"
          ]
        }
      ]
    },
    {
      "cell_type": "markdown",
      "source": [
        "# Arithmatic operations"
      ],
      "metadata": {
        "id": "AB2EshReKZKm"
      }
    },
    {
      "cell_type": "code",
      "source": [
        "# Addition\n",
        "a = 10\n",
        "b = 20\n",
        "result = a + b\n",
        "print(\"Addition : \" ,  result)\n",
        "print(\"*\"*30)\n",
        "\n",
        "# Subtraction\n",
        "result = a - b\n",
        "print(\"Subtraction: \" , result)\n",
        "print(\"*\"*30)\n",
        "\n",
        "\n",
        "# Multiplication\n",
        "result = a * b\n",
        "print(\"Multiplication : \" , result)\n",
        "print(\"*\"*30)\n",
        "\n",
        "\n",
        "# Division\n",
        "result = a / b\n",
        "print(\"Division : \" , result)\n",
        "print(\"*\"*30)\n",
        "\n",
        "\n",
        "# Floor Division\n",
        "result = a // b # 7 / 2 = 3.5 -  7 // 2 = 3\n",
        "print(\"Floor Division:\" , result)\n",
        "print(\"*\"*30)\n",
        "\n",
        "# Modulus\n",
        "result = a % b\n",
        "print(\"Modulus : \" , result)\n",
        "print(\"*\"*30)\n",
        "\n",
        "# Exponentiation\n",
        "result = a ** b # pow(a , b)\n",
        "print(\"Exponentiation :\" , result)"
      ],
      "metadata": {
        "colab": {
          "base_uri": "https://localhost:8080/"
        },
        "id": "dGcD9g2hGXCZ",
        "outputId": "dc5c52a7-e537-4f35-e792-76c4ba6940b3"
      },
      "execution_count": null,
      "outputs": [
        {
          "output_type": "stream",
          "name": "stdout",
          "text": [
            "Addition :  30\n",
            "******************************\n",
            "Subtraction:  -10\n",
            "******************************\n",
            "Multiplication :  200\n",
            "******************************\n",
            "Division :  0.5\n",
            "******************************\n",
            "Floor Division: 0\n",
            "******************************\n",
            "Modulus :  10\n",
            "******************************\n",
            "Exponentiation : 100000000000000000000\n"
          ]
        }
      ]
    },
    {
      "cell_type": "code",
      "source": [
        "# Abs\n",
        "result = abs(-10)\n",
        "print(\"Absolute : \" ,result)\n",
        "print(\"*\"*30)\n",
        "\n",
        "result = pow(3, 4)  # Equivalent to 3 ** 4\n",
        "print(\"Power : \" , result)  # Output: 81\n",
        "print(\"*\"*30)\n",
        "\n",
        "result = round(22 / 7)\n",
        "print(\"Round:\" , result)\n",
        "print(\"*\"*30)\n",
        "\n",
        "import math\n",
        "result = math.sqrt(16)  # Square root\n",
        "print(\"Sqrt : \" , result)  # Output: 4.0\n"
      ],
      "metadata": {
        "colab": {
          "base_uri": "https://localhost:8080/"
        },
        "id": "R-y7IhZZMgDm",
        "outputId": "be06d46c-0e53-43b0-c0ab-117412387ae6"
      },
      "execution_count": null,
      "outputs": [
        {
          "output_type": "stream",
          "name": "stdout",
          "text": [
            "Absolute :  10\n",
            "******************************\n",
            "Power :  81\n",
            "******************************\n",
            "Round: 3\n",
            "******************************\n",
            "Sqrt :  4.0\n"
          ]
        }
      ]
    },
    {
      "cell_type": "code",
      "source": [
        "result = pow(3, 4  , 10 ) #( base , power , modulas)\n",
        "result"
      ],
      "metadata": {
        "colab": {
          "base_uri": "https://localhost:8080/"
        },
        "id": "ZV5RMqQichCX",
        "outputId": "8d2f9a90-3b98-4148-dc29-5048515eb895"
      },
      "execution_count": 12,
      "outputs": [
        {
          "output_type": "execute_result",
          "data": {
            "text/plain": [
              "1"
            ]
          },
          "metadata": {},
          "execution_count": 12
        }
      ]
    },
    {
      "cell_type": "markdown",
      "source": [
        "# Assignment operators"
      ],
      "metadata": {
        "id": "q8Kr51MVSjRK"
      }
    },
    {
      "cell_type": "code",
      "source": [
        "# Addition Assignment (+=)  # x+=4  => x = x +4\n",
        "\n",
        "x = 10\n",
        "x += 5  # Equivalent to: x = x + 5\n",
        "print(\"Addition Assignment:\" , x)\n",
        "print(\"*\"*30)\n",
        "\n",
        "\n",
        "# Subtraction Assignment (-=)\n",
        "\n",
        "x = 20\n",
        "x -= 3  # Equivalent to: x = x - 3\n",
        "print(\"Subtraction Assignment : \" , x)\n",
        "print(\"*\"*30)\n",
        "\n",
        "\n",
        "# Multiplication Assignment (*=)\n",
        "\n",
        "x = 5\n",
        "x *= 4  # Equivalent to: x = x * 4\n",
        "print(\"Multiplication Assignment : \" , x)\n",
        "print(\"*\"*30)\n",
        "\n",
        "\n",
        "# Division Assignment (/=)\n",
        "\n",
        "x = 15\n",
        "x /= 3  # Equivalent to: x = x / 3\n",
        "print(\"Division Assignment : \" , x)\n",
        "print(\"*\"*30)\n",
        "\n",
        "\n",
        "# Floor Division Assignment (//=)\n",
        "\n",
        "x = 17\n",
        "x //= 4  # Equivalent to: x = x // 4\n",
        "print(\"Floor Division Assignment : \" , x)\n",
        "print(\"*\"*30)\n",
        "\n",
        "\n",
        "# Modulus Assignment (%=)\n",
        "\n",
        "x = 10\n",
        "x %= 3  # Equivalent to: x = x % 3\n",
        "print(\"Modulus Assignment : \" , x)\n",
        "print(\"*\"*30)\n",
        "\n",
        "\n",
        "\n",
        "# Exponentiation Assignment (**=)\n",
        "\n",
        "x = 2\n",
        "x **= 3  # Equivalent to: x = x ** 3\n",
        "print(\"Exponentiation Assignment : \" , x)"
      ],
      "metadata": {
        "colab": {
          "base_uri": "https://localhost:8080/"
        },
        "id": "a4e4XALQPPAl",
        "outputId": "c8454bde-0372-44bc-ec7e-d59f41947cc9"
      },
      "execution_count": null,
      "outputs": [
        {
          "output_type": "stream",
          "name": "stdout",
          "text": [
            "Addition Assignment: 15\n",
            "******************************\n",
            "Subtraction Assignment :  17\n",
            "******************************\n",
            "Multiplication Assignment :  20\n",
            "******************************\n",
            "Division Assignment :  5.0\n",
            "******************************\n",
            "Floor Division Assignment :  4\n",
            "******************************\n",
            "Modulus Assignment :  1\n",
            "******************************\n",
            "Exponentiation Assignment :  8\n"
          ]
        }
      ]
    },
    {
      "cell_type": "markdown",
      "source": [
        "# Boolean Operator"
      ],
      "metadata": {
        "id": "1_krJYrwUBW1"
      }
    },
    {
      "cell_type": "code",
      "source": [
        "# AND\n",
        "\n",
        "x = 10\n",
        "y = 20\n",
        "result = (x > 5) and (y < 30)\n",
        "print(\"AND : \" ,  result)  # Output: True\n",
        "print(\"*\"*30)\n",
        "\n",
        "\n",
        "# OR\n",
        "x = 10\n",
        "y = 20\n",
        "result = (x > 15) or (y < 30)\n",
        "print(\"OR : \" ,result)  # Output: True\n",
        "print(\"*\"*30)\n",
        "\n",
        "# NOT\n",
        "x = 10\n",
        "result = not (x > 5)\n",
        "print(\"NOT : \" ,result)  # Output: False\n",
        "print(\"*\"*30)\n",
        "\n",
        "\n",
        "# Combining Boolean Operators\n",
        "x = 10\n",
        "y = 5\n",
        "z = 20\n",
        "\n",
        "result = (x > y) and (z > x) or not (y > z)\n",
        "print(\"Combining Boolean Operators : \" , result)  # Output: True"
      ],
      "metadata": {
        "colab": {
          "base_uri": "https://localhost:8080/"
        },
        "id": "EU7pEF2nTW_f",
        "outputId": "4da6f829-3747-41e1-fe44-255cc15a1e0e"
      },
      "execution_count": null,
      "outputs": [
        {
          "output_type": "stream",
          "name": "stdout",
          "text": [
            "AND :  True\n",
            "******************************\n",
            "OR :  True\n",
            "******************************\n",
            "NOT :  False\n",
            "******************************\n",
            "Combining Boolean Operators :  True\n"
          ]
        }
      ]
    },
    {
      "cell_type": "markdown",
      "source": [
        "# Comparison Operators"
      ],
      "metadata": {
        "id": "-UCC4rS_VadV"
      }
    },
    {
      "cell_type": "code",
      "source": [
        "# Comparison Operators Examples\n",
        "x = 10\n",
        "y = 5\n",
        "z = 10\n",
        "\n",
        "# Equal to (==)\n",
        "print(\"x == z:\", x == z)\n",
        "print(\"*\"*30)\n",
        "\n",
        "# Not equal to (!=)\n",
        "print(\"x != y:\", x != y)\n",
        "print(\"*\"*30)\n",
        "\n",
        "# Greater than (>)\n",
        "print(\"x > y:\", x > y)\n",
        "print(\"*\"*30)\n",
        "\n",
        "# Less than (<)\n",
        "print(\"x < y:\", x < y)\n",
        "print(\"*\"*30)\n",
        "\n",
        "# Greater than or equal to (>=)\n",
        "print(\"x >= z:\", x >= z)\n",
        "print(\"*\"*30)\n",
        "\n",
        "# Less than or equal to (<=)\n",
        "print(\"x <= z:\", x <= z)\n",
        "print(\"*\"*30)\n",
        "\n",
        "# Chained comparisons\n",
        "print(\"5 < x < 15:\", 5 < x < 15)\n",
        "print(\"x > y > 3:\", x > y > 3)\n",
        "print(\"*\"*30)\n",
        "\n",
        "# Comparison with different data types\n",
        "print(\"10 == 10.0 :\", 10 == 10.0)\n",
        "print('\"apple\" < \"banana\" :', \"apple\" < \"aanana\")\n",
        "print('\"10\" == 10 :', \"10\" == 10)"
      ],
      "metadata": {
        "colab": {
          "base_uri": "https://localhost:8080/"
        },
        "id": "KrO4lg8bUrBj",
        "outputId": "ab5d2e68-9cb4-4726-d12e-aba53f5ea151"
      },
      "execution_count": null,
      "outputs": [
        {
          "output_type": "stream",
          "name": "stdout",
          "text": [
            "x == z: True\n",
            "******************************\n",
            "x != y: True\n",
            "******************************\n",
            "x > y: True\n",
            "******************************\n",
            "x < y: False\n",
            "******************************\n",
            "x >= z: True\n",
            "******************************\n",
            "x <= z: True\n",
            "******************************\n",
            "5 < x < 15: True\n",
            "x > y > 3: True\n",
            "******************************\n",
            "10 == 10.0 : True\n",
            "\"apple\" < \"banana\" : True\n",
            "\"10\" == 10 : False\n"
          ]
        }
      ]
    },
    {
      "cell_type": "code",
      "source": [
        "# Big Error !!!\n",
        "# Using = Instead of ==\n",
        "\n",
        "if x = 10:\n",
        "    print(\"This is wrong.\")"
      ],
      "metadata": {
        "id": "SyyiqvVrWOcd"
      },
      "execution_count": null,
      "outputs": []
    },
    {
      "cell_type": "markdown",
      "source": [
        "# Membership Operator"
      ],
      "metadata": {
        "id": "iKTwsq1iwQ08"
      }
    },
    {
      "cell_type": "markdown",
      "source": [
        "- Using \"in\" and \"not in\" , Return True or False"
      ],
      "metadata": {
        "id": "2Z9zUmFCwb40"
      }
    },
    {
      "cell_type": "code",
      "source": [
        "# Example with Strings\n",
        "\n",
        "# 'in' operator\n",
        "print('a' in 'apple')\n",
        "print(\"==\"*30)\n",
        "print('z' in 'apple')\n",
        "print(\"==\"*30)\n",
        "\n",
        "\n",
        "# 'not in' operator\n",
        "print('z' not in 'apple')\n",
        "print(\"==\"*30)\n",
        "\n",
        "print('a' not in 'apple')\n"
      ],
      "metadata": {
        "colab": {
          "base_uri": "https://localhost:8080/"
        },
        "id": "pYcBcrjJvkoo",
        "outputId": "b74a453a-95e4-4c30-9c6a-fd10044843ed"
      },
      "execution_count": null,
      "outputs": [
        {
          "output_type": "stream",
          "name": "stdout",
          "text": [
            "True\n",
            "============================================================\n",
            "False\n",
            "============================================================\n",
            "True\n",
            "============================================================\n",
            "False\n"
          ]
        }
      ]
    },
    {
      "cell_type": "code",
      "source": [
        "print(2 in 123)"
      ],
      "metadata": {
        "colab": {
          "base_uri": "https://localhost:8080/",
          "height": 141
        },
        "id": "RZnP8lQpfvL_",
        "outputId": "8ddcce11-588b-4fda-9141-ba7d1d1e9f37"
      },
      "execution_count": 13,
      "outputs": [
        {
          "output_type": "error",
          "ename": "TypeError",
          "evalue": "argument of type 'int' is not iterable",
          "traceback": [
            "\u001b[0;31m---------------------------------------------------------------------------\u001b[0m",
            "\u001b[0;31mTypeError\u001b[0m                                 Traceback (most recent call last)",
            "\u001b[0;32m<ipython-input-13-d81e6597ec14>\u001b[0m in \u001b[0;36m<cell line: 0>\u001b[0;34m()\u001b[0m\n\u001b[0;32m----> 1\u001b[0;31m \u001b[0mprint\u001b[0m\u001b[0;34m(\u001b[0m\u001b[0;36m2\u001b[0m \u001b[0;32min\u001b[0m \u001b[0;36m123\u001b[0m\u001b[0;34m)\u001b[0m\u001b[0;34m\u001b[0m\u001b[0;34m\u001b[0m\u001b[0m\n\u001b[0m",
            "\u001b[0;31mTypeError\u001b[0m: argument of type 'int' is not iterable"
          ]
        }
      ]
    },
    {
      "cell_type": "code",
      "source": [
        "# Example with list\n",
        "\n",
        "my_list = [1, 2, 3, 4, 5]\n",
        "\n",
        "# 'in' operator\n",
        "print(3 in my_list)\n",
        "print(\"==\"*30)\n",
        "\n",
        "print(6 in my_list)\n",
        "print(\"==\"*30)\n",
        "\n",
        "# 'not in' operator\n",
        "print(6 not in my_list)\n",
        "print(\"==\"*30)\n",
        "print(3 not in my_list)\n"
      ],
      "metadata": {
        "colab": {
          "base_uri": "https://localhost:8080/"
        },
        "id": "mgDSXzxVwlCs",
        "outputId": "88e54e71-647a-476e-862c-32eb0b9ad1e3"
      },
      "execution_count": null,
      "outputs": [
        {
          "output_type": "stream",
          "name": "stdout",
          "text": [
            "True\n",
            "============================================================\n",
            "False\n",
            "============================================================\n",
            "True\n",
            "============================================================\n",
            "False\n"
          ]
        }
      ]
    },
    {
      "cell_type": "code",
      "source": [
        "# String Search\n",
        "sentence = \"Python is fun!\"\n",
        "if 'Python' in sentence:\n",
        "    print(\"Found 'Python'!\")"
      ],
      "metadata": {
        "colab": {
          "base_uri": "https://localhost:8080/"
        },
        "id": "a1MKSfF8wxO8",
        "outputId": "c3014f30-f33f-4b28-bc92-f5f258ef86d8"
      },
      "execution_count": null,
      "outputs": [
        {
          "output_type": "stream",
          "name": "stdout",
          "text": [
            "Found 'Python'!\n"
          ]
        }
      ]
    },
    {
      "cell_type": "markdown",
      "source": [
        "# List"
      ],
      "metadata": {
        "id": "pz4Eeu6wzaoM"
      }
    },
    {
      "cell_type": "markdown",
      "source": [
        "- A list in Python is a built-in data structure that allows you to store multiple items in a single variable\n",
        "\n",
        "- Depend on zero based index\n",
        "\n",
        "- List is mutable قابله للتعديل\n",
        "\n",
        "- Can contains different datatypes\n",
        "\n",
        "- Elements not unique\n",
        "\n",
        "- Represen by []\n",
        "\n"
      ],
      "metadata": {
        "id": "az99K-ylziLV"
      }
    },
    {
      "cell_type": "code",
      "source": [
        "# Elements are ordered\n",
        "my_list = [1, 2, 3,4,5,6]\n",
        "print(my_list)\n"
      ],
      "metadata": {
        "colab": {
          "base_uri": "https://localhost:8080/"
        },
        "id": "Jm_a8QI3xI2k",
        "outputId": "00b4d4bf-693f-4321-db21-f8991f0c59fb"
      },
      "execution_count": null,
      "outputs": [
        {
          "output_type": "stream",
          "name": "stdout",
          "text": [
            "[1, 2, 3, 4, 5, 6]\n"
          ]
        }
      ]
    },
    {
      "cell_type": "code",
      "source": [
        "# Accessing elements in list (zero based index)\n",
        "print(my_list[0])\n",
        "print(my_list[1])\n",
        "print(my_list[2])\n",
        "print(my_list[-1])"
      ],
      "metadata": {
        "colab": {
          "base_uri": "https://localhost:8080/"
        },
        "id": "iIHFZyFp0XjZ",
        "outputId": "bd01bfea-3079-41b2-a973-4dd0d7063cb5"
      },
      "execution_count": null,
      "outputs": [
        {
          "output_type": "stream",
          "name": "stdout",
          "text": [
            "1\n",
            "2\n",
            "3\n",
            "6\n"
          ]
        }
      ]
    },
    {
      "cell_type": "code",
      "source": [
        "# Slicing in list\n",
        "# [start : end : step]\n",
        "print(my_list[1 : :2])\n",
        "print(my_list[-1 : -6 : -2])"
      ],
      "metadata": {
        "colab": {
          "base_uri": "https://localhost:8080/"
        },
        "id": "jTF4d-Sb0kKp",
        "outputId": "6c5e8609-7726-4dd4-f9bb-7f9e23ee8a66"
      },
      "execution_count": null,
      "outputs": [
        {
          "output_type": "stream",
          "name": "stdout",
          "text": [
            "[2, 4, 6]\n",
            "[6, 4, 2]\n"
          ]
        }
      ]
    },
    {
      "cell_type": "code",
      "source": [
        "# list is Mutable\n",
        "my_list = [1, 2, 3, 4, 5, 6 , 10 , 20 ,30 ,40 , 50]\n",
        "my_list[1] = 99 # update inside list\n",
        "print(my_list)\n",
        "print(\"==\"*30)\n",
        "\n",
        "\n",
        "my_list[2:4]= [0 , 0 ,0 ,0]\n",
        "print(my_list)\n",
        "print(\"==\"*30)\n",
        "\n",
        "\n",
        "my_list[-1]=\"F\"\n",
        "print(my_list)\n",
        "print(\"==\"*30)\n",
        "\n",
        "\n",
        "# Out of range\n",
        "print(my_list[20])\n",
        "print(\"Out Of Range \")"
      ],
      "metadata": {
        "colab": {
          "base_uri": "https://localhost:8080/"
        },
        "id": "wag8SEU01KIU",
        "outputId": "1dd00230-8d69-4efb-ddee-334329e9f24c"
      },
      "execution_count": null,
      "outputs": [
        {
          "output_type": "stream",
          "name": "stdout",
          "text": [
            "[1, 99, 3, 4, 5, 6, 10, 20, 30, 40, 50]\n",
            "============================================================\n",
            "[1, 99, 0, 0, 0, 0, 5, 6, 10, 20, 30, 40, 50]\n",
            "============================================================\n",
            "[1, 99, 0, 0, 0, 0, 5, 6, 10, 20, 30, 40, 'F']\n",
            "============================================================\n",
            "Out Of Range \n"
          ]
        }
      ]
    },
    {
      "cell_type": "markdown",
      "source": [
        "# List Methods"
      ],
      "metadata": {
        "id": "8N5Nhlif209T"
      }
    },
    {
      "cell_type": "code",
      "source": [
        "# Append Method\n",
        "my_list = [1, 2, 3]\n",
        "my_list.append(4)\n",
        "print(my_list)"
      ],
      "metadata": {
        "colab": {
          "base_uri": "https://localhost:8080/"
        },
        "id": "p-LcXV0S1uGN",
        "outputId": "eed09730-a181-40d9-8e14-94810d5c58db"
      },
      "execution_count": null,
      "outputs": [
        {
          "output_type": "stream",
          "name": "stdout",
          "text": [
            "[1, 2, 3, 4]\n"
          ]
        }
      ]
    },
    {
      "cell_type": "code",
      "source": [
        "my_list.append([10 , 20 , 30])\n",
        "print(my_list)"
      ],
      "metadata": {
        "colab": {
          "base_uri": "https://localhost:8080/"
        },
        "id": "Q5prhvrk3W2t",
        "outputId": "74f35efb-ce37-4154-e8a7-f0139fedfe9d"
      },
      "execution_count": null,
      "outputs": [
        {
          "output_type": "stream",
          "name": "stdout",
          "text": [
            "[1, 2, 3, 4, [10, 20, 30]]\n"
          ]
        }
      ]
    },
    {
      "cell_type": "code",
      "source": [
        "# Extend methods\n",
        "my_list.extend([10 , 20 , 30])\n",
        "print(my_list)"
      ],
      "metadata": {
        "colab": {
          "base_uri": "https://localhost:8080/"
        },
        "id": "owm6a8lk3bs9",
        "outputId": "2f0b7257-07cd-4445-8af1-a3e6db015773"
      },
      "execution_count": null,
      "outputs": [
        {
          "output_type": "stream",
          "name": "stdout",
          "text": [
            "[1, 2, 3, 4, [10, 20, 30], 10, 20, 30]\n"
          ]
        }
      ]
    },
    {
      "cell_type": "code",
      "source": [
        "# insert method\n",
        "my_list.insert(0, 200)\n",
        "print(my_list)"
      ],
      "metadata": {
        "colab": {
          "base_uri": "https://localhost:8080/"
        },
        "id": "LPv67Bhi3sUS",
        "outputId": "3b5fe99f-6b15-490c-af61-7573d075efa1"
      },
      "execution_count": null,
      "outputs": [
        {
          "output_type": "stream",
          "name": "stdout",
          "text": [
            "[200, 200, 1, 2, 3, 4, [10, 20, 30], 10, 20, 30]\n"
          ]
        }
      ]
    },
    {
      "cell_type": "code",
      "source": [
        "# Remove function\n",
        "my_list.remove(2)\n",
        "print(my_list)"
      ],
      "metadata": {
        "colab": {
          "base_uri": "https://localhost:8080/"
        },
        "id": "WneWT1Y732ZX",
        "outputId": "d0f67185-b5c8-48e8-91d9-00897d37332b"
      },
      "execution_count": null,
      "outputs": [
        {
          "output_type": "stream",
          "name": "stdout",
          "text": [
            "[200, 200, 1, 3, 4, [10, 20, 30], 10, 20, 30]\n"
          ]
        }
      ]
    },
    {
      "cell_type": "code",
      "source": [
        "# del function\n",
        "del(my_list[0])"
      ],
      "metadata": {
        "id": "bt2rYJQJ4G7_"
      },
      "execution_count": null,
      "outputs": []
    },
    {
      "cell_type": "code",
      "source": [
        "my_list"
      ],
      "metadata": {
        "colab": {
          "base_uri": "https://localhost:8080/"
        },
        "id": "x7DCTyvM4bEq",
        "outputId": "cc346f89-75af-4a3d-e707-b6fce8a10511"
      },
      "execution_count": null,
      "outputs": [
        {
          "output_type": "execute_result",
          "data": {
            "text/plain": [
              "[200, 1, 3, 4, [10, 20, 30], 10, 20, 30]"
            ]
          },
          "metadata": {},
          "execution_count": 92
        }
      ]
    },
    {
      "cell_type": "code",
      "source": [
        "# sort method() => sort ascending\n",
        "lst = [20 , 100 , 0 , 17 , 44]\n",
        "lst.sort()\n",
        "print(lst)"
      ],
      "metadata": {
        "colab": {
          "base_uri": "https://localhost:8080/"
        },
        "id": "jHpQaqqC4hvO",
        "outputId": "dc050a94-6472-49a3-81f9-6dec7dcc1b37"
      },
      "execution_count": null,
      "outputs": [
        {
          "output_type": "stream",
          "name": "stdout",
          "text": [
            "[0, 17, 20, 44, 100]\n"
          ]
        }
      ]
    },
    {
      "cell_type": "code",
      "source": [
        "# sort descending\n",
        "lst = [20 , 100 , 0 , 17 , 44]\n",
        "lst.sort(reverse=True)\n",
        "print(lst)"
      ],
      "metadata": {
        "colab": {
          "base_uri": "https://localhost:8080/"
        },
        "id": "MgD2bC_v-g6X",
        "outputId": "74e06e31-84ea-4d55-fb62-7297d3caacb1"
      },
      "execution_count": null,
      "outputs": [
        {
          "output_type": "stream",
          "name": "stdout",
          "text": [
            "[100, 44, 20, 17, 0]\n"
          ]
        }
      ]
    },
    {
      "cell_type": "code",
      "source": [
        "# Reverse list\n",
        "# sort descending\n",
        "lst = [20 , 100 , 0 , 17 , 44]\n",
        "lst.reverse()\n",
        "print(lst)"
      ],
      "metadata": {
        "colab": {
          "base_uri": "https://localhost:8080/"
        },
        "id": "21z61SeF-tk8",
        "outputId": "37b077d9-07e8-4c27-94b9-d1c42f4a7350"
      },
      "execution_count": null,
      "outputs": [
        {
          "output_type": "stream",
          "name": "stdout",
          "text": [
            "[44, 17, 0, 100, 20]\n"
          ]
        }
      ]
    },
    {
      "cell_type": "code",
      "source": [
        "# sort()= >list must contains the same datatypes\n",
        "lst = [20 , 100 , 'a' , 17 , 'f']\n",
        "lst.sort()\n",
        "print(lst)\n",
        "#        ================   Error ================"
      ],
      "metadata": {
        "id": "RjzhE5aP-1WA"
      },
      "execution_count": null,
      "outputs": []
    },
    {
      "cell_type": "code",
      "source": [
        "# index => used to return index of element\n",
        "my_list = [1, 2, 3, 2]\n",
        "print(my_list.index(2))\n"
      ],
      "metadata": {
        "colab": {
          "base_uri": "https://localhost:8080/"
        },
        "id": "fES_embG_ZRP",
        "outputId": "2fbac87f-90f6-4d89-9052-933ec660f069"
      },
      "execution_count": null,
      "outputs": [
        {
          "output_type": "stream",
          "name": "stdout",
          "text": [
            "1\n"
          ]
        }
      ]
    },
    {
      "cell_type": "code",
      "source": [
        "# Count\n",
        "my_list = [1, 2, 2, 3]\n",
        "print(my_list.count(2))"
      ],
      "metadata": {
        "colab": {
          "base_uri": "https://localhost:8080/"
        },
        "id": "_pRDQCEy_xh1",
        "outputId": "c97a083e-0865-49a8-99a6-467385a53535"
      },
      "execution_count": null,
      "outputs": [
        {
          "output_type": "stream",
          "name": "stdout",
          "text": [
            "2\n"
          ]
        }
      ]
    },
    {
      "cell_type": "code",
      "source": [
        "# Shallow Copy\n",
        "my_list = [1, 2, 3]\n",
        "new_list = my_list.copy()\n",
        "my_list.append(66)\n",
        "print(\"Original List : \" , my_list)\n",
        "print(\"New List      : \"  , new_list)\n"
      ],
      "metadata": {
        "colab": {
          "base_uri": "https://localhost:8080/"
        },
        "id": "zG3m0Te8_7hA",
        "outputId": "8b318f25-80ed-49e3-f32f-a3f0d5897cf2"
      },
      "execution_count": null,
      "outputs": [
        {
          "output_type": "stream",
          "name": "stdout",
          "text": [
            "Original List :  [1, 2, 3, 66]\n",
            "New List      :  [1, 2, 3]\n"
          ]
        }
      ]
    },
    {
      "cell_type": "code",
      "source": [
        "# try itself ....\n",
        "# ******************************** Convert previous example into Deep copy ************************************\n",
        "# Shallow Copy\n",
        "my_list = [1, 2, 3]\n",
        "new_list = my_list\n",
        "my_list.append(66)\n",
        "print(\"Original List : \" , my_list)\n",
        "print(\"New List      : \"  , new_list)\n",
        "\n",
        "\n",
        "\n"
      ],
      "metadata": {
        "colab": {
          "base_uri": "https://localhost:8080/"
        },
        "id": "HocCHfEVFogB",
        "outputId": "cb66eb72-1fab-4b9b-c6e2-48080e767069"
      },
      "execution_count": 15,
      "outputs": [
        {
          "output_type": "stream",
          "name": "stdout",
          "text": [
            "Original List :  [1, 2, 3, 66]\n",
            "New List      :  [1, 2, 3, 66]\n"
          ]
        }
      ]
    },
    {
      "cell_type": "code",
      "source": [
        "# len : Returns the number of elements in the list.\n",
        "my_list = [1, 2, 3]\n",
        "print(len(my_list))\n"
      ],
      "metadata": {
        "colab": {
          "base_uri": "https://localhost:8080/"
        },
        "id": "X3qPDhGaAOkH",
        "outputId": "2a30d2ba-5fe2-48eb-8a9c-bc56a85d179d"
      },
      "execution_count": null,
      "outputs": [
        {
          "output_type": "stream",
          "name": "stdout",
          "text": [
            "3\n"
          ]
        }
      ]
    },
    {
      "cell_type": "code",
      "source": [
        "# Max , Min , Sum , Len\n",
        "my_list = [1, 2, 3]\n",
        "print(max(my_list))\n",
        "print(min(my_list))\n",
        "print(sum(my_list))\n"
      ],
      "metadata": {
        "colab": {
          "base_uri": "https://localhost:8080/"
        },
        "id": "ucwPdvLMAoYj",
        "outputId": "aa9106b4-2a7d-4bd8-de16-fb3393b7d5f6"
      },
      "execution_count": null,
      "outputs": [
        {
          "output_type": "stream",
          "name": "stdout",
          "text": [
            "3\n",
            "1\n",
            "6\n"
          ]
        }
      ]
    },
    {
      "cell_type": "code",
      "source": [
        "# write code to get average !!\n",
        "\n",
        "l =[10 , 20 , 30 , 40 ]\n",
        "\n",
        "\n",
        "print(sum(l)  / len(l))"
      ],
      "metadata": {
        "id": "ozKpbq-IA07a",
        "colab": {
          "base_uri": "https://localhost:8080/"
        },
        "outputId": "db455b6f-4356-4ab0-819f-93fdd82ad595"
      },
      "execution_count": 16,
      "outputs": [
        {
          "output_type": "stream",
          "name": "stdout",
          "text": [
            "25.0\n"
          ]
        }
      ]
    },
    {
      "cell_type": "code",
      "source": [
        "# clear() : Removes all elements from the list.\n",
        "my_list = [1, 2, 3]\n",
        "my_list.clear()\n",
        "print(my_list)\n"
      ],
      "metadata": {
        "colab": {
          "base_uri": "https://localhost:8080/"
        },
        "id": "fXZBZo8dA5sf",
        "outputId": "a490ab59-d1c8-4995-c7fd-459005930f38"
      },
      "execution_count": null,
      "outputs": [
        {
          "output_type": "stream",
          "name": "stdout",
          "text": [
            "[]\n"
          ]
        }
      ]
    },
    {
      "cell_type": "markdown",
      "source": [
        "📋 Use Case: To-Do List App\n",
        "\n",
        "🎯 Goal:\n",
        "Manage a list of tasks (add, view, remove tasks) using Python lists.\n",
        "\n",
        "🛠️ Concepts Covered:\n",
        "List creation\n",
        "\n",
        "Accessing elements by index\n",
        "\n",
        "Appending items\n",
        "\n",
        "Removing items\n",
        "\n",
        "Looping through lists\n",
        "\n"
      ],
      "metadata": {
        "id": "34OEVH-LRSMk"
      }
    },
    {
      "cell_type": "markdown",
      "source": [
        "# Solution"
      ],
      "metadata": {
        "id": "5Y9l3KSGRV2b"
      }
    },
    {
      "cell_type": "code",
      "source": [
        "# Initial to-do list\n",
        "todo_list = [\"Buy groceries\", \"Finish homework\", \"Call mom\"]\n",
        "\n",
        "# Add a new task\n",
        "todo_list.append(\"Walk the dog\")\n",
        "\n",
        "# Remove a completed task\n",
        "todo_list.remove(\"Finish homework\")\n",
        "\n",
        "# Show all tasks\n",
        "print(\"My To-Do List:\")\n",
        "for task in todo_list:\n",
        "    print(\"- \" + task)\n",
        "\n",
        "# Access a specific task\n",
        "print(\"\\nNext task to do:\", todo_list[0])\n"
      ],
      "metadata": {
        "colab": {
          "base_uri": "https://localhost:8080/"
        },
        "id": "MNJElcQ2RYoP",
        "outputId": "1befa6fa-b6cd-408e-9502-ae2cbab6d700"
      },
      "execution_count": 8,
      "outputs": [
        {
          "output_type": "stream",
          "name": "stdout",
          "text": [
            "My To-Do List:\n",
            "- Buy groceries\n",
            "- Call mom\n",
            "- Walk the dog\n",
            "\n",
            "Next task to do: Buy groceries\n"
          ]
        }
      ]
    },
    {
      "cell_type": "markdown",
      "source": [
        "# Tuple"
      ],
      "metadata": {
        "id": "1CuUg7-OBWu1"
      }
    },
    {
      "cell_type": "markdown",
      "source": [
        "- A typle in Python is a built-in data structure that allows you to store multiple items in a single variable\n",
        "\n",
        "- Depend on zero based index\n",
        "\n",
        "- Tuple is immutable غير قابله للتعديل\n",
        "\n",
        "- Can contains different datatypes\n",
        "\n",
        "- Elements not unique\n",
        "\n",
        "- Represen by ()"
      ],
      "metadata": {
        "id": "kw13H1YuBdpW"
      }
    },
    {
      "cell_type": "code",
      "source": [
        "t = (1,2,3,4,5,6)\n",
        "# print tuple\n",
        "print(t)\n",
        "print(\"=\"*30)\n",
        "\n",
        "# access element in tuple\n",
        "print(t[1])\n",
        "print(\"=\"*30)\n",
        "\n",
        "# slicing\n",
        "print(t[0:3])\n",
        "print(\"=\"*30)"
      ],
      "metadata": {
        "colab": {
          "base_uri": "https://localhost:8080/"
        },
        "id": "71SMD2YuBOyR",
        "outputId": "6746b104-efb8-4ece-f9c9-a110bff12562"
      },
      "execution_count": null,
      "outputs": [
        {
          "output_type": "stream",
          "name": "stdout",
          "text": [
            "(1, 2, 3, 4, 5, 6)\n",
            "==============================\n",
            "2\n",
            "==============================\n",
            "(1, 2, 3)\n",
            "==============================\n"
          ]
        }
      ]
    },
    {
      "cell_type": "code",
      "source": [
        "t=(22.5 , )\n",
        "type(t)"
      ],
      "metadata": {
        "colab": {
          "base_uri": "https://localhost:8080/"
        },
        "id": "LjvdkVK_YH2l",
        "outputId": "237994ef-cd3d-4655-fe23-9a5b873d341f"
      },
      "execution_count": 8,
      "outputs": [
        {
          "output_type": "execute_result",
          "data": {
            "text/plain": [
              "float"
            ]
          },
          "metadata": {},
          "execution_count": 8
        }
      ]
    },
    {
      "cell_type": "code",
      "source": [
        "# Notes\n",
        "t1 = (1)\n",
        "t2 = (1,)\n",
        "t3=1\n",
        "t4=1,\n",
        "print(type(t1) , type(t2) , type(t3) , type(t4))"
      ],
      "metadata": {
        "colab": {
          "base_uri": "https://localhost:8080/"
        },
        "id": "dZLklbG-DcvW",
        "outputId": "d8b17982-12d9-4185-c5a3-9783ebaab2d7"
      },
      "execution_count": null,
      "outputs": [
        {
          "output_type": "stream",
          "name": "stdout",
          "text": [
            "<class 'int'> <class 'tuple'> <class 'int'> <class 'tuple'>\n"
          ]
        }
      ]
    },
    {
      "cell_type": "markdown",
      "source": [
        "tuple methods\n",
        "count() - index() - len() - max() - min() - sum() - sorted()"
      ],
      "metadata": {
        "id": "LsyZJGYUEswO"
      }
    },
    {
      "cell_type": "code",
      "source": [
        "x , y , z = 10 , 20 , 30\n",
        "\n",
        "# unpacking tuples\n",
        "my_tuple = (10, 20, 30 )\n",
        "a, b, _  = my_tuple\n",
        "print(a, b)\n"
      ],
      "metadata": {
        "colab": {
          "base_uri": "https://localhost:8080/"
        },
        "id": "iIID2zRAER3y",
        "outputId": "9aafee74-4213-4e8f-dedb-a61968b54d22"
      },
      "execution_count": 15,
      "outputs": [
        {
          "output_type": "stream",
          "name": "stdout",
          "text": [
            "10 20\n"
          ]
        }
      ]
    },
    {
      "cell_type": "code",
      "source": [
        "print(_)"
      ],
      "metadata": {
        "colab": {
          "base_uri": "https://localhost:8080/"
        },
        "id": "Smy1xqMGaT0J",
        "outputId": "edb7d167-f80c-4d60-8f1c-f4ea4ced6fa0"
      },
      "execution_count": 16,
      "outputs": [
        {
          "output_type": "stream",
          "name": "stdout",
          "text": [
            "30\n"
          ]
        }
      ]
    },
    {
      "cell_type": "code",
      "source": [
        "my_tuple = (10, 20, 30)\n",
        "a,_, c = my_tuple\n",
        "print(a, c)\n"
      ],
      "metadata": {
        "colab": {
          "base_uri": "https://localhost:8080/"
        },
        "id": "WrbW91gBFN-Q",
        "outputId": "981605c1-316e-4f02-f3de-8e232e05fcae"
      },
      "execution_count": null,
      "outputs": [
        {
          "output_type": "stream",
          "name": "stdout",
          "text": [
            "10 30\n"
          ]
        }
      ]
    },
    {
      "cell_type": "code",
      "source": [
        "# Nested tuple\n",
        "nested_tuple = (1, (2, 3), (4, 5)) # t[2][1]\n",
        "print(nested_tuple[1])\n",
        "print(nested_tuple[1][0])\n"
      ],
      "metadata": {
        "colab": {
          "base_uri": "https://localhost:8080/"
        },
        "id": "__wdXl4sFRe_",
        "outputId": "15d02c21-9065-4083-fdb8-2a3512233372"
      },
      "execution_count": null,
      "outputs": [
        {
          "output_type": "stream",
          "name": "stdout",
          "text": [
            "(2, 3)\n",
            "2\n"
          ]
        }
      ]
    },
    {
      "cell_type": "code",
      "source": [
        "# Tuple concatination\n",
        "a =(1,2,3)\n",
        "b=(10,20,30)\n",
        "c = a+b\n",
        "print(c)\n",
        "\n",
        "# Numpy => support element wise operation\n",
        "\n",
        "# list , tuple ... =>Doesn't support element wise operation"
      ],
      "metadata": {
        "colab": {
          "base_uri": "https://localhost:8080/"
        },
        "id": "Lg1vxnCZFY3l",
        "outputId": "1fc06624-466d-45ca-d116-f63a2f7f82c0"
      },
      "execution_count": null,
      "outputs": [
        {
          "output_type": "stream",
          "name": "stdout",
          "text": [
            "(1, 2, 3, 10, 20, 30, 'F', 'G')\n"
          ]
        }
      ]
    },
    {
      "cell_type": "code",
      "source": [
        "# Repeat\n",
        "t=(10,20,30)\n",
        "print(t*3)"
      ],
      "metadata": {
        "colab": {
          "base_uri": "https://localhost:8080/"
        },
        "id": "l_icHPKdGBYp",
        "outputId": "225ce4c6-a2b2-44bf-ad1d-4c214369c8aa"
      },
      "execution_count": null,
      "outputs": [
        {
          "output_type": "stream",
          "name": "stdout",
          "text": [
            "(10, 20, 30, 10, 20, 30, 10, 20, 30)\n"
          ]
        }
      ]
    },
    {
      "cell_type": "code",
      "source": [
        "our_tuple= (1,2,3,4,5,6,7)\n",
        "conter  = 0\n",
        "for i in our_tuple:\n",
        "    if i % 2 == 0:\n",
        "        conter +=1\n",
        "print(\"Sum of even numbers =\", conter)"
      ],
      "metadata": {
        "colab": {
          "base_uri": "https://localhost:8080/"
        },
        "id": "dx05RmIfeO6D",
        "outputId": "f9ef50f8-8816-4266-80aa-5952f4ef7285"
      },
      "execution_count": 19,
      "outputs": [
        {
          "output_type": "stream",
          "name": "stdout",
          "text": [
            "Sum of even numbers = 3\n"
          ]
        }
      ]
    },
    {
      "cell_type": "code",
      "source": [
        "t = (11, 6, 11, 14, 0, 14)\n",
        "repeated = t * 3\n",
        "\n",
        "odd_count = 0\n",
        "even_count = 0\n",
        "\n",
        "# Loop through the repeated tuple\n",
        "for num in repeated:\n",
        "    # Count odd and even\n",
        "    if num % 2 == 0:\n",
        "        even_count += 1\n",
        "    else:\n",
        "        odd_count += 1\n",
        "\n",
        "\n",
        "# Print results\n",
        "print(\"Repeated Tuple:\", repeated)\n",
        "print(f\"Odd numbers: {odd_count}, Even numbers: {even_count}\")\n"
      ],
      "metadata": {
        "colab": {
          "base_uri": "https://localhost:8080/"
        },
        "id": "plMTLtpjzEkq",
        "outputId": "e89441bc-52f8-46d0-a8e8-4242a8743fbc"
      },
      "execution_count": 5,
      "outputs": [
        {
          "output_type": "stream",
          "name": "stdout",
          "text": [
            "Repeated Tuple: (11, 6, 11, 14, 0, 14, 11, 6, 11, 14, 0, 14, 11, 6, 11, 14, 0, 14)\n",
            "Odd numbers: 6, Even numbers: 12\n"
          ]
        }
      ]
    },
    {
      "cell_type": "code",
      "source": [
        "\n",
        "counted = []\n",
        "\n",
        "print(\"Tuple:\", t)\n",
        "print(\"Number Occurrences:\")\n",
        "\n",
        "for num in repeated:\n",
        "    if num not in counted:\n",
        "        print(f\"{num}: {repeated.count(num)} times\")\n",
        "        counted.append(num)\n"
      ],
      "metadata": {
        "colab": {
          "base_uri": "https://localhost:8080/"
        },
        "id": "k5IweQBf0dGB",
        "outputId": "3f65ae98-fd97-4677-e9bc-58748d8d4171"
      },
      "execution_count": 6,
      "outputs": [
        {
          "output_type": "stream",
          "name": "stdout",
          "text": [
            "Tuple: (11, 6, 11, 14, 0, 14)\n",
            "Number Occurrences:\n",
            "11: 6 times\n",
            "6: 3 times\n",
            "14: 6 times\n",
            "0: 3 times\n"
          ]
        }
      ]
    },
    {
      "cell_type": "code",
      "source": [
        "counted"
      ],
      "metadata": {
        "colab": {
          "base_uri": "https://localhost:8080/"
        },
        "id": "WUOfgtXQ02cS",
        "outputId": "115522da-670a-4f57-94e8-b541aaa1ec37"
      },
      "execution_count": 2,
      "outputs": [
        {
          "output_type": "execute_result",
          "data": {
            "text/plain": [
              "[4, 7, 2, 9, 1]"
            ]
          },
          "metadata": {},
          "execution_count": 2
        }
      ]
    },
    {
      "cell_type": "markdown",
      "source": [
        "# Dictionary"
      ],
      "metadata": {
        "id": "1QeDNGX3Gb7Y"
      }
    },
    {
      "cell_type": "markdown",
      "source": [
        "- Consist of key , value\n",
        "\n",
        "- No zero based index\n",
        "\n",
        "- key is immutable , value is any datatype\n",
        "\n",
        "- represt by {}"
      ],
      "metadata": {
        "id": "xEldibDMJY2c"
      }
    },
    {
      "cell_type": "code",
      "source": [
        "# create dictionary\n",
        "my_dict = {\"name\": \"Alice\", \"age\": 25, \"city\": \"New York\"}\n",
        "print(my_dict)"
      ],
      "metadata": {
        "colab": {
          "base_uri": "https://localhost:8080/"
        },
        "id": "8Lf5YBWNGSxU",
        "outputId": "ee6d6e35-8cd8-4e5c-91a8-b07ed20757c0"
      },
      "execution_count": null,
      "outputs": [
        {
          "output_type": "stream",
          "name": "stdout",
          "text": [
            "{'name': 'Alice', 'age': 25, 'city': 'New York'}\n"
          ]
        }
      ]
    },
    {
      "cell_type": "code",
      "source": [
        "# access element by key\n",
        "print(my_dict[\"name\"])"
      ],
      "metadata": {
        "colab": {
          "base_uri": "https://localhost:8080/"
        },
        "id": "klrIcL_lKMCs",
        "outputId": "c229dd16-9afd-4209-ace4-34e42e0774e9"
      },
      "execution_count": null,
      "outputs": [
        {
          "output_type": "stream",
          "name": "stdout",
          "text": [
            "Alice\n"
          ]
        }
      ]
    },
    {
      "cell_type": "code",
      "source": [
        "# Adding/Updating Items\n",
        "\n",
        "# Update\n",
        "my_dict[\"name\"] =\"Ali\"\n",
        "print(my_dict)\n",
        "\n",
        "# Adding\n",
        "my_dict[\"salary\"] =2000\n",
        "print(my_dict)"
      ],
      "metadata": {
        "colab": {
          "base_uri": "https://localhost:8080/"
        },
        "id": "dN_1otGfKY0I",
        "outputId": "fe188b7f-9b1c-4ce6-ebf0-cacc016224ac"
      },
      "execution_count": null,
      "outputs": [
        {
          "output_type": "stream",
          "name": "stdout",
          "text": [
            "{'name': 'Ali', 'age': 25, 'city': 'New York'}\n",
            "{'name': 'Ali', 'age': 25, 'city': 'New York', 'salary': 2000}\n"
          ]
        }
      ]
    },
    {
      "cell_type": "code",
      "source": [
        "# overwrite\n",
        "my_dict = {\"name\": \"Alice\", \"age\": 25, \"name\": \"Ali\"}\n",
        "print(my_dict)\n",
        "\n",
        "\n",
        "x = 2\n",
        "x =9"
      ],
      "metadata": {
        "colab": {
          "base_uri": "https://localhost:8080/"
        },
        "id": "rPSPP74dKovM",
        "outputId": "f236ab85-71e9-4902-9318-c3e13a18e026"
      },
      "execution_count": null,
      "outputs": [
        {
          "output_type": "stream",
          "name": "stdout",
          "text": [
            "{'name': 'Ali', 'age': 25}\n"
          ]
        }
      ]
    },
    {
      "cell_type": "code",
      "source": [
        "# methods in dictionary\n",
        "my_dict = {\"name\": \"Alice\", \"age\": 25, \"salary\": 2000}\n",
        "# pop\n",
        "age = my_dict.pop(\"age\")\n",
        "print(age)\n",
        "print(my_dict)"
      ],
      "metadata": {
        "colab": {
          "base_uri": "https://localhost:8080/"
        },
        "id": "DoD64k2DK8Ed",
        "outputId": "bf52ac23-6064-41bd-eca9-8f28526b86b8"
      },
      "execution_count": null,
      "outputs": [
        {
          "output_type": "stream",
          "name": "stdout",
          "text": [
            "25\n",
            "{'name': 'Alice', 'salary': 2000}\n"
          ]
        }
      ]
    },
    {
      "cell_type": "code",
      "source": [
        "# del\n",
        "del my_dict[\"name\"]\n",
        "print(my_dict)"
      ],
      "metadata": {
        "colab": {
          "base_uri": "https://localhost:8080/"
        },
        "id": "SLOWy30GLlDu",
        "outputId": "4eef2741-f189-40da-aec3-399a7e7f0ac6"
      },
      "execution_count": null,
      "outputs": [
        {
          "output_type": "stream",
          "name": "stdout",
          "text": [
            "{'salary': 2000}\n"
          ]
        }
      ]
    },
    {
      "cell_type": "code",
      "source": [
        "# update\n",
        "my_dict = {\"name\": \"Alice\", \"age\": 25, \"salary\": 2000}\n",
        "my_dict.update({\"name\":\"Ali\"})"
      ],
      "metadata": {
        "id": "df2HJDf2MPa0"
      },
      "execution_count": 8,
      "outputs": []
    },
    {
      "cell_type": "code",
      "source": [
        "# popitems() => remove last element added to list (not updates in list)\n",
        "my_dict = {\"name\": \"Alice\", \"age\": 25, \"salary\": 2000}\n",
        "my_dict['height'] = 88\n",
        "\n",
        "my_dict.popitem()"
      ],
      "metadata": {
        "colab": {
          "base_uri": "https://localhost:8080/"
        },
        "id": "FXXLKhzNMlns",
        "outputId": "1392db14-a540-4d6c-9a6e-b3820b91d0e9"
      },
      "execution_count": 22,
      "outputs": [
        {
          "output_type": "execute_result",
          "data": {
            "text/plain": [
              "('height', 88)"
            ]
          },
          "metadata": {},
          "execution_count": 22
        }
      ]
    },
    {
      "cell_type": "code",
      "source": [
        "my_dict"
      ],
      "metadata": {
        "colab": {
          "base_uri": "https://localhost:8080/"
        },
        "id": "0_sRsa4_M1IP",
        "outputId": "9af23e36-7ff5-49ab-d3fe-52751d364448"
      },
      "execution_count": 23,
      "outputs": [
        {
          "output_type": "execute_result",
          "data": {
            "text/plain": [
              "{'name': 'Alice', 'age': 25, 'salary': 2000}"
            ]
          },
          "metadata": {},
          "execution_count": 23
        }
      ]
    },
    {
      "cell_type": "code",
      "source": [
        "# get keys , values , items\n",
        "print(my_dict.keys())\n",
        "print(my_dict.values())\n",
        "print(my_dict.items())"
      ],
      "metadata": {
        "colab": {
          "base_uri": "https://localhost:8080/"
        },
        "id": "uVeYMRHFM7CV",
        "outputId": "3b43fdbe-8408-4312-8da4-be9d4b9ab9ef"
      },
      "execution_count": 24,
      "outputs": [
        {
          "output_type": "stream",
          "name": "stdout",
          "text": [
            "dict_keys(['name', 'age', 'salary'])\n",
            "dict_values(['Alice', 25, 2000])\n",
            "dict_items([('name', 'Alice'), ('age', 25), ('salary', 2000)])\n"
          ]
        }
      ]
    },
    {
      "cell_type": "code",
      "source": [
        "print(type(my_dict.items()))"
      ],
      "metadata": {
        "colab": {
          "base_uri": "https://localhost:8080/"
        },
        "id": "_TZ7ikmfhSvh",
        "outputId": "ace38d3c-29aa-43c7-b5a8-e117110769ec"
      },
      "execution_count": 25,
      "outputs": [
        {
          "output_type": "stream",
          "name": "stdout",
          "text": [
            "<class 'dict_items'>\n"
          ]
        }
      ]
    },
    {
      "cell_type": "code",
      "source": [
        "# copy , clarr method\n",
        "new_dic = my_dict.copy()\n",
        "my_dict.clear()\n",
        "print(\"Original Dictionaty : \" , my_dict)\n",
        "print(\"New Dictionaty : \" , new_dic)"
      ],
      "metadata": {
        "colab": {
          "base_uri": "https://localhost:8080/"
        },
        "id": "NHIZ_xnXODOo",
        "outputId": "352f9ab7-6d94-4b1c-b7c2-b226564279f3"
      },
      "execution_count": null,
      "outputs": [
        {
          "output_type": "stream",
          "name": "stdout",
          "text": [
            "Original Dictionaty :  {}\n",
            "New Dictionaty :  {'name': 'Alice', 'age': 25, 'salary': 2000}\n"
          ]
        }
      ]
    },
    {
      "cell_type": "markdown",
      "source": [
        "# Set"
      ],
      "metadata": {
        "id": "XKbVe5EDOsTq"
      }
    },
    {
      "cell_type": "markdown",
      "source": [
        "- A set in Python is a built-in data structure that allows you to store multiple items in a single variable\n",
        "\n",
        "- No zero based index\n",
        "\n",
        "- Elements not ordered\n",
        "\n",
        "- Elements must be  immutable (string - number - tuple)\n",
        "\n",
        "- Can contains different datatypes\n",
        "\n",
        "- Elements must be  unique\n",
        "\n",
        "- Represen by {}"
      ],
      "metadata": {
        "id": "3LGyNDm9q7XD"
      }
    },
    {
      "cell_type": "code",
      "source": [
        "s= {1 , 5 , \"a\" , \"b\" , \"c\"}\n",
        "# Elements not ordered\n",
        "print(s)\n"
      ],
      "metadata": {
        "colab": {
          "base_uri": "https://localhost:8080/"
        },
        "id": "ru-ht8cPNwBr",
        "outputId": "a050b397-138f-414a-eea7-5b1f4348ea19"
      },
      "execution_count": null,
      "outputs": [
        {
          "output_type": "stream",
          "name": "stdout",
          "text": [
            "{'a', 1, 'c', 5, 'b'}\n"
          ]
        }
      ]
    },
    {
      "cell_type": "code",
      "source": [
        "# Elements must be immutable\n",
        "s={1,2 , \"Ali\" , (1,2,3)}\n",
        "print(s)"
      ],
      "metadata": {
        "colab": {
          "base_uri": "https://localhost:8080/"
        },
        "id": "a5dE3tOSQWaQ",
        "outputId": "ef81537e-8109-43ae-b163-ab37b764be6e"
      },
      "execution_count": null,
      "outputs": [
        {
          "output_type": "stream",
          "name": "stdout",
          "text": [
            "{1, 2, (1, 2, 3), 'Ali'}\n"
          ]
        }
      ]
    },
    {
      "cell_type": "code",
      "source": [
        "s={1,2 , \"Ali\" , [1,2,3]} # list , Dic , set\n",
        "# ============================== TypeError: unhashable type: 'list' ====================="
      ],
      "metadata": {
        "id": "PwU8bIyFQeGU"
      },
      "execution_count": null,
      "outputs": []
    },
    {
      "cell_type": "code",
      "source": [
        "# methods in set\n",
        "\n",
        "# union (|)\n",
        "set1 = {1, 2, 3}\n",
        "set2 = {3, 4, 5}\n",
        "print(set1.union(set2)) # set1 | set2\n"
      ],
      "metadata": {
        "colab": {
          "base_uri": "https://localhost:8080/"
        },
        "id": "DZUPPlDTQ1a6",
        "outputId": "48f41bd8-3fcc-4d4e-8d72-8fb19fb4d8ff"
      },
      "execution_count": 18,
      "outputs": [
        {
          "output_type": "stream",
          "name": "stdout",
          "text": [
            "{1, 2, 3, 4, 5}\n"
          ]
        }
      ]
    },
    {
      "cell_type": "code",
      "source": [
        "# intersection (&)\n",
        "set1 = {1, 2, 3}\n",
        "set2 = {3, 4, 5}\n",
        "print(set1.intersection(set2))\n"
      ],
      "metadata": {
        "colab": {
          "base_uri": "https://localhost:8080/"
        },
        "id": "XuFcnek9RUBx",
        "outputId": "1e199247-d827-4ed9-fd7d-588ad32faace"
      },
      "execution_count": null,
      "outputs": [
        {
          "output_type": "stream",
          "name": "stdout",
          "text": [
            "{3}\n"
          ]
        }
      ]
    },
    {
      "cell_type": "code",
      "source": [
        "# difference (-)\n",
        "set1 = {1, 2, 3}\n",
        "set2 = {3, 4, 5}\n",
        "print(set1.difference(set2))\n"
      ],
      "metadata": {
        "colab": {
          "base_uri": "https://localhost:8080/"
        },
        "id": "8d6P1D5oRhEi",
        "outputId": "30298bee-b66f-4325-dbeb-051d5b853cb2"
      },
      "execution_count": null,
      "outputs": [
        {
          "output_type": "stream",
          "name": "stdout",
          "text": [
            "{1, 2}\n"
          ]
        }
      ]
    },
    {
      "cell_type": "code",
      "source": [
        "# symmetric_difference() or ^\n",
        "# Returns a new set containing elements not common to both sets.\n",
        "set1 = {1, 2, 3}\n",
        "set2 = {3, 4, 5}\n",
        "print(set1.symmetric_difference(set2))"
      ],
      "metadata": {
        "colab": {
          "base_uri": "https://localhost:8080/"
        },
        "id": "zQggfDpJR6H1",
        "outputId": "99d455d4-6e3c-4bfd-b8d0-a49cb2fc5c7a"
      },
      "execution_count": null,
      "outputs": [
        {
          "output_type": "stream",
          "name": "stdout",
          "text": [
            "{1, 2, 4, 5}\n"
          ]
        }
      ]
    },
    {
      "cell_type": "code",
      "source": [
        "# a. issubset()\n",
        "set1 = {1, 2}\n",
        "set2 = {1, 2, 3}\n",
        "print(set1.issubset(set2))"
      ],
      "metadata": {
        "colab": {
          "base_uri": "https://localhost:8080/"
        },
        "id": "IY4VsKXhSKXS",
        "outputId": "4a0af6cd-28f9-47bf-f19c-a2a1f7c3ba6b"
      },
      "execution_count": null,
      "outputs": [
        {
          "output_type": "stream",
          "name": "stdout",
          "text": [
            "True\n"
          ]
        }
      ]
    },
    {
      "cell_type": "code",
      "source": [
        "set1 = {1, 6}\n",
        "set2 = {1, 2, 3}\n",
        "print(set1.issubset(set2))"
      ],
      "metadata": {
        "colab": {
          "base_uri": "https://localhost:8080/"
        },
        "id": "ohhcjLO5SWYg",
        "outputId": "14dfb316-2f78-4e6c-e70e-998b09b5411e"
      },
      "execution_count": null,
      "outputs": [
        {
          "output_type": "stream",
          "name": "stdout",
          "text": [
            "False\n"
          ]
        }
      ]
    },
    {
      "cell_type": "code",
      "source": [
        "# issuperset()\n",
        "set1 = {1, 2, 3}\n",
        "set2 = {1, 2}\n",
        "print(set1.issuperset(set2))\n"
      ],
      "metadata": {
        "colab": {
          "base_uri": "https://localhost:8080/"
        },
        "id": "IAd5DgnTSbyY",
        "outputId": "eed9f836-eae7-4f8d-9d9c-88259fe7e8a5"
      },
      "execution_count": null,
      "outputs": [
        {
          "output_type": "stream",
          "name": "stdout",
          "text": [
            "True\n"
          ]
        }
      ]
    },
    {
      "cell_type": "code",
      "source": [
        "set1 = {1, 2, 3}\n",
        "set2 = {1, 2 , 8}\n",
        "print(set1.issuperset(set2))"
      ],
      "metadata": {
        "colab": {
          "base_uri": "https://localhost:8080/"
        },
        "id": "BmrqNhlhSkpt",
        "outputId": "50e15e01-e204-4513-84db-f864c1102b2d"
      },
      "execution_count": null,
      "outputs": [
        {
          "output_type": "stream",
          "name": "stdout",
          "text": [
            "False\n"
          ]
        }
      ]
    },
    {
      "cell_type": "code",
      "source": [
        "# isdisjoint() : Checks if two sets have no elements in common.\n",
        "set1 = {1, 2, 3}\n",
        "set2 = {4, 5}\n",
        "print(set1.isdisjoint(set2))\n"
      ],
      "metadata": {
        "colab": {
          "base_uri": "https://localhost:8080/"
        },
        "id": "Rps_6s2oSwPW",
        "outputId": "b1e8aef1-9a67-4f8b-affc-d6a5a88b1186"
      },
      "execution_count": null,
      "outputs": [
        {
          "output_type": "stream",
          "name": "stdout",
          "text": [
            "True\n"
          ]
        }
      ]
    },
    {
      "cell_type": "code",
      "source": [
        "set1 = {1, 2, 3,5}\n",
        "set2 = {4, 5}\n",
        "print(set1.isdisjoint(set2))"
      ],
      "metadata": {
        "colab": {
          "base_uri": "https://localhost:8080/"
        },
        "id": "lUOA157iS2yB",
        "outputId": "68aad530-e00f-4686-e8cd-80a0231d12a9"
      },
      "execution_count": null,
      "outputs": [
        {
          "output_type": "stream",
          "name": "stdout",
          "text": [
            "False\n"
          ]
        }
      ]
    },
    {
      "cell_type": "code",
      "source": [
        "# Add to set\n",
        "my_set = {1, 2, 3}\n",
        "my_set.add(4)\n",
        "print(my_set)\n"
      ],
      "metadata": {
        "colab": {
          "base_uri": "https://localhost:8080/"
        },
        "id": "1lYMgygoTAHF",
        "outputId": "aebcbc3a-5adb-4c16-b76a-71b64f4f55b2"
      },
      "execution_count": null,
      "outputs": [
        {
          "output_type": "stream",
          "name": "stdout",
          "text": [
            "{1, 2, 3, 4}\n"
          ]
        }
      ]
    },
    {
      "cell_type": "code",
      "source": [
        "# Remove\n",
        "my_set = {1, 2, 3 }\n",
        "my_set.remove(2)\n",
        "print(my_set)"
      ],
      "metadata": {
        "colab": {
          "base_uri": "https://localhost:8080/"
        },
        "id": "CcjC_d9YTOAS",
        "outputId": "307f1397-9635-49e7-a75a-078128e889e1"
      },
      "execution_count": 26,
      "outputs": [
        {
          "output_type": "stream",
          "name": "stdout",
          "text": [
            "{1, 3}\n"
          ]
        }
      ]
    },
    {
      "cell_type": "code",
      "source": [
        "my_set = {1, 2, 3}\n",
        "my_set.remove(6)\n",
        "print(my_set)\n",
        "# ================================= KeyError: 6 ==========================="
      ],
      "metadata": {
        "id": "2AGIe4fhTSYm"
      },
      "execution_count": null,
      "outputs": []
    },
    {
      "cell_type": "code",
      "source": [
        "my_set = {1, 2, 3}\n",
        "my_set.discard(6)\n",
        "print(my_set)\n",
        "# ================================= No Error =========================\n"
      ],
      "metadata": {
        "colab": {
          "base_uri": "https://localhost:8080/"
        },
        "id": "ikLo7SorTb4N",
        "outputId": "d88e12b6-e5c6-4b37-bc73-3bacff4da421"
      },
      "execution_count": null,
      "outputs": [
        {
          "output_type": "stream",
          "name": "stdout",
          "text": [
            "{1, 2, 3}\n"
          ]
        }
      ]
    },
    {
      "cell_type": "code",
      "source": [
        "# pop : remove random number\n",
        "\n",
        "my_set = {1, 2, 3}\n",
        "print(my_set)\n",
        "print(my_set.pop())\n",
        "print(my_set)\n"
      ],
      "metadata": {
        "colab": {
          "base_uri": "https://localhost:8080/"
        },
        "id": "wyx649QsTmul",
        "outputId": "5bad57f5-de4a-4c14-c385-ef4acf2ea463"
      },
      "execution_count": 7,
      "outputs": [
        {
          "output_type": "stream",
          "name": "stdout",
          "text": [
            "{1, 2, 3}\n",
            "1\n",
            "{2, 3}\n"
          ]
        }
      ]
    },
    {
      "cell_type": "code",
      "source": [
        "# clear : clear sets\n",
        "my_set = {1, 2, 3}\n",
        "my_set.clear()\n",
        "print(my_set)"
      ],
      "metadata": {
        "colab": {
          "base_uri": "https://localhost:8080/"
        },
        "id": "KLdw6pgzT5xv",
        "outputId": "c1c041ec-5ac5-49ee-9562-f51a1d9c2934"
      },
      "execution_count": null,
      "outputs": [
        {
          "output_type": "stream",
          "name": "stdout",
          "text": [
            "set()\n"
          ]
        }
      ]
    },
    {
      "cell_type": "markdown",
      "source": [
        "# Boolean"
      ],
      "metadata": {
        "id": "VMOliHuiO9cN"
      }
    },
    {
      "cell_type": "markdown",
      "source": [
        "- bool built in function used to check statement and return True or False\n",
        "\n",
        "- return false if statment is (false - 0 -null)"
      ],
      "metadata": {
        "id": "yDftHuMsPIRt"
      }
    },
    {
      "cell_type": "code",
      "source": [
        "# return false\n",
        "print(bool(\"\"))\n",
        "print(bool(0))\n",
        "print(bool([]))\n",
        "print(bool(False))\n",
        "print(bool(2 < 1))\n",
        "\n",
        "\n",
        "print(\"=\"*20,\"*\"*20, \"=\"*20)\n",
        "# return true\n",
        "print(bool(\" \"))\n",
        "print(bool(10))\n",
        "print(bool([1 ,2 , 3]))\n",
        "print(bool(True))\n",
        "print(bool(2 > 1))"
      ],
      "metadata": {
        "colab": {
          "base_uri": "https://localhost:8080/"
        },
        "id": "6Omf2V3fPAGv",
        "outputId": "44d5a42c-1bd6-49f9-ae45-285088ebc26d"
      },
      "execution_count": null,
      "outputs": [
        {
          "output_type": "stream",
          "name": "stdout",
          "text": [
            "False\n",
            "False\n",
            "False\n",
            "False\n",
            "False\n",
            "==================== ******************** ====================\n",
            "True\n",
            "True\n",
            "True\n",
            "True\n",
            "True\n"
          ]
        }
      ]
    },
    {
      "cell_type": "markdown",
      "source": [
        "# Type Conversion"
      ],
      "metadata": {
        "id": "hteyKY75VWss"
      }
    },
    {
      "cell_type": "code",
      "source": [
        "# Integer to Float\n",
        "x = 10  # Integer\n",
        "y = float(x)\n",
        "print(y)       # Output: 10.0\n",
        "print(type(y))\n"
      ],
      "metadata": {
        "colab": {
          "base_uri": "https://localhost:8080/"
        },
        "id": "eCaAVeahP1pa",
        "outputId": "abc68891-40f4-4923-8256-be5335cc03fc"
      },
      "execution_count": null,
      "outputs": [
        {
          "output_type": "stream",
          "name": "stdout",
          "text": [
            "10.0\n",
            "<class 'float'>\n"
          ]
        }
      ]
    },
    {
      "cell_type": "code",
      "source": [
        "# Float to Integer\n",
        "x = 10.7\n",
        "y = int(x)\n",
        "print(y)\n",
        "print(type(y))\n"
      ],
      "metadata": {
        "colab": {
          "base_uri": "https://localhost:8080/"
        },
        "id": "BtEA4MLrVf62",
        "outputId": "89433bad-fda1-4e31-f1e1-ed94dff2f867"
      },
      "execution_count": null,
      "outputs": [
        {
          "output_type": "stream",
          "name": "stdout",
          "text": [
            "10\n",
            "<class 'int'>\n"
          ]
        }
      ]
    },
    {
      "cell_type": "code",
      "source": [
        "# String to Integer\n",
        "x = \"123\"\n",
        "y = int(x)  # Convert to integer\n",
        "print(y)\n",
        "print(type(y))\n",
        "\n",
        "f = float(x)  # Convert to integer\n",
        "print(f)\n",
        "print(type(f))\n",
        "\n",
        "\n",
        "# =================================\n",
        "\n",
        "# string to float\n",
        "x = \"123.6\"\n",
        "y = int(x)  # Convert to integer\n",
        "print(y)\n",
        "print(type(y))\n",
        "\n",
        "# ========  ValueError: invalid literal for int() with base 10: '123.6'  ====================="
      ],
      "metadata": {
        "colab": {
          "base_uri": "https://localhost:8080/"
        },
        "id": "WaRpoQV4VqBg",
        "outputId": "8cb03002-2758-4da8-e1be-948b6b444e2b"
      },
      "execution_count": 19,
      "outputs": [
        {
          "output_type": "stream",
          "name": "stdout",
          "text": [
            "123\n",
            "<class 'int'>\n",
            "123.0\n",
            "<class 'float'>\n"
          ]
        }
      ]
    },
    {
      "cell_type": "code",
      "source": [
        "# Integer to string\n",
        "x = 123  # Integer\n",
        "y = str(x)  # Convert to string\n",
        "print(y)\n",
        "print(type(y))\n",
        "\n",
        "\n",
        "# =============================\n",
        "\n",
        "# Float to string\n",
        "x = 123.7  # Float\n",
        "y = str(x)  # Convert to string\n",
        "print(y)\n",
        "print(type(y))\n",
        "\n"
      ],
      "metadata": {
        "colab": {
          "base_uri": "https://localhost:8080/"
        },
        "id": "jHyEeVRNWHtc",
        "outputId": "03e64f1a-976c-40ff-a707-2f3eee873381"
      },
      "execution_count": null,
      "outputs": [
        {
          "output_type": "stream",
          "name": "stdout",
          "text": [
            "123\n",
            "<class 'str'>\n",
            "123.7\n",
            "<class 'str'>\n"
          ]
        }
      ]
    },
    {
      "cell_type": "code",
      "source": [
        "# List to set\n",
        "\n",
        "x = [1, 2, 3, 3]  # List\n",
        "y = set(x)  # Convert to set (removes duplicates)\n",
        "print(y)\n",
        "print(type(y))\n"
      ],
      "metadata": {
        "colab": {
          "base_uri": "https://localhost:8080/"
        },
        "id": "aPoDeftpVz2W",
        "outputId": "6e8dcf3a-9d11-49b1-981e-9f94b788a2bc"
      },
      "execution_count": null,
      "outputs": [
        {
          "output_type": "stream",
          "name": "stdout",
          "text": [
            "{1, 2, 3}\n",
            "<class 'set'>\n"
          ]
        }
      ]
    },
    {
      "cell_type": "code",
      "source": [
        "# String to list\n",
        "\n",
        "x = \"hello\"  # String\n",
        "y = list(x)  # Convert to list\n",
        "print(y)\n",
        "print(type(y))\n"
      ],
      "metadata": {
        "colab": {
          "base_uri": "https://localhost:8080/"
        },
        "id": "bo4pg-aHWfE6",
        "outputId": "211a69f4-d05a-4a38-847b-8382dfa82f84"
      },
      "execution_count": null,
      "outputs": [
        {
          "output_type": "stream",
          "name": "stdout",
          "text": [
            "['h', 'e', 'l', 'l', 'o']\n",
            "<class 'list'>\n"
          ]
        }
      ]
    },
    {
      "cell_type": "code",
      "source": [
        "# bool\n",
        "# convert to bool\n",
        "\n",
        "print(bool(0))\n",
        "print(bool(1))\n",
        "print(bool([]))\n",
        "print(bool([1, 2]))\n"
      ],
      "metadata": {
        "colab": {
          "base_uri": "https://localhost:8080/"
        },
        "id": "wS3wUAsbWkz7",
        "outputId": "15b2f909-4468-486d-b228-7c43b2258a53"
      },
      "execution_count": null,
      "outputs": [
        {
          "output_type": "stream",
          "name": "stdout",
          "text": [
            "False\n",
            "True\n",
            "False\n",
            "True\n"
          ]
        }
      ]
    },
    {
      "cell_type": "markdown",
      "source": [
        "🎯 Use Case: Representing Coordinates\n",
        "\n",
        "get distance between two points using tuple\n",
        "\n"
      ],
      "metadata": {
        "id": "GXeJn2Icp8z5"
      }
    },
    {
      "cell_type": "code",
      "source": [
        "# Representing coordinates with tuples\n",
        "point1 = (4, 5)\n",
        "point2 = (7, 9)\n",
        "result = ((point1[0] - point2[0])**2 + (point1[1] - point2[1])**2) ** 0.5\n",
        "print(result)"
      ],
      "metadata": {
        "colab": {
          "base_uri": "https://localhost:8080/"
        },
        "id": "iuPR34OxqSzg",
        "outputId": "9b750c01-d7b4-4919-b0b5-8ba9b4c9be74"
      },
      "execution_count": 20,
      "outputs": [
        {
          "output_type": "stream",
          "name": "stdout",
          "text": [
            "5.0\n"
          ]
        }
      ]
    },
    {
      "cell_type": "markdown",
      "source": [
        "# Chain Rule"
      ],
      "metadata": {
        "id": "TkccrPFJW1Z0"
      }
    },
    {
      "cell_type": "code",
      "source": [
        "\"mostafa ahmed\".upper().title().swapcase() # MOSTAFA AHMED => Mostafa Ahmed => mOSTAFA aAHMED"
      ],
      "metadata": {
        "colab": {
          "base_uri": "https://localhost:8080/",
          "height": 35
        },
        "id": "R_JzLVF6WuSh",
        "outputId": "c4f19ee2-9beb-4755-8879-ad15876dcd0b"
      },
      "execution_count": null,
      "outputs": [
        {
          "output_type": "execute_result",
          "data": {
            "text/plain": [
              "'mOSTAFA aHMED'"
            ],
            "application/vnd.google.colaboratory.intrinsic+json": {
              "type": "string"
            }
          },
          "metadata": {},
          "execution_count": 38
        }
      ]
    },
    {
      "cell_type": "markdown",
      "source": [
        "# Input User"
      ],
      "metadata": {
        "id": "2jDwLWDzXuTu"
      }
    },
    {
      "cell_type": "code",
      "source": [
        "# Asking for the user's name\n",
        "name = input(\"What is your name? \")\n",
        "\n",
        "# Displaying the input\n",
        "print(\"Hello, \" + name + \"!\")\n"
      ],
      "metadata": {
        "colab": {
          "base_uri": "https://localhost:8080/"
        },
        "id": "eFg1KHA8Xh3Q",
        "outputId": "4049157e-47e7-44df-8fc2-ef104f02f1a5"
      },
      "execution_count": 8,
      "outputs": [
        {
          "output_type": "stream",
          "name": "stdout",
          "text": [
            "What is your name? Ali\n",
            "Hello, Ali!\n"
          ]
        }
      ]
    },
    {
      "cell_type": "code",
      "source": [
        "age = input(\"Enter your age: \") # \"20\" * 3 => Repeat\n",
        "print (age * 3)"
      ],
      "metadata": {
        "id": "jDsU0Finp-ya"
      },
      "execution_count": null,
      "outputs": []
    },
    {
      "cell_type": "code",
      "source": [
        "# Asking for a number\n",
        "age = int(input(\"Enter your age: \"))\n",
        "\n",
        "# Displaying the input\n",
        "print(\"You are\", age, \"years old.\")\n"
      ],
      "metadata": {
        "colab": {
          "base_uri": "https://localhost:8080/"
        },
        "id": "MBaraGLZXxbO",
        "outputId": "3b517f49-150b-4bb2-f3be-4320d6b715eb"
      },
      "execution_count": null,
      "outputs": [
        {
          "output_type": "stream",
          "name": "stdout",
          "text": [
            "Enter your age: 44\n",
            "You are 44 years old.\n"
          ]
        }
      ]
    },
    {
      "cell_type": "code",
      "source": [
        "s = \"mostafa ahmed\"\n",
        "s.split()"
      ],
      "metadata": {
        "colab": {
          "base_uri": "https://localhost:8080/"
        },
        "id": "-4zbf7spqubo",
        "outputId": "3c88ffa2-01e5-4ce6-b08e-c226e99f9c6b"
      },
      "execution_count": 28,
      "outputs": [
        {
          "output_type": "execute_result",
          "data": {
            "text/plain": [
              "['mostafa', 'ahmed']"
            ]
          },
          "metadata": {},
          "execution_count": 28
        }
      ]
    },
    {
      "cell_type": "code",
      "source": [
        "# Taking multiple inputs in a single line\n",
        "x, y, z = input(\"Enter three numbers separated by space: \").split()\n",
        "\n",
        "# Converting to integers\n",
        "x, y, z = int(x), int(y), int(z)\n",
        "\n",
        "# Displaying the input\n",
        "print(\"You entered:\", x, y, z)\n"
      ],
      "metadata": {
        "colab": {
          "base_uri": "https://localhost:8080/"
        },
        "id": "SqIm-UC2X1u3",
        "outputId": "52430695-84e5-4404-ff89-ba022d5801c7"
      },
      "execution_count": 29,
      "outputs": [
        {
          "output_type": "stream",
          "name": "stdout",
          "text": [
            "Enter three numbers separated by space: 10 20 30 \n",
            "You entered: 10 20 30\n"
          ]
        }
      ]
    },
    {
      "cell_type": "code",
      "source": [
        "import math\n",
        "print(\"Choose an option:\")\n",
        "print(\"1. Calculate the area of a rectangle\")\n",
        "print(\"2. Calculate the area of a circle\")\n",
        "\n",
        "# Get the user's choice\n",
        "choice = input(\"Enter 1 or 2: \")\n",
        "\n",
        "if choice == \"1\":\n",
        "    # Rectangle area calculation\n",
        "    length = float(input(\"Enter the length of the rectangle: \"))\n",
        "    width = float(input(\"Enter the width of the rectangle: \"))\n",
        "    area = length * width\n",
        "    print(f\"The area of the rectangle is: {area:.2f}\")\n",
        "\n",
        "elif choice == \"2\":\n",
        "    # Circle area calculation\n",
        "    radius = float(input(\"Enter the radius of the circle: \"))\n",
        "    area = math.pi * radius**2\n",
        "    print(f\"The area of the circle is: {area:.2f}\")\n",
        "\n",
        "else:\n",
        "    print(\"Invalid choice. Please enter 1 or 2.\")"
      ],
      "metadata": {
        "colab": {
          "base_uri": "https://localhost:8080/"
        },
        "id": "Kv66-smVX-T0",
        "outputId": "4dff36ab-6c2c-42f1-defc-ff38da2ec3cf"
      },
      "execution_count": 31,
      "outputs": [
        {
          "output_type": "stream",
          "name": "stdout",
          "text": [
            "Choose an option:\n",
            "1. Calculate the area of a rectangle\n",
            "2. Calculate the area of a circle\n",
            "Enter 1 or 2: 5\n",
            "Invalid choice. Please enter 1 or 2.\n"
          ]
        }
      ]
    },
    {
      "cell_type": "markdown",
      "source": [
        "# Try to get !!!\n",
        "\n",
        "Enter your name: Mostafa\n",
        "\n",
        "Enter your age: 25\n",
        "\n",
        "Enter your email: mostafa@example.com\n",
        "\n",
        "\n",
        "\n",
        "Output =>>>\n",
        "\n",
        "\n",
        "Welcome, Mostafa!\n",
        "\n",
        "Your age is 25 and your email is mostafa@example.com.\n"
      ],
      "metadata": {
        "id": "AUQQ836dR3kY"
      }
    },
    {
      "cell_type": "markdown",
      "source": [
        "# if statement"
      ],
      "metadata": {
        "id": "4IwUuyAXZwGt"
      }
    },
    {
      "cell_type": "markdown",
      "source": [
        "Conditional statements allow you to execute certain blocks of code based on whether a condition is True or False. Python provides several ways to handle conditions using the if, elif, and else statements.\n",
        "\n"
      ],
      "metadata": {
        "id": "rsDT4rXVZ44B"
      }
    },
    {
      "cell_type": "markdown",
      "source": [
        "Basic Syntax:\n"
      ],
      "metadata": {
        "id": "Fkn4MeJzZ75o"
      }
    },
    {
      "cell_type": "code",
      "source": [
        "'''\n",
        "if condition:\n",
        "    # Code block executed if the condition is True\n",
        "elif another_condition:\n",
        "    # Code block executed if the previous condition is False and this one is True\n",
        "else:\n",
        "    # Code block executed if all previous conditions are False\n",
        "'''"
      ],
      "metadata": {
        "id": "xr4w8OdMYmhB"
      },
      "execution_count": null,
      "outputs": []
    },
    {
      "cell_type": "code",
      "source": [
        "x = 10\n",
        "\n",
        "if x > 5:\n",
        "    print(\"x is greater than 5\")\n"
      ],
      "metadata": {
        "colab": {
          "base_uri": "https://localhost:8080/"
        },
        "id": "CXMGZ9g6aB0K",
        "outputId": "c9230d22-2116-468f-e4d9-5ce29e0801cb"
      },
      "execution_count": null,
      "outputs": [
        {
          "output_type": "stream",
          "name": "stdout",
          "text": [
            "x is greater than 5\n"
          ]
        }
      ]
    },
    {
      "cell_type": "code",
      "source": [
        "x = 3\n",
        "\n",
        "if x > 5:\n",
        "    print(\"x is greater than 5\")\n",
        "\n",
        "else:\n",
        "    print(\"x is less than or equal to 5\")"
      ],
      "metadata": {
        "colab": {
          "base_uri": "https://localhost:8080/"
        },
        "id": "acZf4LOCaItX",
        "outputId": "fb45c387-ad06-40b2-fb2f-4ed142052dc5"
      },
      "execution_count": null,
      "outputs": [
        {
          "output_type": "stream",
          "name": "stdout",
          "text": [
            "x is less than or equal to 5\n"
          ]
        }
      ]
    },
    {
      "cell_type": "code",
      "source": [
        "x = 15\n",
        "\n",
        "if x < 10:\n",
        "    print(\"x is less than 10\")\n",
        "elif x == 10:\n",
        "    print(\"x is equal to 10\")\n",
        "else:\n",
        "    print(\"x is greater than 10\")\n"
      ],
      "metadata": {
        "id": "olZKpPONaKj9"
      },
      "execution_count": 32,
      "outputs": []
    },
    {
      "cell_type": "code",
      "source": [
        "# Nested if\n",
        "x = 20\n",
        "\n",
        "if x > 10:\n",
        "    if x % 2 == 0:\n",
        "        print(\"x is greater than 10 and even\")\n",
        "    else:\n",
        "        print(\"x is greater than 10 and odd\")\n"
      ],
      "metadata": {
        "colab": {
          "base_uri": "https://localhost:8080/"
        },
        "id": "nvzN0c1waM0J",
        "outputId": "6a3aa2fe-11e5-42f2-f2a3-2dcfcf5f55b9"
      },
      "execution_count": null,
      "outputs": [
        {
          "output_type": "stream",
          "name": "stdout",
          "text": [
            "x is greater than 10 and even\n"
          ]
        }
      ]
    },
    {
      "cell_type": "code",
      "source": [
        "# Ternary operator\n",
        "x = 10\n",
        "message = \"x is even\" if x % 2 == 0 else \"x is odd\"\n",
        "print(message)\n"
      ],
      "metadata": {
        "colab": {
          "base_uri": "https://localhost:8080/"
        },
        "id": "LsMQVO-AaS4w",
        "outputId": "832adac7-94ac-457d-9dae-bf0f9aa63055"
      },
      "execution_count": null,
      "outputs": [
        {
          "output_type": "stream",
          "name": "stdout",
          "text": [
            "x is even\n"
          ]
        }
      ]
    },
    {
      "cell_type": "code",
      "source": [
        "# Ternary operator with Nested if\n",
        "x = 15\n",
        "\n",
        "# Using ternary if with elif for multiple conditions\n",
        "result = \"small\" if x < 10 else \"medium\" if x < 20 else \"large\"\n",
        "\n",
        "print(f\"x is {result}\")\n"
      ],
      "metadata": {
        "colab": {
          "base_uri": "https://localhost:8080/"
        },
        "id": "6m0po_xKamQg",
        "outputId": "3eb68ac4-4b97-40cb-a0d6-85ed31950131"
      },
      "execution_count": null,
      "outputs": [
        {
          "output_type": "stream",
          "name": "stdout",
          "text": [
            "x is medium\n"
          ]
        }
      ]
    },
    {
      "cell_type": "markdown",
      "source": [
        "⚖️ Use Case: Age Checker for Movie Access\n",
        "\n",
        "🎯 Goal:\n",
        "Check if a user is old enough to watch an age-restricted movie.\n",
        "\n",
        "\n",
        "🛠️ Concepts Covered:\n",
        "if, elif, and else statements\n",
        "\n",
        "Comparison operators (>=, <)\n",
        "\n",
        "User input and type conversion"
      ],
      "metadata": {
        "id": "AFqqSQVHSPh5"
      }
    },
    {
      "cell_type": "markdown",
      "source": [
        "# For Loop"
      ],
      "metadata": {
        "id": "Ys98uBExbkec"
      }
    },
    {
      "cell_type": "markdown",
      "source": [
        "The for loop in Python is used to iterate over a sequence (such as a list, tuple, string, or range) and execute a block of code repeatedly for each item in the sequence."
      ],
      "metadata": {
        "id": "vgh9mpwzcSZX"
      }
    },
    {
      "cell_type": "code",
      "source": [
        "'''\n",
        "==================== basic syntax ======================\n",
        "\n",
        "for variable in sequence:\n",
        "    # Code to execute for each item in the sequence\n",
        "\n",
        "\n",
        "'''"
      ],
      "metadata": {
        "id": "yWp4UwSmbFYB"
      },
      "execution_count": null,
      "outputs": []
    },
    {
      "cell_type": "code",
      "source": [
        "fruits = [\"apple\", \"banana\", \"cherry\"]\n",
        "\n",
        "# Loop through the list\n",
        "for fruit in fruits:\n",
        "    print(fruit)\n"
      ],
      "metadata": {
        "colab": {
          "base_uri": "https://localhost:8080/"
        },
        "id": "1N82q0-bce3n",
        "outputId": "cdb2caa4-74c8-4f4f-afdd-8ee55d809296"
      },
      "execution_count": null,
      "outputs": [
        {
          "output_type": "stream",
          "name": "stdout",
          "text": [
            "apple\n",
            "banana\n",
            "cherry\n"
          ]
        }
      ]
    },
    {
      "cell_type": "code",
      "source": [
        "word = \"hello\"\n",
        "\n",
        "# Loop through the string\n",
        "for letter in word:\n",
        "    print(letter , end =' ') # h e l l o\n"
      ],
      "metadata": {
        "colab": {
          "base_uri": "https://localhost:8080/"
        },
        "id": "pY2Z6FimcfSJ",
        "outputId": "e260dba2-6919-4977-b63e-40ea476f7ce2"
      },
      "execution_count": 33,
      "outputs": [
        {
          "output_type": "stream",
          "name": "stdout",
          "text": [
            "h e l l o "
          ]
        }
      ]
    },
    {
      "cell_type": "code",
      "source": [
        "# Looping through a range of numbers (0 to 4)\n",
        "for i in range(5):# range ( start , end , step )\n",
        "    print(i)\n"
      ],
      "metadata": {
        "colab": {
          "base_uri": "https://localhost:8080/"
        },
        "id": "z6YUlDkxchuc",
        "outputId": "ac5a015e-a883-4432-874e-3b891f095cdd"
      },
      "execution_count": null,
      "outputs": [
        {
          "output_type": "stream",
          "name": "stdout",
          "text": [
            "0\n",
            "1\n",
            "2\n",
            "3\n",
            "4\n"
          ]
        }
      ]
    },
    {
      "cell_type": "code",
      "source": [
        "# Looping through a range with start, stop, and step\n",
        "for i in range(2, 10, 2):\n",
        "    print(i)\n"
      ],
      "metadata": {
        "colab": {
          "base_uri": "https://localhost:8080/"
        },
        "id": "eupZTKHXckkh",
        "outputId": "97cdfe26-ee88-4f76-aa7d-56be5c7a642c"
      },
      "execution_count": 35,
      "outputs": [
        {
          "output_type": "stream",
          "name": "stdout",
          "text": [
            "2\n",
            "4\n",
            "6\n",
            "8\n"
          ]
        }
      ]
    },
    {
      "cell_type": "code",
      "source": [
        "# Nested for loop\n",
        "# Nested loop\n",
        "for i in range(3): # 0 , 1 , 2\n",
        "    for j in range(2): # 0 , 1\n",
        "        print(f\"i = {i}, j = {j}\")\n"
      ],
      "metadata": {
        "colab": {
          "base_uri": "https://localhost:8080/"
        },
        "id": "DPjU7ZfEcnxY",
        "outputId": "e69d17bd-b3f8-467c-c96b-8fb30cee4e05"
      },
      "execution_count": null,
      "outputs": [
        {
          "output_type": "stream",
          "name": "stdout",
          "text": [
            "i = 0, j = 0\n",
            "i = 0, j = 1\n",
            "i = 1, j = 0\n",
            "i = 1, j = 1\n",
            "i = 2, j = 0\n",
            "i = 2, j = 1\n"
          ]
        }
      ]
    },
    {
      "cell_type": "code",
      "source": [
        "# for loop with else\n",
        "for i in range(3):\n",
        "    print(i)\n",
        "else:\n",
        "    print(\"Loop finished!\")\n"
      ],
      "metadata": {
        "colab": {
          "base_uri": "https://localhost:8080/"
        },
        "id": "aW2TKJQncvpq",
        "outputId": "ff980f99-9a04-4eec-806c-237e00c60666"
      },
      "execution_count": 38,
      "outputs": [
        {
          "output_type": "stream",
          "name": "stdout",
          "text": [
            "0\n",
            "1\n",
            "2\n",
            "Loop finished!\n"
          ]
        }
      ]
    },
    {
      "cell_type": "code",
      "source": [
        "# for loop with if condition\n",
        "numbers = [10, 15, 20, 25, 30]\n",
        "\n",
        "# Loop through the list\n",
        "for num in numbers:\n",
        "    if num % 2 != 0:\n",
        "        print(num)\n"
      ],
      "metadata": {
        "colab": {
          "base_uri": "https://localhost:8080/"
        },
        "id": "anR7d49ac9XQ",
        "outputId": "7506c416-89a2-458a-b183-13b1b8e904e8"
      },
      "execution_count": null,
      "outputs": [
        {
          "output_type": "stream",
          "name": "stdout",
          "text": [
            "15\n",
            "25\n"
          ]
        }
      ]
    },
    {
      "cell_type": "code",
      "source": [
        "numbers = [5, 12, 3, 18, 7, 20]\n",
        "\n",
        "count = 0\n",
        "# Loop through the list\n",
        "for num in numbers:\n",
        "    if num > 10:\n",
        "        count += 1\n",
        "\n",
        "print(\"Numbers greater than 10:\", count)\n"
      ],
      "metadata": {
        "colab": {
          "base_uri": "https://localhost:8080/"
        },
        "id": "IV8NNxHWdI04",
        "outputId": "bc36f950-e622-4365-b39d-1fd452ecde30"
      },
      "execution_count": null,
      "outputs": [
        {
          "output_type": "stream",
          "name": "stdout",
          "text": [
            "Numbers greater than 10: 3\n"
          ]
        }
      ]
    },
    {
      "cell_type": "code",
      "source": [
        "numbers = [1, 5, 10, 15, 20, 25]\n",
        "\n",
        "# Create a new list with numbers greater than 10\n",
        "filtered_numbers = []\n",
        "for num in numbers:\n",
        "    if num > 10:\n",
        "        filtered_numbers.append(num)\n",
        "\n",
        "print(filtered_numbers)\n"
      ],
      "metadata": {
        "colab": {
          "base_uri": "https://localhost:8080/"
        },
        "id": "Y7RfKTtUdNJm",
        "outputId": "32916228-c99a-44b7-eb03-32e6dbbdcc62"
      },
      "execution_count": null,
      "outputs": [
        {
          "output_type": "stream",
          "name": "stdout",
          "text": [
            "[15, 20, 25]\n"
          ]
        }
      ]
    },
    {
      "cell_type": "markdown",
      "source": [
        "Break :  Terminates the loop immediately and exits."
      ],
      "metadata": {
        "id": "okK8iBaaeDN_"
      }
    },
    {
      "cell_type": "code",
      "source": [
        "numbers = [1, 2, 3, 4, 5, 6]\n",
        "\n",
        "# Stop the loop when the number is 4\n",
        "for num in numbers:\n",
        "    if num == 4:\n",
        "        break\n",
        "    print(num)\n"
      ],
      "metadata": {
        "colab": {
          "base_uri": "https://localhost:8080/"
        },
        "id": "i2Q0FP9Sdqpm",
        "outputId": "fca87525-4b3d-46e7-8972-f6d4de2e23d1"
      },
      "execution_count": null,
      "outputs": [
        {
          "output_type": "stream",
          "name": "stdout",
          "text": [
            "1\n",
            "2\n",
            "3\n"
          ]
        }
      ]
    },
    {
      "cell_type": "markdown",
      "source": [
        "Continue : Skips the current iteration and continues with the next iteration of the loop."
      ],
      "metadata": {
        "id": "IBFjSu4peMV3"
      }
    },
    {
      "cell_type": "code",
      "source": [
        "numbers = [1, 2, 3, 4, 5, 6, 7, 8, 9]\n",
        "\n",
        "# Print only odd numbers\n",
        "for num in numbers:\n",
        "    if num % 2 == 0:\n",
        "        continue  # Skip even numbers\n",
        "    print(num)\n"
      ],
      "metadata": {
        "colab": {
          "base_uri": "https://localhost:8080/"
        },
        "id": "g4_z6GvveHtq",
        "outputId": "cf0ebb4e-78af-4995-b1b0-b2710daaa8ab"
      },
      "execution_count": null,
      "outputs": [
        {
          "output_type": "stream",
          "name": "stdout",
          "text": [
            "1\n",
            "3\n",
            "5\n",
            "7\n",
            "9\n"
          ]
        }
      ]
    },
    {
      "cell_type": "markdown",
      "source": [
        "Pass : placeholder that does nothing"
      ],
      "metadata": {
        "id": "soEmHHgXeVJR"
      }
    },
    {
      "cell_type": "code",
      "source": [
        "numbers = [1, 2, 3, 4, 5]\n",
        "\n",
        "for num in numbers:\n",
        "    if num == 3:\n",
        "        pass  # Do nothing when the number is 3\n",
        "    else:\n",
        "        print(num)\n"
      ],
      "metadata": {
        "colab": {
          "base_uri": "https://localhost:8080/"
        },
        "id": "ta3irJwweP2K",
        "outputId": "b0fadb8b-1bb5-42ac-a3d8-ee1a652ac008"
      },
      "execution_count": null,
      "outputs": [
        {
          "output_type": "stream",
          "name": "stdout",
          "text": [
            "1\n",
            "2\n",
            "4\n",
            "5\n"
          ]
        }
      ]
    },
    {
      "cell_type": "code",
      "source": [
        "for i in range(10):\n",
        "  pass\n"
      ],
      "metadata": {
        "id": "aDMIdfxq6Ggf"
      },
      "execution_count": 40,
      "outputs": []
    },
    {
      "cell_type": "markdown",
      "source": [
        "# While Loop"
      ],
      "metadata": {
        "id": "ld-RkKDxFxhL"
      }
    },
    {
      "cell_type": "markdown",
      "source": [
        "In Python, a while loop is a control flow statement that repeatedly executes a block of code as long as a given condition is true.\n"
      ],
      "metadata": {
        "id": "BGh3RLyQF0ks"
      }
    },
    {
      "cell_type": "code",
      "source": [
        "'''\n",
        "Basic Structure:\n",
        "\n",
        "while condition:\n",
        "    # Code to be executed repeatedly\n",
        "\n",
        "'''\n",
        "# Example  1 :\n",
        "count = 0\n",
        "while count < 5:\n",
        "    print(count)\n",
        "    count += 1"
      ],
      "metadata": {
        "colab": {
          "base_uri": "https://localhost:8080/"
        },
        "id": "3ID9ZdAieYsA",
        "outputId": "60f7e9e6-9d4e-4df0-a603-2fb160347b78"
      },
      "execution_count": null,
      "outputs": [
        {
          "output_type": "stream",
          "name": "stdout",
          "text": [
            "0\n",
            "1\n",
            "2\n",
            "3\n",
            "4\n"
          ]
        }
      ]
    },
    {
      "cell_type": "markdown",
      "source": [
        "✅ Use Case: Continuous User Input Until Exit Command\n",
        "\n",
        "allows the user to enter input continuously in a loop.\n",
        " It only breaks the loop when the user types \"quit\" — acting like an exit command."
      ],
      "metadata": {
        "id": "JoC6sMm0sBeJ"
      }
    },
    {
      "cell_type": "code",
      "source": [
        "while True:\n",
        "    user_input = input(\"Enter 'quit' to exit: \")\n",
        "    if user_input == 'quit':\n",
        "        break\n",
        "    print(\"You entered:\", user_input)"
      ],
      "metadata": {
        "colab": {
          "base_uri": "https://localhost:8080/"
        },
        "id": "VVh56tckGG_Z",
        "outputId": "cad28b49-0f2d-4533-9dd6-0767a3b280cf"
      },
      "execution_count": null,
      "outputs": [
        {
          "name": "stdout",
          "output_type": "stream",
          "text": [
            "Enter 'quit' to exit: ddd\n",
            "You entered: ddd\n",
            "Enter 'quit' to exit: quit\n"
          ]
        }
      ]
    },
    {
      "cell_type": "code",
      "source": [
        "l= [1,2,3,4,5,6,7]\n",
        "l_even=[]\n",
        "l_odd=[]\n",
        "c_e=0\n",
        "c_o=0\n",
        "for i in l :\n",
        "  if i % 2 ==0 :\n",
        "    l_even.append(i)\n",
        "    c_e+=1\n",
        "  else :\n",
        "    l_odd.append(i)\n",
        "    c_o+=1\n",
        "\n",
        "print(l_even , l_odd)\n",
        "print(c_e , c_o)"
      ],
      "metadata": {
        "colab": {
          "base_uri": "https://localhost:8080/"
        },
        "id": "y_1mzh7q7ULQ",
        "outputId": "253c20d0-ce05-4514-b9b7-73ac97323b9d"
      },
      "execution_count": 4,
      "outputs": [
        {
          "output_type": "stream",
          "name": "stdout",
          "text": [
            "[2, 4, 6] [1, 3, 5, 7]\n",
            "3 4\n"
          ]
        }
      ]
    },
    {
      "cell_type": "markdown",
      "source": [
        "# Functions"
      ],
      "metadata": {
        "id": "KGeHcIfrGwJp"
      }
    },
    {
      "cell_type": "markdown",
      "source": [
        "A function in Python is a block of reusable code that performs a specific task. Functions help organize and modularize code, making it easier to read, maintain, and debug. Python has a simple syntax for defining functions.\n",
        "\n"
      ],
      "metadata": {
        "id": "3Q-BQnPUGzLv"
      }
    },
    {
      "cell_type": "code",
      "source": [
        "# basic example\n",
        "# Calling the function\n",
        "\n",
        "\n",
        "def greet():\n",
        "    print(\"Hello, World!\")\n",
        "\n",
        "greet()"
      ],
      "metadata": {
        "colab": {
          "base_uri": "https://localhost:8080/"
        },
        "id": "e7BvswUrGQbl",
        "outputId": "7d9603d5-9961-46af-c162-1c5434a17df5"
      },
      "execution_count": null,
      "outputs": [
        {
          "output_type": "stream",
          "name": "stdout",
          "text": [
            "Hello, World!\n"
          ]
        }
      ]
    },
    {
      "cell_type": "code",
      "source": [
        "# Parametres vs arguments\n",
        "\n",
        "# (a , b ) = (1 , 2 )\n",
        "\n",
        "def add_numbers(a, b):\n",
        "    result = a + b\n",
        "    return result\n",
        "\n",
        "# Calling the function with arguments\n",
        "sum_result = add_numbers(5, 3 )\n",
        "print(sum_result)\n"
      ],
      "metadata": {
        "colab": {
          "base_uri": "https://localhost:8080/"
        },
        "id": "YdETA-j0G84q",
        "outputId": "04d3522e-d63b-4f60-ab3d-de9b0f013102"
      },
      "execution_count": 42,
      "outputs": [
        {
          "output_type": "stream",
          "name": "stdout",
          "text": [
            "8\n"
          ]
        }
      ]
    },
    {
      "cell_type": "code",
      "source": [
        "def greet(age , name=\"Ali\"):\n",
        "    print(f\" my age is {age} , my name is  {name}!\")\n",
        "\n",
        "# Calling the function with and without an argument\n",
        "\n",
        "greet(20 , \"Mostafa\")\n",
        "\n",
        "# ======================================= Syntax error ==============================="
      ],
      "metadata": {
        "id": "Ko2ChE59Hasn",
        "colab": {
          "base_uri": "https://localhost:8080/"
        },
        "outputId": "3d35b36c-0486-4f04-dec3-629eb3344f65"
      },
      "execution_count": 43,
      "outputs": [
        {
          "output_type": "stream",
          "name": "stdout",
          "text": [
            " my age is 20 , my name is  Ali!\n"
          ]
        }
      ]
    },
    {
      "cell_type": "code",
      "source": [
        "# default value\n",
        "\n",
        "def greet(age , name=\"Guest\"):\n",
        "    print(f\" my age is {age} , my name is  {name}!\")\n",
        "\n",
        "# Calling the function with and without an argument\n",
        "greet(30 , \"Alice\")\n",
        "greet(20)\n"
      ],
      "metadata": {
        "colab": {
          "base_uri": "https://localhost:8080/"
        },
        "id": "L1Rm44UzHC6-",
        "outputId": "002df3df-32df-4afd-dc08-8f851603a7af"
      },
      "execution_count": null,
      "outputs": [
        {
          "output_type": "stream",
          "name": "stdout",
          "text": [
            " my age is 30 , my name is  Alice!\n",
            " my age is 20 , my name is  Guest!\n"
          ]
        }
      ]
    },
    {
      "cell_type": "code",
      "source": [
        "# Return multiple values\n",
        "\n",
        "def calculate(a, b):\n",
        "    sum_result = a + b\n",
        "    diff_result = a - b\n",
        "    return sum_result, diff_result\n",
        "\n",
        "# Calling the function\n",
        "sum_value, diff_value = calculate(10, 5)  # (15 , 5)\n",
        "\n",
        "print(f\"Sum: {sum_value}, Difference: {diff_value}\")\n"
      ],
      "metadata": {
        "colab": {
          "base_uri": "https://localhost:8080/"
        },
        "id": "2lo_4KpVHWWZ",
        "outputId": "2e5ddc4c-5c3c-4a7a-8161-0ecea201efe0"
      },
      "execution_count": 45,
      "outputs": [
        {
          "output_type": "stream",
          "name": "stdout",
          "text": [
            "Sum: 15, Difference: 5\n"
          ]
        }
      ]
    },
    {
      "cell_type": "code",
      "source": [
        "type(calculate(10, 5))"
      ],
      "metadata": {
        "colab": {
          "base_uri": "https://localhost:8080/"
        },
        "id": "Gwqp0xK39zXI",
        "outputId": "522035a9-55cf-470b-d182-0c2c18e88098"
      },
      "execution_count": 46,
      "outputs": [
        {
          "output_type": "execute_result",
          "data": {
            "text/plain": [
              "tuple"
            ]
          },
          "metadata": {},
          "execution_count": 46
        }
      ]
    },
    {
      "cell_type": "code",
      "source": [
        "# Packing\n",
        "def sum_all(*args):\n",
        "    total = sum(args)\n",
        "    return total\n",
        "\n",
        "# Calling the function with multiple arguments\n",
        "result = sum_all(1, 2, 3, 4, 5)\n",
        "print(result)"
      ],
      "metadata": {
        "colab": {
          "base_uri": "https://localhost:8080/"
        },
        "id": "EnUyyJtRH2eL",
        "outputId": "6fa01e89-91ec-4db7-cf4b-0228479d79ce"
      },
      "execution_count": 48,
      "outputs": [
        {
          "output_type": "stream",
          "name": "stdout",
          "text": [
            "3\n"
          ]
        }
      ]
    },
    {
      "cell_type": "code",
      "source": [
        "def letters (*l):\n",
        "  for i in l :\n",
        "    print(i)\n",
        "print(\"First Call\")\n",
        "letters('a' , 'b' , 'c' ,'d')\n",
        "print(\"Second  Call\")\n",
        "letters('a' , 'b' )\n",
        "print(\"Third Call\")\n",
        "letters()"
      ],
      "metadata": {
        "colab": {
          "base_uri": "https://localhost:8080/"
        },
        "id": "6QanK2rUI8Xb",
        "outputId": "2d486308-0832-42f5-debb-8fea231562af"
      },
      "execution_count": null,
      "outputs": [
        {
          "output_type": "stream",
          "name": "stdout",
          "text": [
            "First Call\n",
            "a\n",
            "b\n",
            "c\n",
            "d\n",
            "Second  Call\n",
            "a\n",
            "b\n",
            "Third Call\n"
          ]
        }
      ]
    },
    {
      "cell_type": "code",
      "source": [
        "# packing\n",
        "def sum_all(*args):\n",
        "    total = sum(args)\n",
        "    return total\n",
        "\n",
        "# Calling with unpacking\n",
        "t=(1, 2, 3, 4, 5)\n",
        "result = sum_all(*t) # unpacking\n",
        "print(result)"
      ],
      "metadata": {
        "colab": {
          "base_uri": "https://localhost:8080/"
        },
        "id": "k3l1VnwRIAZ_",
        "outputId": "826a7478-6cb4-4a64-c8e2-530a4a10573e"
      },
      "execution_count": null,
      "outputs": [
        {
          "output_type": "stream",
          "name": "stdout",
          "text": [
            "15\n"
          ]
        }
      ]
    },
    {
      "cell_type": "code",
      "source": [
        "'''\n",
        "Function scope\n",
        "\n",
        "1- Global scope : outside block , access from any where\n",
        "\n",
        "2- local scope  : inside block , can access only inside block\n",
        "\n",
        "'''\n",
        "\n",
        "\n",
        "x =1  # global variable\n",
        "def info():\n",
        "  print(x)\n",
        "info()\n",
        "\n",
        "print(\"#\"* 30)\n",
        "\n",
        "x =1  # global variable\n",
        "def info():\n",
        "  print(x)\n",
        "print(x)\n",
        "info()\n",
        "\n",
        "\n",
        "print(\"#\"* 30)\n",
        "\n",
        "x =1  # global variable\n",
        "def info():\n",
        "  x=2 # local variable\n",
        "  print(x)\n",
        "print(x)\n",
        "info()"
      ],
      "metadata": {
        "colab": {
          "base_uri": "https://localhost:8080/"
        },
        "id": "LlSTFJoMIQEL",
        "outputId": "9ce78b0d-697b-420e-a170-57630dfd868f"
      },
      "execution_count": null,
      "outputs": [
        {
          "output_type": "stream",
          "name": "stdout",
          "text": [
            "1\n",
            "##############################\n",
            "1\n",
            "1\n",
            "##############################\n",
            "1\n",
            "2\n"
          ]
        }
      ]
    },
    {
      "cell_type": "code",
      "source": [
        "def info():\n",
        "  y= 10\n",
        "  print(y)\n",
        "print(y)\n",
        "info()\n",
        "\n",
        "# ===================== Error why ??! ===================================="
      ],
      "metadata": {
        "id": "yWVEJbW6KW1T"
      },
      "execution_count": null,
      "outputs": []
    },
    {
      "cell_type": "code",
      "source": [
        "# convert local to be global\n",
        "x =1  # global variable\n",
        "def info():\n",
        "  global x\n",
        "  x=2 # global  variable\n",
        "  print(x)\n",
        "print(x)\n",
        "info()\n",
        "print(x)"
      ],
      "metadata": {
        "colab": {
          "base_uri": "https://localhost:8080/"
        },
        "id": "Y1WaYEVEKjIy",
        "outputId": "a0a2eeb8-3357-433f-ced8-7876f7b15263"
      },
      "execution_count": null,
      "outputs": [
        {
          "output_type": "stream",
          "name": "stdout",
          "text": [
            "1\n",
            "2\n",
            "2\n"
          ]
        }
      ]
    },
    {
      "cell_type": "code",
      "source": [
        "# convert local to be global\n",
        "\n",
        "def info():\n",
        "  global x\n",
        "  x=2 # global  variable\n",
        "  print(x)\n",
        "info()\n",
        "print(x)"
      ],
      "metadata": {
        "colab": {
          "base_uri": "https://localhost:8080/"
        },
        "id": "9ySkcUcvK-rd",
        "outputId": "c69fd7ac-0928-4dca-9cf1-dfd1a8e7d8ac"
      },
      "execution_count": null,
      "outputs": [
        {
          "output_type": "stream",
          "name": "stdout",
          "text": [
            "2\n",
            "2\n"
          ]
        }
      ]
    },
    {
      "cell_type": "markdown",
      "source": [
        "# Lambda function"
      ],
      "metadata": {
        "id": "TJH-kDNcLXNd"
      }
    },
    {
      "cell_type": "markdown",
      "source": [
        "Lambda functions are small anonymous functions defined using the lambda keyword. They are useful for short, throwaway functions.\n",
        "\n"
      ],
      "metadata": {
        "id": "AR5i0E1PLkvK"
      }
    },
    {
      "cell_type": "code",
      "source": [
        "# lambda\n",
        "add = lambda a, b: a + b\n",
        "result = add(3, 4)\n",
        "print(result)\n"
      ],
      "metadata": {
        "colab": {
          "base_uri": "https://localhost:8080/"
        },
        "id": "hsI2RnPHLU8i",
        "outputId": "83760da3-ec3a-4cd7-c639-f3d6cafee36b"
      },
      "execution_count": null,
      "outputs": [
        {
          "output_type": "stream",
          "name": "stdout",
          "text": [
            "7\n"
          ]
        }
      ]
    },
    {
      "cell_type": "code",
      "source": [
        "result = lambda text:text.upper()\n",
        "print(\"Result is :\" , result(\"hello\"))"
      ],
      "metadata": {
        "colab": {
          "base_uri": "https://localhost:8080/"
        },
        "id": "pTxHINglLmfc",
        "outputId": "7a01317b-8780-429a-9b9b-770f2d437c0d"
      },
      "execution_count": null,
      "outputs": [
        {
          "output_type": "stream",
          "name": "stdout",
          "text": [
            "Result is : HELLO\n"
          ]
        }
      ]
    },
    {
      "cell_type": "markdown",
      "source": [
        "# Recursion (Function Calling Itself)"
      ],
      "metadata": {
        "id": "et2rUfWEL-l5"
      }
    },
    {
      "cell_type": "markdown",
      "source": [
        "A function can call itself. This is called recursion and is used to solve problems that can be broken down into smaller sub-problems."
      ],
      "metadata": {
        "id": "Em35Oq3pMCD1"
      }
    },
    {
      "cell_type": "code",
      "source": [
        "def factorial(n):  # ! 5 = 5 * 4 *3 *2 *1  = 120\n",
        "    if n == 0:\n",
        "        return 1\n",
        "    else:\n",
        "        return n * factorial(n-1) # 5 * 4 * 3 * 2 *1 *1\n",
        "\n",
        "# Calling the function\n",
        "result = factorial(5)\n",
        "print(\"Result is : \", result)\n"
      ],
      "metadata": {
        "colab": {
          "base_uri": "https://localhost:8080/"
        },
        "id": "C-oDBvLpLxB5",
        "outputId": "aabe41d2-5eba-4ec4-98a6-ac67c3a79600"
      },
      "execution_count": null,
      "outputs": [
        {
          "output_type": "stream",
          "name": "stdout",
          "text": [
            "Result is :  120\n"
          ]
        }
      ]
    },
    {
      "cell_type": "code",
      "source": [
        "def sum_numbers(n):\n",
        "    # Base case: If n is 1, return 1\n",
        "    if n == 1:\n",
        "        return 1\n",
        "    else:\n",
        "        # Recursive case: sum current n + sum of numbers from 1 to n-1\n",
        "        return n + sum_numbers(n-1)\n",
        "\n",
        "# Calling the function\n",
        "n = 5\n",
        "result = sum_numbers(n)\n",
        "print(f\"The sum of numbers from 1 to {n} is :  {result}\")\n"
      ],
      "metadata": {
        "colab": {
          "base_uri": "https://localhost:8080/"
        },
        "id": "ktpaNq2dMF5z",
        "outputId": "e26401d4-19d8-462a-ba66-3f16b9464364"
      },
      "execution_count": null,
      "outputs": [
        {
          "output_type": "stream",
          "name": "stdout",
          "text": [
            "The sum of numbers from 1 to 5 is :  15\n"
          ]
        }
      ]
    },
    {
      "cell_type": "markdown",
      "source": [
        "# Positional Arguments"
      ],
      "metadata": {
        "id": "CTCiO5-DefMi"
      }
    },
    {
      "cell_type": "markdown",
      "source": [
        "A positional argument is an argument that is passed to a function or method based on its position in the argument list. In programming, the order in which the arguments are provided is critical, as each argument corresponds to a specific parameter defined in the function signature.\n",
        "\n"
      ],
      "metadata": {
        "id": "-hj_uH9pek74"
      }
    },
    {
      "cell_type": "markdown",
      "source": [
        "Positional arguments are the most basic and commonly used type of arguments in Python. They are assigned to function parameters based solely on their position in the function call.\n",
        "\n"
      ],
      "metadata": {
        "id": "x19LKLkMgxf6"
      }
    },
    {
      "cell_type": "code",
      "source": [
        "def greet(name, age):\n",
        "    print(f\"Hello, my name is {name} and I am {age} years old.\")\n",
        "\n",
        "# Positional arguments\n",
        "greet( 30  , \"Ali\")"
      ],
      "metadata": {
        "colab": {
          "base_uri": "https://localhost:8080/"
        },
        "id": "rhkCfc6eMhxE",
        "outputId": "bc11fd64-5436-430e-d76e-d325406d9881"
      },
      "execution_count": 50,
      "outputs": [
        {
          "output_type": "stream",
          "name": "stdout",
          "text": [
            "Hello, my name is 30 and I am Ali years old.\n"
          ]
        }
      ]
    },
    {
      "cell_type": "code",
      "source": [
        "def greet(name, age):\n",
        "    print(f\"Hello, my name is {name} and I am {age} years old.\")\n",
        "\n",
        "# Positional arguments\n",
        "greet(20 , \"Alice\")\n",
        "\n",
        "# ================================= illogical error ==================================="
      ],
      "metadata": {
        "colab": {
          "base_uri": "https://localhost:8080/"
        },
        "id": "x17FDWcEg05S",
        "outputId": "7fdfd720-fcf1-4c1a-aa0c-e6909b402fdb"
      },
      "execution_count": null,
      "outputs": [
        {
          "output_type": "stream",
          "name": "stdout",
          "text": [
            "Hello, my name is 20 and I am Alice years old.\n"
          ]
        }
      ]
    },
    {
      "cell_type": "markdown",
      "source": [
        "# keyword argument"
      ],
      "metadata": {
        "id": "AYFAvLJze5PP"
      }
    },
    {
      "cell_type": "markdown",
      "source": [
        "A keyword argument is an argument that is passed to a function or method by explicitly specifying the name of the parameter it corresponds to. This allows you to provide arguments in any order, enhancing code readability and flexibility.\n",
        "\n"
      ],
      "metadata": {
        "id": "wBZwC_lYe3D9"
      }
    },
    {
      "cell_type": "code",
      "source": [
        "def greet(name, age):\n",
        "    print(f\"Hello, my name is {name} and I am {age} years old.\")\n",
        "\n",
        "# Keyword arguments\n",
        "greet(age=30, name=\"Alice\")  # Order can be changed"
      ],
      "metadata": {
        "colab": {
          "base_uri": "https://localhost:8080/"
        },
        "id": "wwpkVDIOepdr",
        "outputId": "46a9fcd7-e1f6-442a-9b38-c8db1d559b2b"
      },
      "execution_count": 22,
      "outputs": [
        {
          "output_type": "stream",
          "name": "stdout",
          "text": [
            "Hello, my name is Alice and I am 30 years old.\n"
          ]
        }
      ]
    },
    {
      "cell_type": "code",
      "source": [
        "def book_ticket(name, seat , meal=\"Vegetarian\"):\n",
        "    print(f\"Ticket booked for {name}: Seat - {seat}, Meal - {meal}.\")\n",
        "\n",
        "\n",
        "# Overriding default values\n",
        "book_ticket( seat=\"Aisle\", meal=\"Non-Vegetarian\" , name =\"Bob\")\n"
      ],
      "metadata": {
        "colab": {
          "base_uri": "https://localhost:8080/"
        },
        "id": "3vIhJG8Dh1Ua",
        "outputId": "7bc89f91-5245-47f1-cafd-66e7289bf6da"
      },
      "execution_count": null,
      "outputs": [
        {
          "output_type": "stream",
          "name": "stdout",
          "text": [
            "Ticket booked for Bob: Seat - Aisle, Meal - Non-Vegetarian.\n"
          ]
        }
      ]
    },
    {
      "cell_type": "markdown",
      "source": [
        "# Positional keyword Arguments"
      ],
      "metadata": {
        "id": "uPXSM2jqfJUY"
      }
    },
    {
      "cell_type": "code",
      "source": [
        "def greet(name , age, city ):\n",
        "    print(f\"Hello, my name is {name}, I am {age} years old, and I live in {city}.\")\n",
        "\n",
        "# Calling the function\n",
        "greet(  \"Alice\"  ,  age=30, city=\"New York\")  # Correct usage"
      ],
      "metadata": {
        "colab": {
          "base_uri": "https://localhost:8080/"
        },
        "id": "PsScCWGge8WG",
        "outputId": "b6e87f79-22b5-4613-9f3a-e71d63e103b9"
      },
      "execution_count": 2,
      "outputs": [
        {
          "output_type": "stream",
          "name": "stdout",
          "text": [
            "Hello, my name is Alice, I am 30 years old, and I live in New York.\n"
          ]
        }
      ]
    },
    {
      "cell_type": "markdown",
      "source": [
        "# Positional Only Arguments"
      ],
      "metadata": {
        "id": "_VlMNSw7fad3"
      }
    },
    {
      "cell_type": "code",
      "source": [
        "def greet(name, age, /):\n",
        "    print(f\"Hello, my name is {name} and I am {age} years old.\")\n",
        "\n",
        "# Calling the function\n",
        "greet(\"Alice\", 30)  # Correct usage\n",
        "\n",
        "# The following would raise an error:\n",
        "# greet(name=\"Alice\", age=30)  # TypeError: greet() got some positional-only arguments"
      ],
      "metadata": {
        "colab": {
          "base_uri": "https://localhost:8080/"
        },
        "id": "BNvWyZbefSAb",
        "outputId": "cf93564b-f54b-439a-bf79-bfc9b34b74e9"
      },
      "execution_count": null,
      "outputs": [
        {
          "output_type": "stream",
          "name": "stdout",
          "text": [
            "Hello, my name is Alice and I am 30 years old.\n"
          ]
        }
      ]
    },
    {
      "cell_type": "code",
      "source": [
        "def my_function(x, /):\n",
        "  print(x)\n",
        "\n",
        "my_function(3)"
      ],
      "metadata": {
        "colab": {
          "base_uri": "https://localhost:8080/"
        },
        "id": "OnUtkGpGgIi4",
        "outputId": "b063d12d-5cf5-4908-aeae-f3f59f31e263"
      },
      "execution_count": null,
      "outputs": [
        {
          "output_type": "stream",
          "name": "stdout",
          "text": [
            "3\n"
          ]
        }
      ]
    },
    {
      "cell_type": "markdown",
      "source": [
        "# Keyword only Arguments\n"
      ],
      "metadata": {
        "id": "Jq8ML1v9fqgt"
      }
    },
    {
      "cell_type": "code",
      "source": [
        "def my_function(*, x):\n",
        "  print(x)\n",
        "\n",
        "my_function(x = 3)"
      ],
      "metadata": {
        "colab": {
          "base_uri": "https://localhost:8080/"
        },
        "id": "e0RXIcAnfu6I",
        "outputId": "08d8358d-1f35-4127-cdee-a1586c322445"
      },
      "execution_count": null,
      "outputs": [
        {
          "output_type": "stream",
          "name": "stdout",
          "text": [
            "3\n"
          ]
        }
      ]
    },
    {
      "cell_type": "markdown",
      "source": [
        "# Combine Positional-Only and Keyword-Only\n"
      ],
      "metadata": {
        "id": "-x9KatzVgTT2"
      }
    },
    {
      "cell_type": "code",
      "source": [
        "def my_function(a, b, /, *, c, d):\n",
        "  print(a + b + c + d)\n",
        "\n",
        "my_function(5, 6, c = 7, d = 8)"
      ],
      "metadata": {
        "colab": {
          "base_uri": "https://localhost:8080/"
        },
        "id": "7YYBpdc-fvdh",
        "outputId": "685cf6d9-9c3f-48c8-e74f-4ba686ff482f"
      },
      "execution_count": 26,
      "outputs": [
        {
          "output_type": "stream",
          "name": "stdout",
          "text": [
            "26\n"
          ]
        }
      ]
    },
    {
      "cell_type": "markdown",
      "source": [
        "# Built in functions"
      ],
      "metadata": {
        "id": "xRtQQx76kzk6"
      }
    },
    {
      "cell_type": "code",
      "source": [
        "# all () => return true or false\n",
        "\n",
        "print(\"=\"*80 )\n",
        "# =============================================All ====================================\n",
        "print(\"=\"*20 , \"All\" ,\"=\"*20 )\n",
        "print(all([10 , 20 , 30]))\n",
        "print(all([10 , 20 , 0]))\n",
        "print(all([10 , 20 , \"\"]))\n",
        "print(all([10 , 20 , \" \"]))\n",
        "\n",
        "# =============================================Any ====================================\n",
        "print(\"=\"*20 , \"Any\" ,\"=\"*20 )\n",
        "print(any([10 , 20 , 30]))\n",
        "print(any([10 , \" \" , []]))\n",
        "print(any([0 , \"\" , \"\"]))\n",
        "print(any([[ ] , 0 , \"\"]))\n",
        "\n",
        "# =============================================bin ====================================\n",
        "\n",
        "print(\"=\"*20 , \"bin\" ,\"=\"*20 )\n",
        "print(bin(10))\n",
        "print(bin(20))\n",
        "\n",
        "# =============================================id ====================================\n",
        "\n",
        "print(\"=\"*20 , \"id\" ,\"=\"*20 )\n",
        "x=3310\n",
        "y=77\n",
        "print(id(x))\n",
        "print(id(y))\n",
        "\n",
        "# =============================================sum ====================================\n",
        "\n",
        "print(\"=\"*20 , \"Sum\" ,\"=\"*20 )\n",
        "\n",
        "print(sum([10,33,90]))\n",
        "print(sum([-10 , 0 , 1]))\n",
        "\n",
        "# =============================================sum ====================================\n",
        "\n",
        "print(\"=\"*20 , \"Round\" ,\"=\"*20 )\n",
        "print(round(4.3))\n",
        "print(round(5.5))\n",
        "print(round(3.2))\n",
        "print(round(-2.8))\n",
        "print(round(4.321 , 2))\n",
        "print(round(5.589 , 2))\n",
        "\n",
        "# =============================================abs ====================================\n",
        "\n",
        "print(\"=\"*20 , \"Abs\" ,\"=\"*20 )\n",
        "\n",
        "print(abs(-30))\n",
        "\n",
        "# =============================================pow ====================================\n",
        "\n",
        "print(\"=\"*20 , \"pow\" ,\"=\"*20 )\n",
        "\n",
        "print(pow(2 , 5))\n",
        "print(pow(2 , 5 , 10))\n",
        "\n",
        "# =============================================Min - Max  ====================================\n",
        "\n",
        "print(\"=\"*20 , \"Min - Max\" ,\"=\"*20 )\n",
        "\n",
        "print(min([10,33,90]))\n",
        "print(max([-10 , 0 , 1]))\n",
        "\n",
        "print(\"=\"*80 )"
      ],
      "metadata": {
        "colab": {
          "base_uri": "https://localhost:8080/"
        },
        "id": "8Wy2EJm4jtPG",
        "outputId": "124fbf43-78b8-4a52-a42e-7e9114e7716a"
      },
      "execution_count": null,
      "outputs": [
        {
          "output_type": "stream",
          "name": "stdout",
          "text": [
            "================================================================================\n",
            "==================== All ====================\n",
            "True\n",
            "False\n",
            "False\n",
            "True\n",
            "==================== Any ====================\n",
            "True\n",
            "True\n",
            "False\n",
            "False\n",
            "==================== bin ====================\n",
            "0b1010\n",
            "0b10100\n",
            "==================== id ====================\n",
            "136124569348656\n",
            "136125889759856\n",
            "==================== Sum ====================\n",
            "133\n",
            "-9\n",
            "==================== Round ====================\n",
            "4\n",
            "6\n",
            "3\n",
            "-3\n",
            "4.32\n",
            "5.59\n",
            "==================== Abs ====================\n",
            "30\n",
            "==================== pow ====================\n",
            "32\n",
            "2\n",
            "==================== Min - Max ====================\n",
            "10\n",
            "1\n",
            "================================================================================\n"
          ]
        }
      ]
    },
    {
      "cell_type": "code",
      "source": [
        "# Range method\n",
        "'''\n",
        "1- start (optional): The starting number of the sequence (inclusive). Defaults to 0 if not specified.\n",
        "2- stop: The end of the sequence (exclusive). The sequence ends before reaching this value.\n",
        "3- step (optional): The increment (or decrement) between numbers in the sequence. Defaults to 1.\n",
        "'''\n",
        "\n",
        "print(list(range(1, 6)))\n",
        "\n",
        "print(list(range(1, 10, 2)))\n",
        "print(list(range(10, 0, -2))) # Output: [10, 8, 6, 4, 2]"
      ],
      "metadata": {
        "colab": {
          "base_uri": "https://localhost:8080/"
        },
        "id": "d6edBGhHlNfq",
        "outputId": "0461b3c7-a4b2-445f-92b6-024d58c6087e"
      },
      "execution_count": null,
      "outputs": [
        {
          "output_type": "stream",
          "name": "stdout",
          "text": [
            "[1, 2, 3, 4, 5]\n",
            "[1, 3, 5, 7, 9]\n",
            "[10, 8, 6, 4, 2]\n"
          ]
        }
      ]
    },
    {
      "cell_type": "markdown",
      "source": [
        "# Map function"
      ],
      "metadata": {
        "id": "bZeRg8b1unq5"
      }
    },
    {
      "cell_type": "markdown",
      "source": [
        "The map() function in Python applies a given function to all items in an iterable (like a list, tuple, or string) and returns a map object, which can be converted into a list, tuple, or other collection types.\n",
        "\n"
      ],
      "metadata": {
        "id": "a-0cqevwurv1"
      }
    },
    {
      "cell_type": "code",
      "source": [
        "def square(x):\n",
        "    return x ** 2\n",
        "\n",
        "numbers = [1, 2, 3, 4]\n",
        "squared = map(square, numbers)\n",
        "print(list(squared))  # Output: [1, 4, 9, 16]"
      ],
      "metadata": {
        "colab": {
          "base_uri": "https://localhost:8080/"
        },
        "id": "swc15NRGoEok",
        "outputId": "a17b2884-950c-42b3-d5e0-1e4d1eb52ca0"
      },
      "execution_count": null,
      "outputs": [
        {
          "output_type": "stream",
          "name": "stdout",
          "text": [
            "<map object at 0x7bcdf8505060>\n",
            "[1, 4, 9, 16]\n"
          ]
        }
      ]
    },
    {
      "cell_type": "code",
      "source": [
        "numbers = [1, 2, 3, 4]\n",
        "squared = lambda x: x ** 2\n",
        "result =map(squared ,numbers)\n",
        "print(list(result))  # Output: [1, 4, 9, 16]\n"
      ],
      "metadata": {
        "colab": {
          "base_uri": "https://localhost:8080/"
        },
        "id": "HzCcA_aWuxiA",
        "outputId": "2e0cc893-4ccf-4741-ee60-625c9ba68780"
      },
      "execution_count": null,
      "outputs": [
        {
          "output_type": "stream",
          "name": "stdout",
          "text": [
            "[1, 4, 9, 16]\n"
          ]
        }
      ]
    },
    {
      "cell_type": "markdown",
      "source": [
        "# Filter method"
      ],
      "metadata": {
        "id": "zMf6uqbUvO-B"
      }
    },
    {
      "cell_type": "markdown",
      "source": [
        "The filter() function in Python is used to construct an iterator from elements of an iterable for which a specified function returns True. It filters out elements that do not satisfy the condition defined by the function.\n",
        "\n"
      ],
      "metadata": {
        "id": "pt3vHMXuvwnH"
      }
    },
    {
      "cell_type": "code",
      "source": [
        "numbers = [1, 2, 3, 4, 5, 6]\n",
        "\n",
        "# Function to check if a number is even\n",
        "def is_even(num):\n",
        "    return num % 2 == 0\n",
        "\n",
        "even_numbers = filter(is_even, numbers)\n",
        "print(list(even_numbers))\n"
      ],
      "metadata": {
        "colab": {
          "base_uri": "https://localhost:8080/"
        },
        "id": "ulLnBQ6kvJJY",
        "outputId": "04473e2e-0351-4205-ce86-b487eef19f25"
      },
      "execution_count": null,
      "outputs": [
        {
          "output_type": "stream",
          "name": "stdout",
          "text": [
            "[2, 4, 6]\n"
          ]
        }
      ]
    },
    {
      "cell_type": "code",
      "source": [
        "words = [\"apple\", \"kiwi\", \"banana\", \"pear\"]\n",
        "\n",
        "# Function to filter words with more than 4 letters\n",
        "long_words = filter(lambda word: len(word) > 4, words)\n",
        "print(list(long_words))"
      ],
      "metadata": {
        "colab": {
          "base_uri": "https://localhost:8080/"
        },
        "id": "D00weNIJv6ev",
        "outputId": "5e758e3d-9e92-429f-aae1-1aa98192a9af"
      },
      "execution_count": null,
      "outputs": [
        {
          "output_type": "stream",
          "name": "stdout",
          "text": [
            "['apple', 'banana']\n"
          ]
        }
      ]
    },
    {
      "cell_type": "markdown",
      "source": [
        "# The reduce()"
      ],
      "metadata": {
        "id": "GSzsmvihyNNb"
      }
    },
    {
      "cell_type": "markdown",
      "source": [
        "The reduce() function in Python is used to apply a specified function cumulatively to the items of an iterable, reducing the iterable to a single value. It is part of the functools module and must be imported before use.\n",
        "\n"
      ],
      "metadata": {
        "id": "Bo0Sq8dnyK5l"
      }
    },
    {
      "cell_type": "code",
      "source": [
        "from functools import reduce\n",
        "def sum(num1 , num2):\n",
        "    return num1 + num2\n",
        "\n",
        "result = reduce(sum , [10, 20 , 30 , 40])\n",
        "print(\"Result of Summation : \" , result)\n",
        "print(\"*\"*80)\n",
        "# ==================================================================\n",
        "\n",
        "def sub(num1 , num2):\n",
        "    return num1 - num2\n",
        "\n",
        "result = reduce(sub , [10, 20 , 30 , 40])\n",
        "print(\"Result of Subtraction : \" , result)\n",
        "print(\"*\"*80)\n",
        "\n",
        "# ==================================================================\n",
        "\n",
        "\n",
        "def mul(num1 , num2):\n",
        "    return num1 * num2\n",
        "\n",
        "result = reduce(mul , [1, 2 , 3 , 44])\n",
        "print(\"Result of Multiplication : \" , result)\n",
        "print(\"*\"*80)\n",
        "\n",
        "# ==================================================================\n",
        "\n",
        "\n",
        "def naming(name1 , name2):\n",
        "    return name1 + name2\n",
        "\n",
        "result = reduce(naming , [\"Ali\" , \"Ahmed\" , \"Mostaf\"])\n",
        "print(\"Result of concatination : \" , result)\n",
        "print(\"*\"*80)"
      ],
      "metadata": {
        "colab": {
          "base_uri": "https://localhost:8080/"
        },
        "id": "lnm8TfGCwOoz",
        "outputId": "a4d58124-7cb8-40bb-b00c-1d462963872b"
      },
      "execution_count": null,
      "outputs": [
        {
          "output_type": "stream",
          "name": "stdout",
          "text": [
            "Result of Summation :  100\n",
            "********************************************************************************\n",
            "Result of Subtraction :  -80\n",
            "********************************************************************************\n",
            "Result of Multiplication :  264\n",
            "********************************************************************************\n",
            "Result of concatination :  AliAhmedMostaf\n",
            "********************************************************************************\n"
          ]
        }
      ]
    },
    {
      "cell_type": "markdown",
      "source": [
        "# help method()\n",
        "\n",
        "\n"
      ],
      "metadata": {
        "id": "RZGmLEBk0ifY"
      }
    },
    {
      "cell_type": "markdown",
      "source": [
        "The help() method in Python is used to access the documentation and details about modules, classes, functions, keywords, and other objects. It is particularly useful for understanding the usage, arguments, and behavior of Python objects.😊"
      ],
      "metadata": {
        "id": "kkv8Tf5D0o9l"
      }
    },
    {
      "cell_type": "code",
      "source": [
        "help(print)"
      ],
      "metadata": {
        "colab": {
          "base_uri": "https://localhost:8080/"
        },
        "id": "thWF2WfAypOk",
        "outputId": "ee9431fa-9421-4551-f51e-a6b76fc34244"
      },
      "execution_count": null,
      "outputs": [
        {
          "output_type": "stream",
          "name": "stdout",
          "text": [
            "Help on built-in function print in module builtins:\n",
            "\n",
            "print(...)\n",
            "    print(value, ..., sep=' ', end='\\n', file=sys.stdout, flush=False)\n",
            "    \n",
            "    Prints the values to a stream, or to sys.stdout by default.\n",
            "    Optional keyword arguments:\n",
            "    file:  a file-like object (stream); defaults to the current sys.stdout.\n",
            "    sep:   string inserted between values, default a space.\n",
            "    end:   string appended after the last value, default a newline.\n",
            "    flush: whether to forcibly flush the stream.\n",
            "\n"
          ]
        }
      ]
    },
    {
      "cell_type": "code",
      "source": [
        "def greet(name):\n",
        "    \"\"\"Greets a person with their name.\"\"\"\n",
        "    print(f\"Hello, {name}!\")\n",
        "\n",
        "help(greet)\n"
      ],
      "metadata": {
        "colab": {
          "base_uri": "https://localhost:8080/"
        },
        "id": "8LX-gpwI0vhP",
        "outputId": "46730592-d12b-4790-ac6a-e263764cd9b9"
      },
      "execution_count": null,
      "outputs": [
        {
          "output_type": "stream",
          "name": "stdout",
          "text": [
            "Help on function greet in module __main__:\n",
            "\n",
            "greet(name)\n",
            "    Greets a person with their name.\n",
            "\n"
          ]
        }
      ]
    },
    {
      "cell_type": "code",
      "source": [
        "help(len)\n",
        "help(abs)\n"
      ],
      "metadata": {
        "colab": {
          "base_uri": "https://localhost:8080/"
        },
        "id": "nY3nuytt05Ix",
        "outputId": "6b5842d2-dc19-49fe-8ca2-1eacecc7a3a8"
      },
      "execution_count": null,
      "outputs": [
        {
          "output_type": "stream",
          "name": "stdout",
          "text": [
            "Help on built-in function len in module builtins:\n",
            "\n",
            "len(obj, /)\n",
            "    Return the number of items in a container.\n",
            "\n",
            "Help on built-in function abs in module builtins:\n",
            "\n",
            "abs(x, /)\n",
            "    Return the absolute value of the argument.\n",
            "\n"
          ]
        }
      ]
    },
    {
      "cell_type": "markdown",
      "source": [
        "🔁 Use Case: Temperature Converter Function\n",
        "\n",
        "🎯 Goal:\n",
        "Create a function to convert temperature from Celsius to Fahrenheit and vice versa.\n",
        "\n",
        "\n",
        "🛠️ Concepts Covered:\n",
        "Defining functions using def\n",
        "\n",
        "-  f = c * 9/5 + 32"
      ],
      "metadata": {
        "id": "GHgMAFWWSlIm"
      }
    },
    {
      "cell_type": "code",
      "source": [
        "# Convert Celsius to Fahrenheit\n",
        "def celsius_to_fahrenheit(celsius):\n",
        "    return (celsius * 9/5) + 32\n",
        "\n",
        "# Convert Fahrenheit to Celsius\n",
        "def fahrenheit_to_celsius(fahrenheit):\n",
        "    return (fahrenheit - 32) * 5/9\n",
        "\n",
        "# Example usage\n",
        "c = float(input(\"Enter temperature in Celsius: \"))\n",
        "f = celsius_to_fahrenheit(c)\n",
        "print(f\"{c}°C is {round(f, 2)}°F\")\n",
        "\n",
        "f2 = float(input(\"\\nEnter temperature in Fahrenheit: \"))\n",
        "c2 = fahrenheit_to_celsius(f2)\n",
        "print(f\"{f2}°F is {round(c2, 2)}°C\")\n"
      ],
      "metadata": {
        "colab": {
          "base_uri": "https://localhost:8080/"
        },
        "id": "7ngd-bl2TNiR",
        "outputId": "313b0fcf-e212-4367-a970-8c1ac98f1174"
      },
      "execution_count": 9,
      "outputs": [
        {
          "output_type": "stream",
          "name": "stdout",
          "text": [
            "Enter temperature in Celsius: 8\n",
            "8.0°C is 46.4°F\n",
            "\n",
            "Enter temperature in Fahrenheit: 3\n",
            "3.0°F is -16.11°C\n"
          ]
        }
      ]
    },
    {
      "cell_type": "markdown",
      "source": [
        "# Iterable vs iterator"
      ],
      "metadata": {
        "id": "CyI2PxDzNdSF"
      }
    },
    {
      "cell_type": "markdown",
      "source": [
        "- iterable : Any object we can make iteration on this object\n",
        "\n",
        "- iterator : the  process of iteration on object by using iter() , next()"
      ],
      "metadata": {
        "id": "OvPHaYMUNixa"
      }
    },
    {
      "cell_type": "markdown",
      "source": [
        "- iterable object ( List - Set  - Dictionary - Tuple - String)\n",
        "\n",
        "- Non iterable object ( Number - bool)"
      ],
      "metadata": {
        "id": "Jv3TVWXmN8Me"
      }
    },
    {
      "cell_type": "code",
      "source": [
        "# iterable object\n",
        "l= [1,2,3,4,5]\n",
        "t=(10 , 20 , 30 ,40 , 50)\n",
        "s=\"space code academy\"\n",
        "st={1,2,3 ,'a' , 'b' ,(1,2,3)}\n",
        "\n",
        "#=========================================================================\n",
        "# list\n",
        "for i in l:\n",
        "  print(i , end =\" \")\n",
        "\n",
        "print('\\n', \"*\"*50)\n",
        "\n",
        "#=========================================================================\n",
        "# tuple\n",
        "for i in t:\n",
        "  print(i , end =\" \")\n",
        "\n",
        "print('\\n', \"*\"*50)\n",
        "\n",
        "#=========================================================================\n",
        "# string\n",
        "for i in s:\n",
        "  print(i , end =\" \")\n",
        "\n",
        "print('\\n', \"*\"*50)\n",
        "\n",
        "#=========================================================================\n",
        "# set\n",
        "for i in st:\n",
        "  print(i , end =\" \")\n",
        "\n",
        "print('\\n', \"*\"*50)\n",
        "\n",
        "#=========================================================================\n",
        "\n",
        "# Number (also bool datatype)\n",
        "for i in 12345:\n",
        "  print(i , end =\" \")\n",
        "\n",
        "print('\\n', \"*\"*50)\n",
        "#============================  'int' object is not iterable ==========================="
      ],
      "metadata": {
        "colab": {
          "base_uri": "https://localhost:8080/"
        },
        "id": "iL09472w09G7",
        "outputId": "8ef96ce8-9dbb-4d90-dc1a-b7bc1b922cff"
      },
      "execution_count": null,
      "outputs": [
        {
          "output_type": "stream",
          "name": "stdout",
          "text": [
            "1 2 3 4 5 \n",
            " **************************************************\n",
            "10 20 30 40 50 \n",
            " **************************************************\n",
            "s p a c e   c o d e   a c a d e m y \n",
            " **************************************************\n",
            "1 2 3 a (1, 2, 3) b \n",
            " **************************************************\n"
          ]
        }
      ]
    },
    {
      "cell_type": "code",
      "source": [
        "# iteration : the process of iteration using iter() , next()\n",
        "name =\"space\"\n",
        "it=iter(name) # Similar to loop\n",
        "print(next(it))\n",
        "print(next(it))\n",
        "print(next(it))\n",
        "print(next(it))\n",
        "print(next(it))\n",
        "\n",
        "# print(next(it)) stop iteration"
      ],
      "metadata": {
        "colab": {
          "base_uri": "https://localhost:8080/"
        },
        "id": "Cnp7yM5E1XB-",
        "outputId": "a55816d3-9757-4458-dd82-16bd3ca23a1f"
      },
      "execution_count": null,
      "outputs": [
        {
          "output_type": "stream",
          "name": "stdout",
          "text": [
            "s\n",
            "p\n",
            "a\n",
            "c\n",
            "e\n"
          ]
        }
      ]
    },
    {
      "cell_type": "markdown",
      "source": [
        "# Generator ()"
      ],
      "metadata": {
        "id": "pQrTOWi4RCoa"
      }
    },
    {
      "cell_type": "markdown",
      "source": [
        "Generators are a special type of iterable in Python that allow you to iterate over a sequence of values lazily, meaning they produce items one at a time and only when requested. This makes them memory-efficient and ideal for working with large datasets or infinite sequences.\n",
        "\n"
      ],
      "metadata": {
        "id": "Qd1mhKtBReAa"
      }
    },
    {
      "cell_type": "code",
      "source": [
        "def my_generator():\n",
        "    yield 1\n",
        "    yield 2\n",
        "    yield 3\n",
        "\n",
        "# Using the generator\n",
        "gen = my_generator()\n",
        "print(next(gen))\n",
        "print(next(gen))\n",
        "print(next(gen))\n",
        "\n",
        "'''\n",
        "# another way\n",
        "for i in gen:\n",
        "  print(i)\n",
        "'''\n"
      ],
      "metadata": {
        "colab": {
          "base_uri": "https://localhost:8080/"
        },
        "id": "shaX-2-rQPA0",
        "outputId": "8cb19be5-c49b-4dbd-d33b-0332983f5bfb"
      },
      "execution_count": null,
      "outputs": [
        {
          "output_type": "stream",
          "name": "stdout",
          "text": [
            "1\n",
            "2\n",
            "3\n"
          ]
        }
      ]
    },
    {
      "cell_type": "markdown",
      "source": [
        "Generator similar to function , but :\n",
        "\n",
        "1- function used return (return not iterable) , generator used yeild (iterable)"
      ],
      "metadata": {
        "id": "HOUxQheISJrY"
      }
    },
    {
      "cell_type": "code",
      "source": [
        "def my_generator():\n",
        "    return  1\n",
        "    return  2\n",
        "    return  3\n",
        "\n",
        "# Using the generator\n",
        "gen = my_generator()\n",
        "print(gen)\n",
        "\n",
        "\n",
        "'''\n",
        "for i in my_generator():\n",
        "  print(i)\n",
        "  '''\n",
        "\n",
        "# ==================== Error : 'int' object is not iterable ==============================\n"
      ],
      "metadata": {
        "colab": {
          "base_uri": "https://localhost:8080/"
        },
        "id": "620kfyVCRlD4",
        "outputId": "0f91e72e-717d-486f-b104-c1447f23348b"
      },
      "execution_count": null,
      "outputs": [
        {
          "output_type": "stream",
          "name": "stdout",
          "text": [
            "1\n"
          ]
        }
      ]
    },
    {
      "cell_type": "markdown",
      "source": [
        "✅ Use Case: Word Counter in a Sentence\n",
        "\n",
        "Problem Context:\n",
        "\n",
        "In many text-processing tasks (e.g., writing tools, chatbots, content analysis), you might want to count the number of words in a sentence.\n",
        "\n",
        "Creating a function for this makes your code reusable and clean."
      ],
      "metadata": {
        "id": "UVh6CGCYFYez"
      }
    },
    {
      "cell_type": "markdown",
      "source": [
        "# Solution"
      ],
      "metadata": {
        "id": "4l4O7mifFg5d"
      }
    },
    {
      "cell_type": "code",
      "source": [
        "def count_words(sentence):\n",
        "    words = sentence.split()\n",
        "    return len(words)\n",
        "\n",
        "# Test the function\n",
        "text = \"Python is fun and powerful!\"\n",
        "word_count = count_words(text)\n",
        "print(f\"Number of words: {word_count}\")\n"
      ],
      "metadata": {
        "colab": {
          "base_uri": "https://localhost:8080/"
        },
        "id": "RtiYoo_DFdQ_",
        "outputId": "fb2c1e91-4cf8-4eee-ec10-13edc726b2fe"
      },
      "execution_count": 3,
      "outputs": [
        {
          "output_type": "stream",
          "name": "stdout",
          "text": [
            "Number of words: 5\n"
          ]
        }
      ]
    },
    {
      "cell_type": "markdown",
      "source": [
        "# zip function"
      ],
      "metadata": {
        "id": "_D9LfP7ff4dX"
      }
    },
    {
      "cell_type": "markdown",
      "source": [
        "- The zip() function in Python is used to combine two or more iterables\n"
      ],
      "metadata": {
        "id": "wF2OIT3lf7tS"
      }
    },
    {
      "cell_type": "code",
      "source": [
        "# Iterable object\n",
        "list1 = [1, 2, 3]\n",
        "list2 = ['a', 'b', 'c']\n",
        "\n",
        "result = zip(list1, list2)\n",
        "l= list(result)\n",
        "print(l)\n",
        "print(type(result))\n",
        "print(len(l))"
      ],
      "metadata": {
        "colab": {
          "base_uri": "https://localhost:8080/"
        },
        "id": "Mv0C6UijSC1y",
        "outputId": "8030414f-ef8f-4a02-a7de-a2455ccce813"
      },
      "execution_count": null,
      "outputs": [
        {
          "output_type": "stream",
          "name": "stdout",
          "text": [
            "[(1, 'a'), (2, 'b'), (3, 'c')]\n",
            "<class 'zip'>\n",
            "3\n"
          ]
        }
      ]
    },
    {
      "cell_type": "code",
      "source": [
        "for i in l:\n",
        "  print(i)"
      ],
      "metadata": {
        "colab": {
          "base_uri": "https://localhost:8080/"
        },
        "id": "Lg1W_hSnUkDv",
        "outputId": "a053a7fc-b191-471b-e2b7-85031c5a78aa"
      },
      "execution_count": null,
      "outputs": [
        {
          "output_type": "stream",
          "name": "stdout",
          "text": [
            "(1, 'a')\n",
            "(2, 'b')\n",
            "(3, 'c')\n"
          ]
        }
      ]
    },
    {
      "cell_type": "code",
      "source": [
        "# len of zip function equal the minimum len of iterable object\n",
        "list1 = [1, 2, 3]\n",
        "list2 = ['a', 'b', 'c' , 'e','f']\n",
        "\n",
        "result = zip(list1, list2)\n",
        "l= list(result)\n",
        "print(l)\n",
        "print(type(result))\n",
        "print(len(l))"
      ],
      "metadata": {
        "colab": {
          "base_uri": "https://localhost:8080/"
        },
        "id": "Jb7gRzuPg3wh",
        "outputId": "b2623b98-d318-4be3-d22c-f5566935df2a"
      },
      "execution_count": null,
      "outputs": [
        {
          "output_type": "stream",
          "name": "stdout",
          "text": [
            "[(1, 'a'), (2, 'b'), (3, 'c')]\n",
            "<class 'zip'>\n",
            "3\n"
          ]
        }
      ]
    },
    {
      "cell_type": "markdown",
      "source": [
        "# Exception Error"
      ],
      "metadata": {
        "id": "qWvflZRZhbL5"
      }
    },
    {
      "cell_type": "markdown",
      "source": [
        "In Python, exceptions are runtime errors that occur during the execution of a program. When an exception occurs, it disrupts the normal flow of the program. Python provides a robust mechanism to handle these errors and take appropriate action to prevent the program from crashing.\n",
        "\n"
      ],
      "metadata": {
        "id": "ieT2wvWJhukZ"
      }
    },
    {
      "cell_type": "code",
      "source": [
        "print(\"=============Before Exception Error===================\")\n",
        "age = -20\n",
        "print(\"Age:\" , age)\n",
        "\n",
        "# No syntax error but the value of age not logical , so that we must raise an error\n",
        "print(\"=============After Exception Error===================\")\n",
        "\n",
        "age = -20\n",
        "if age <=0:\n",
        "  raise Exception(\"Invalid value , Enter Positive number\")\n",
        "print(\"Age:\" , age)\n",
        "\n",
        "\n"
      ],
      "metadata": {
        "colab": {
          "base_uri": "https://localhost:8080/"
        },
        "id": "gqjcrUe8hQaG",
        "outputId": "94d4830d-33d4-439d-8a52-a96cadeffeef"
      },
      "execution_count": null,
      "outputs": [
        {
          "output_type": "stream",
          "name": "stdout",
          "text": [
            "=============Before Exception Error===================\n",
            "Age: -20\n",
            "=============After Exception Error===================\n"
          ]
        }
      ]
    },
    {
      "cell_type": "code",
      "source": [
        "# Types of error\n",
        "# ===================== ValueError ===================\n",
        "def set_age(age):\n",
        "    if age < 0:\n",
        "        raise ValueError(\"Age cannot be negative!\")\n",
        "    print(f\"Age set to {age}\")\n",
        "\n",
        "set_age(-5)  # This will raise a ValueError"
      ],
      "metadata": {
        "id": "3iYi1UUkmLci"
      },
      "execution_count": null,
      "outputs": []
    },
    {
      "cell_type": "code",
      "source": [
        "# ===================== TypeError ===================\n",
        "\n",
        "def add_numbers(a, b):\n",
        "    if not isinstance(a, (int, float)) or not isinstance(b, (int, float)):\n",
        "        raise TypeError(\"Both arguments must be numbers!\")\n",
        "    return a + b\n",
        "\n",
        "add_numbers(5, \"ten\")  # This will raise a TypeError"
      ],
      "metadata": {
        "id": "-aZw0tqJoLgM"
      },
      "execution_count": null,
      "outputs": []
    },
    {
      "cell_type": "code",
      "source": [
        "# ===================== ZeroDivisionError ===================\n",
        "\n",
        "a = 10\n",
        "b = 0\n",
        "if b == 0:\n",
        "    raise ZeroDivisionError(\"Division by zero is not allowed!\")"
      ],
      "metadata": {
        "id": "lsNYTjl5phvR"
      },
      "execution_count": null,
      "outputs": []
    },
    {
      "cell_type": "markdown",
      "source": [
        "# Exception Handling"
      ],
      "metadata": {
        "id": "5u5Xr9x7qNkz"
      }
    },
    {
      "cell_type": "markdown",
      "source": [
        "#### Structure and Explanation\n",
        "- try Block\n",
        "   - Contains the code that might raise an exception.\n",
        "   - If no exception occurs, the program proceeds normally.\n",
        "\n",
        "- except Block\n",
        "  - Handles the exception if one occurs in the try block.\n",
        "  - You can specify the type of exception to handle specific errors.\n",
        "\n",
        "- else Block (Optional)\n",
        "  - Executes only if the try block runs without raising any exception.\n",
        "  \n",
        "- finally Block (Optional)\n",
        "Always executes, regardless of whether an exception occurred or not.\n",
        "Commonly used for cleanup actions like closing files or releasing resources."
      ],
      "metadata": {
        "id": "-PVbfdhqradi"
      }
    },
    {
      "cell_type": "code",
      "source": [
        "# Exception Handling used to handle errors\n",
        "try:\n",
        "    num = int(input(\"Enter a number: \"))\n",
        "    result = 10 / num\n",
        "except ValueError:\n",
        "    print(\"You must enter a valid number!\")\n",
        "except ZeroDivisionError:\n",
        "    print(\"You cannot divide by zero!\")\n",
        "else:\n",
        "    print(f\"Result is: {result}\")\n",
        "finally:\n",
        "    print(\"Execution complete.\")\n"
      ],
      "metadata": {
        "colab": {
          "base_uri": "https://localhost:8080/"
        },
        "id": "g7EPsGVuqP8Q",
        "outputId": "519b0e51-b585-4878-9548-4bb716c7e2bb"
      },
      "execution_count": 2,
      "outputs": [
        {
          "output_type": "stream",
          "name": "stdout",
          "text": [
            "Enter a number: 10\n",
            "Result is: 1.0\n",
            "Execution complete.\n"
          ]
        }
      ]
    },
    {
      "cell_type": "code",
      "source": [
        "# Predefined username and password\n",
        "username = \"admin\"\n",
        "password = \"1234\"\n",
        "\n",
        "try:\n",
        "    # Get user input\n",
        "    entered_username = input(\"Enter username: \")\n",
        "    entered_password = input(\"Enter password: \")\n",
        "\n",
        "    # Check if the username and password match\n",
        "    if entered_username != username:\n",
        "        raise ValueError(\"Invalid username.\")\n",
        "    if entered_password != password:\n",
        "        raise ValueError(\"Invalid password.\")\n",
        "except ValueError :\n",
        "    # If there's a ValueError (invalid username/password), print the error message\n",
        "    print(f\"Login failed\")\n",
        "else:\n",
        "    # If no exception was raised, login is successful\n",
        "    print(\"Login successful!\")\n",
        "finally:\n",
        "    # This block will always execute\n",
        "    print(\"Login attempt finished.\")\n"
      ],
      "metadata": {
        "colab": {
          "base_uri": "https://localhost:8080/"
        },
        "id": "18VEGoEMr3QM",
        "outputId": "1820e206-22b3-41e3-d79c-2d7bf3639a06"
      },
      "execution_count": 4,
      "outputs": [
        {
          "output_type": "stream",
          "name": "stdout",
          "text": [
            "Enter username: sss\n",
            "Enter password: 233\n",
            "Login failed\n",
            "Login attempt finished.\n"
          ]
        }
      ]
    },
    {
      "cell_type": "markdown",
      "source": [
        "✅ Use Case: User Input Validation (Convert String to Integer)\n",
        "\n",
        "🎯 Problem Context:\n",
        "When taking input from a user, we often expect a number — but the user might enter something invalid like \"abc\" instead. This would normally crash the program unless we handle the error."
      ],
      "metadata": {
        "id": "Pfe4zKt0Gazg"
      }
    },
    {
      "cell_type": "markdown",
      "source": [
        "# Solution"
      ],
      "metadata": {
        "id": "uoIGKsPEGgFe"
      }
    },
    {
      "cell_type": "code",
      "source": [
        "def get_integer():\n",
        "    try:\n",
        "        value = int(input(\"Enter an integer: \"))\n",
        "        print(\"You entered:\", value)\n",
        "    except ValueError:\n",
        "        print(\"Invalid input! Please enter a valid integer.\")\n",
        "\n",
        "# Test the function\n",
        "get_integer()\n"
      ],
      "metadata": {
        "colab": {
          "base_uri": "https://localhost:8080/"
        },
        "id": "BfyAVpvlGfBj",
        "outputId": "6d85a440-08ac-460f-f9d6-61fdd8ea407f"
      },
      "execution_count": 5,
      "outputs": [
        {
          "output_type": "stream",
          "name": "stdout",
          "text": [
            "Enter an integer: 123e\n",
            "Invalid input! Please enter a valid integer.\n"
          ]
        }
      ]
    },
    {
      "cell_type": "markdown",
      "source": [
        "# Type Hinting"
      ],
      "metadata": {
        "id": "mBoTjCHEtcr3"
      }
    },
    {
      "cell_type": "markdown",
      "source": [
        "Type hinting in Python is a way to indicate the type of variables, function arguments, and return values. It helps make the code more readable and easier to understand by providing hints about what kind of data is expected, although Python itself does not enforce the types.\n",
        "\n"
      ],
      "metadata": {
        "id": "Og-7F8HfuV4r"
      }
    },
    {
      "cell_type": "code",
      "source": [
        "# A function that takes two integers and returns an integer\n",
        "def add_numbers(a, b) -> int:\n",
        "    return a + b\n",
        "\n",
        "# A function that takes a string and returns a string\n",
        "def greet(name) -> str:\n",
        "    return f\"Hello, {name}!\"\n",
        "\n",
        "add_numbers(\"aa\" , \"bb\")\n",
        "greet(2)"
      ],
      "metadata": {
        "colab": {
          "base_uri": "https://localhost:8080/",
          "height": 35
        },
        "id": "UTtCvO6ttLIm",
        "outputId": "0e2b0f7f-4e55-4f30-e54a-b1539382d31c"
      },
      "execution_count": null,
      "outputs": [
        {
          "output_type": "execute_result",
          "data": {
            "text/plain": [
              "'Hello, 2!'"
            ],
            "application/vnd.google.colaboratory.intrinsic+json": {
              "type": "string"
            }
          },
          "metadata": {},
          "execution_count": 125
        }
      ]
    },
    {
      "cell_type": "code",
      "source": [
        "from typing import Union\n",
        "\n",
        "# A function that accepts either an integer or a string\n",
        "def process_input(data ,info ) -> Union[int, str]:\n",
        "  print(data , info)\n",
        "process_input(33.7 , \"info\")"
      ],
      "metadata": {
        "colab": {
          "base_uri": "https://localhost:8080/"
        },
        "id": "NfT42ei9uqAA",
        "outputId": "bc16471d-685a-4324-ddc4-86f66ef1e636"
      },
      "execution_count": null,
      "outputs": [
        {
          "output_type": "stream",
          "name": "stdout",
          "text": [
            "33.7 info\n"
          ]
        }
      ]
    },
    {
      "cell_type": "markdown",
      "source": [
        "📝 Project Title: Student Grade Tracker\n",
        "\n",
        "🎯 Use Case:\n",
        "A small school or tutor wants a way to input student names and their grades, store them, and compute simple statistics like average grade, highest/lowest grades, etc.\n",
        "\n",
        "\n",
        "🛠️ Features:\n",
        "Add student names and their grades\n",
        "\n",
        "Calculate class average\n",
        "\n",
        "Display highest and lowest grades\n",
        "\n",
        "Show all student records\n",
        "\n"
      ],
      "metadata": {
        "id": "yyd0WKIVdK3P"
      }
    },
    {
      "cell_type": "code",
      "source": [
        "# Student Grade Tracker\n",
        "\n",
        "students = {}\n",
        "\n",
        "def add_student():\n",
        "    name = input(\"Enter student name: \")\n",
        "    grade = float(input(\"Enter student grade (0-100): \"))\n",
        "    students[name] = grade\n",
        "    print(f\"{name}'s grade recorded.\\n\")\n",
        "\n",
        "def show_all_students():\n",
        "    print(\"\\n--- Student Records ---\")\n",
        "    for name, grade in students.items():\n",
        "        print(f\"{name}: {grade}\")\n",
        "    print()\n",
        "\n",
        "def show_statistics():\n",
        "    if not students:\n",
        "        print(\"No student data available.\\n\")\n",
        "        return\n",
        "\n",
        "    grades = list(students.values())\n",
        "    average = sum(grades) / len(grades)\n",
        "    highest = max(grades)\n",
        "    lowest = min(grades)\n",
        "\n",
        "    print(\"\\n--- Class Statistics ---\")\n",
        "    print(f\"Average grade: {average:.2f}\")\n",
        "    print(f\"Highest grade: {highest}\")\n",
        "    print(f\"Lowest grade: {lowest}\\n\")\n",
        "\n",
        "def menu():\n",
        "    while True:\n",
        "        print(\"1. Add Student\")\n",
        "        print(\"2. Show All Students\")\n",
        "        print(\"3. Show Statistics\")\n",
        "        print(\"4. Exit\")\n",
        "        choice = input(\"Choose an option (1-4): \")\n",
        "\n",
        "        if choice == '1':\n",
        "            add_student()\n",
        "        elif choice == '2':\n",
        "            show_all_students()\n",
        "        elif choice == '3':\n",
        "            show_statistics()\n",
        "        elif choice == '4':\n",
        "            print(\"Goodbye!\")\n",
        "            break\n",
        "        else:\n",
        "            print(\"Invalid choice. Try again.\\n\")\n",
        "\n",
        "# Start the program\n",
        "menu()"
      ],
      "metadata": {
        "colab": {
          "base_uri": "https://localhost:8080/"
        },
        "id": "3WGby0i8cMN-",
        "outputId": "f3f1b146-a271-4a90-b893-47fa0766a8f2"
      },
      "execution_count": 6,
      "outputs": [
        {
          "output_type": "stream",
          "name": "stdout",
          "text": [
            "1. Add Student\n",
            "2. Show All Students\n",
            "3. Show Statistics\n",
            "4. Exit\n",
            "Choose an option (1-4): 1\n",
            "Enter student name: Ali\n",
            "Enter student grade (0-100): 22\n",
            "Ali's grade recorded.\n",
            "\n",
            "1. Add Student\n",
            "2. Show All Students\n",
            "3. Show Statistics\n",
            "4. Exit\n",
            "Choose an option (1-4): 1\n",
            "Enter student name: Mostafa\n",
            "Enter student grade (0-100): 100\n",
            "Mostafa's grade recorded.\n",
            "\n",
            "1. Add Student\n",
            "2. Show All Students\n",
            "3. Show Statistics\n",
            "4. Exit\n",
            "Choose an option (1-4): 2\n",
            "\n",
            "--- Student Records ---\n",
            "Ali: 22.0\n",
            "Mostafa: 100.0\n",
            "\n",
            "1. Add Student\n",
            "2. Show All Students\n",
            "3. Show Statistics\n",
            "4. Exit\n",
            "Choose an option (1-4): 3\n",
            "\n",
            "--- Class Statistics ---\n",
            "Average grade: 61.00\n",
            "Highest grade: 100.0\n",
            "Lowest grade: 22.0\n",
            "\n",
            "1. Add Student\n",
            "2. Show All Students\n",
            "3. Show Statistics\n",
            "4. Exit\n",
            "Choose an option (1-4): 4\n",
            "Goodbye!\n"
          ]
        }
      ]
    },
    {
      "cell_type": "code",
      "source": [],
      "metadata": {
        "id": "NWjcDtggHZIT"
      },
      "execution_count": null,
      "outputs": []
    }
  ]
}